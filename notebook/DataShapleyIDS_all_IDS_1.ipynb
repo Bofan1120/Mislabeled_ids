{
  "nbformat": 4,
  "nbformat_minor": 0,
  "metadata": {
    "accelerator": "GPU",
    "colab": {
      "name": "DataShapleyIDS_all_IDS_1.ipynb",
      "provenance": [],
      "collapsed_sections": [
        "5AeuXqXehFis",
        "-3kk4hp_SDUc",
        "uw8c_y8xE75n",
        "N-hZa5fTN0Qj",
        "39XCIQqtbse-",
        "NNRdC0YX2xKt",
        "IVeuC5WS3teb",
        "-giOuY2Z4OSD",
        "XBT6c6pn_lbd"
      ],
      "machine_shape": "hm"
    },
    "kernelspec": {
      "display_name": "Python 3",
      "name": "python3"
    },
    "language_info": {
      "name": "python"
    }
  },
  "cells": [
    {
      "cell_type": "code",
      "metadata": {
        "id": "ru1KRiOjauQN",
        "colab": {
          "base_uri": "https://localhost:8080/"
        },
        "outputId": "88e28653-4f55-4b04-e9ca-2e7639c25318"
      },
      "source": [
        "%tensorflow_version 1.x"
      ],
      "execution_count": null,
      "outputs": [
        {
          "output_type": "stream",
          "name": "stdout",
          "text": [
            "TensorFlow 1.x selected.\n"
          ]
        }
      ]
    },
    {
      "cell_type": "code",
      "metadata": {
        "colab": {
          "base_uri": "https://localhost:8080/"
        },
        "id": "fkdYvC1NJwH_",
        "outputId": "2af141b1-801c-49a1-9bae-c19430808290"
      },
      "source": [
        "!git clone https://github.com/amiratag/DataShapley.git"
      ],
      "execution_count": null,
      "outputs": [
        {
          "output_type": "stream",
          "name": "stdout",
          "text": [
            "Cloning into 'DataShapley'...\n",
            "remote: Enumerating objects: 79, done.\u001b[K\n",
            "remote: Counting objects: 100% (3/3), done.\u001b[K\n",
            "remote: Compressing objects: 100% (3/3), done.\u001b[K\n",
            "remote: Total 79 (delta 0), reused 2 (delta 0), pack-reused 76\u001b[K\n",
            "Unpacking objects: 100% (79/79), done.\n"
          ]
        }
      ]
    },
    {
      "cell_type": "code",
      "metadata": {
        "id": "Va3WOYfeha-Z"
      },
      "source": [
        "import os\n",
        "os.chdir(\"DataShapley\")"
      ],
      "execution_count": null,
      "outputs": []
    },
    {
      "cell_type": "code",
      "metadata": {
        "colab": {
          "base_uri": "https://localhost:8080/"
        },
        "id": "J8XT7dV8ptgY",
        "outputId": "ee087cde-1ae6-4b94-e565-b8a331e005ae"
      },
      "source": [
        "\n",
        "\n",
        "from DShap import DShap\n",
        "%load_ext autoreload\n",
        "%autoreload 2\n",
        "import os\n",
        "import sys\n",
        "import time\n",
        "import numpy as np\n",
        "import matplotlib.pyplot as plt\n",
        "import sklearn\n",
        "from Shapley import ShapNN\n",
        "\n",
        "from shap_utils import *\n",
        "%matplotlib inline\n",
        "import sys\n",
        "import time\n",
        "import numpy as np\n",
        "from Shapley import ShapNN\n",
        "from DShap import DShap\n",
        "import matplotlib.pyplot as plt\n",
        "import sklearn\n",
        "from shap_utils import *\n",
        "import pandas as pd\n",
        "import numpy as np\n",
        "from sklearn.model_selection import train_test_split\n",
        "from sklearn.preprocessing import StandardScaler\n",
        "from sklearn.preprocessing import LabelEncoder\n",
        "from sklearn.metrics import accuracy_score\n",
        "import sklearn.ensemble\n",
        "import random\n",
        "from math import ceil\n",
        "\n",
        "from google.colab import drive\n",
        "drive.mount('/gdrive')"
      ],
      "execution_count": null,
      "outputs": [
        {
          "output_type": "stream",
          "name": "stdout",
          "text": [
            "Mounted at /gdrive\n"
          ]
        }
      ]
    },
    {
      "cell_type": "code",
      "metadata": {
        "id": "iSfz6Q6spQw1"
      },
      "source": [
        "df = pd.read_csv('/gdrive/My Drive/CICIDS2017/dataset/cicids2017_merge.csv')"
      ],
      "execution_count": null,
      "outputs": []
    },
    {
      "cell_type": "markdown",
      "metadata": {
        "id": "5AeuXqXehFis"
      },
      "source": [
        "####Dataset info\n",
        "\n"
      ]
    },
    {
      "cell_type": "code",
      "metadata": {
        "colab": {
          "base_uri": "https://localhost:8080/"
        },
        "id": "Ri3pXcI2AIlY",
        "outputId": "cd53c740-20ff-4184-b8b5-676eea8cbbc4"
      },
      "source": [
        "df.shape"
      ],
      "execution_count": null,
      "outputs": [
        {
          "output_type": "execute_result",
          "data": {
            "text/plain": [
              "(2827876, 71)"
            ]
          },
          "metadata": {},
          "execution_count": 23
        }
      ]
    },
    {
      "cell_type": "code",
      "metadata": {
        "colab": {
          "base_uri": "https://localhost:8080/"
        },
        "id": "gy5ttnb5bYN6",
        "outputId": "2b1b86d5-d3ff-4e03-cec4-cc49e0f4daea"
      },
      "source": [
        "df['Label'].value_counts()[0]"
      ],
      "execution_count": null,
      "outputs": [
        {
          "output_type": "execute_result",
          "data": {
            "text/plain": [
              "2271320"
            ]
          },
          "metadata": {},
          "execution_count": 17
        }
      ]
    },
    {
      "cell_type": "code",
      "metadata": {
        "colab": {
          "base_uri": "https://localhost:8080/"
        },
        "id": "s21Mdcl_6uDu",
        "outputId": "f5794018-3549-4c74-9f7b-cb6434697c19"
      },
      "source": [
        "df['Label'].value_counts().index"
      ],
      "execution_count": null,
      "outputs": [
        {
          "output_type": "execute_result",
          "data": {
            "text/plain": [
              "Index(['BENIGN', 'DoS Hulk', 'PortScan', 'DDoS', 'DoS GoldenEye',\n",
              "       'FTP-Patator', 'SSH-Patator', 'DoS slowloris', 'DoS Slowhttptest',\n",
              "       'Bot', 'Web Attack Brute Force', 'Web Attack XSS', 'Infiltration',\n",
              "       'Web Attack Sql Injection', 'Heartbleed'],\n",
              "      dtype='object')"
            ]
          },
          "metadata": {},
          "execution_count": 167
        }
      ]
    },
    {
      "cell_type": "code",
      "metadata": {
        "id": "T-GavMrJdYy4"
      },
      "source": [
        "label_list = ['BENIGN', 'DoS Hulk', 'PortScan', 'DDoS', 'Other attacks']\n",
        "size = list(df['Label'].value_counts())[0:4] + [sum(list(df['Label'].value_counts())[4:])]\n",
        "#color = [\"red\", \"green\", \"blue\"]\n",
        "\n",
        "plt.figure(figsize=(10, 10))\n",
        "plt.pie(size, labels=label_list, labeldistance=1.1, autopct=\"%1.1f%%\", shadow=False, startangle=90, pctdistance=0.6)\n",
        "plt.axis(\"equal\")    # 设置横轴和纵轴大小相等，这样饼才是圆的\n",
        "plt.legend()\n",
        "plt.show()"
      ],
      "execution_count": null,
      "outputs": []
    },
    {
      "cell_type": "code",
      "metadata": {
        "id": "RRJGZl5wS2np"
      },
      "source": [
        "df.columns.values"
      ],
      "execution_count": null,
      "outputs": []
    },
    {
      "cell_type": "markdown",
      "metadata": {
        "id": "-3kk4hp_SDUc"
      },
      "source": [
        "####preprocessing"
      ]
    },
    {
      "cell_type": "code",
      "metadata": {
        "id": "oTHu_HIuZDJa",
        "colab": {
          "base_uri": "https://localhost:8080/",
          "height": 215
        },
        "outputId": "2b21920e-c12b-4185-f43a-64aa2af21b50"
      },
      "source": [
        "df.columns[~(df != 0).any(axis=0)]\n",
        "df = df.loc[:, (df != 0).any(axis=0)]\n",
        "df.replace([-np.inf, np.inf], np.nan, inplace=True)\n",
        "df.dropna(inplace=True)"
      ],
      "execution_count": null,
      "outputs": [
        {
          "output_type": "error",
          "ename": "NameError",
          "evalue": "ignored",
          "traceback": [
            "\u001b[0;31m---------------------------------------------------------------------------\u001b[0m",
            "\u001b[0;31mNameError\u001b[0m                                 Traceback (most recent call last)",
            "\u001b[0;32m<ipython-input-5-fff688ce0611>\u001b[0m in \u001b[0;36m<module>\u001b[0;34m()\u001b[0m\n\u001b[0;32m----> 1\u001b[0;31m \u001b[0mdf\u001b[0m\u001b[0;34m.\u001b[0m\u001b[0mcolumns\u001b[0m\u001b[0;34m[\u001b[0m\u001b[0;34m~\u001b[0m\u001b[0;34m(\u001b[0m\u001b[0mdf\u001b[0m \u001b[0;34m!=\u001b[0m \u001b[0;36m0\u001b[0m\u001b[0;34m)\u001b[0m\u001b[0;34m.\u001b[0m\u001b[0many\u001b[0m\u001b[0;34m(\u001b[0m\u001b[0maxis\u001b[0m\u001b[0;34m=\u001b[0m\u001b[0;36m0\u001b[0m\u001b[0;34m)\u001b[0m\u001b[0;34m]\u001b[0m\u001b[0;34m\u001b[0m\u001b[0;34m\u001b[0m\u001b[0m\n\u001b[0m\u001b[1;32m      2\u001b[0m \u001b[0mdf\u001b[0m \u001b[0;34m=\u001b[0m \u001b[0mdf\u001b[0m\u001b[0;34m.\u001b[0m\u001b[0mloc\u001b[0m\u001b[0;34m[\u001b[0m\u001b[0;34m:\u001b[0m\u001b[0;34m,\u001b[0m \u001b[0;34m(\u001b[0m\u001b[0mdf\u001b[0m \u001b[0;34m!=\u001b[0m \u001b[0;36m0\u001b[0m\u001b[0;34m)\u001b[0m\u001b[0;34m.\u001b[0m\u001b[0many\u001b[0m\u001b[0;34m(\u001b[0m\u001b[0maxis\u001b[0m\u001b[0;34m=\u001b[0m\u001b[0;36m0\u001b[0m\u001b[0;34m)\u001b[0m\u001b[0;34m]\u001b[0m\u001b[0;34m\u001b[0m\u001b[0;34m\u001b[0m\u001b[0m\n\u001b[1;32m      3\u001b[0m \u001b[0mdf\u001b[0m\u001b[0;34m.\u001b[0m\u001b[0mreplace\u001b[0m\u001b[0;34m(\u001b[0m\u001b[0;34m[\u001b[0m\u001b[0;34m-\u001b[0m\u001b[0mnp\u001b[0m\u001b[0;34m.\u001b[0m\u001b[0minf\u001b[0m\u001b[0;34m,\u001b[0m \u001b[0mnp\u001b[0m\u001b[0;34m.\u001b[0m\u001b[0minf\u001b[0m\u001b[0;34m]\u001b[0m\u001b[0;34m,\u001b[0m \u001b[0mnp\u001b[0m\u001b[0;34m.\u001b[0m\u001b[0mnan\u001b[0m\u001b[0;34m,\u001b[0m \u001b[0minplace\u001b[0m\u001b[0;34m=\u001b[0m\u001b[0;32mTrue\u001b[0m\u001b[0;34m)\u001b[0m\u001b[0;34m\u001b[0m\u001b[0;34m\u001b[0m\u001b[0m\n\u001b[1;32m      4\u001b[0m \u001b[0mdf\u001b[0m\u001b[0;34m.\u001b[0m\u001b[0mdropna\u001b[0m\u001b[0;34m(\u001b[0m\u001b[0minplace\u001b[0m\u001b[0;34m=\u001b[0m\u001b[0;32mTrue\u001b[0m\u001b[0;34m)\u001b[0m\u001b[0;34m\u001b[0m\u001b[0;34m\u001b[0m\u001b[0m\n",
            "\u001b[0;31mNameError\u001b[0m: name 'df' is not defined"
          ]
        }
      ]
    },
    {
      "cell_type": "code",
      "metadata": {
        "id": "1jZauImVV7q3"
      },
      "source": [
        "df.shape"
      ],
      "execution_count": null,
      "outputs": []
    },
    {
      "cell_type": "markdown",
      "metadata": {
        "id": "uw8c_y8xE75n"
      },
      "source": [
        "####select feautures"
      ]
    },
    {
      "cell_type": "code",
      "metadata": {
        "id": "I9U9eeK0_Z50"
      },
      "source": [
        "from sklearn.model_selection import train_test_split\n",
        "from sklearn.preprocessing import StandardScaler\n",
        "from sklearn.preprocessing import MinMaxScaler\n",
        "from sklearn.preprocessing import LabelEncoder\n",
        "from sklearn.ensemble import RandomForestClassifier\n",
        "import pandas as pd"
      ],
      "execution_count": null,
      "outputs": []
    },
    {
      "cell_type": "code",
      "metadata": {
        "id": "_SXCDjHMSRyC"
      },
      "source": [
        "selected_label = ['BENIGN', 'DoS Hulk', 'PortScan', 'DDoS', 'DoS GoldenEye',\n",
        "       'FTP-Patator', 'SSH-Patator', 'DoS slowloris', 'DoS Slowhttptest',\n",
        "       'Bot', 'Web Attack Brute Force', 'Web Attack XSS', 'Infiltration',\n",
        "       'Web Attack Sql Injection', 'Heartbleed']\n",
        "df_num = 2000\n"
      ],
      "execution_count": null,
      "outputs": []
    },
    {
      "cell_type": "code",
      "metadata": {
        "colab": {
          "base_uri": "https://localhost:8080/"
        },
        "id": "OEdKd3MUe19E",
        "outputId": "ac809ce9-6a2c-411d-89d1-325b865f00d5"
      },
      "source": [
        "df.columns"
      ],
      "execution_count": null,
      "outputs": [
        {
          "output_type": "execute_result",
          "data": {
            "text/plain": [
              "Index(['Destination Port', 'Flow Duration', 'Total Fwd Packets',\n",
              "       'Total Backward Packets', 'Total Length of Fwd Packets',\n",
              "       'Total Length of Bwd Packets', 'Fwd Packet Length Max',\n",
              "       'Fwd Packet Length Min', 'Fwd Packet Length Mean',\n",
              "       'Fwd Packet Length Std', 'Bwd Packet Length Max',\n",
              "       'Bwd Packet Length Min', 'Bwd Packet Length Mean',\n",
              "       'Bwd Packet Length Std', 'Flow Bytes/s', 'Flow Packets/s',\n",
              "       'Flow IAT Mean', 'Flow IAT Std', 'Flow IAT Max', 'Flow IAT Min',\n",
              "       'Fwd IAT Total', 'Fwd IAT Mean', 'Fwd IAT Std', 'Fwd IAT Max',\n",
              "       'Fwd IAT Min', 'Bwd IAT Total', 'Bwd IAT Mean', 'Bwd IAT Std',\n",
              "       'Bwd IAT Max', 'Bwd IAT Min', 'Fwd PSH Flags', 'Fwd URG Flags',\n",
              "       'Fwd Header Length', 'Bwd Header Length', 'Fwd Packets/s',\n",
              "       'Bwd Packets/s', 'Min Packet Length', 'Max Packet Length',\n",
              "       'Packet Length Mean', 'Packet Length Std', 'Packet Length Variance',\n",
              "       'FIN Flag Count', 'SYN Flag Count', 'RST Flag Count', 'PSH Flag Count',\n",
              "       'ACK Flag Count', 'URG Flag Count', 'CWE Flag Count', 'ECE Flag Count',\n",
              "       'Down/Up Ratio', 'Average Packet Size', 'Avg Fwd Segment Size',\n",
              "       'Avg Bwd Segment Size', 'Fwd Header Length.1', 'Subflow Fwd Packets',\n",
              "       'Subflow Fwd Bytes', 'Subflow Bwd Packets', 'Subflow Bwd Bytes',\n",
              "       'Init_Win_bytes_forward', 'Init_Win_bytes_backward', 'act_data_pkt_fwd',\n",
              "       'min_seg_size_forward', 'Active Mean', 'Active Std', 'Active Max',\n",
              "       'Active Min', 'Idle Mean', 'Idle Std', 'Idle Max', 'Idle Min', 'Label'],\n",
              "      dtype='object')"
            ]
          },
          "metadata": {},
          "execution_count": 18
        }
      ]
    },
    {
      "cell_type": "code",
      "metadata": {
        "id": "4ZEgLyFvfG2a"
      },
      "source": [
        "['Packet Length Std' , 'Avg Bwd Segment Size', 'Bwd Packet Length Std', 'Bwd Packet Length Mean',\n",
        " 'Destination Port', 'Average Packet Size', 'Packet Length Variance', 'Bwd Packet Length Max',\n",
        " 'Fwd Packet Length Max', 'Max Packet Length', 'Init_Win_bytes_forward','Packet Length Mean',\n",
        " 'Subflow Fwd Packets', 'Fwd Packet Length Mean', 'Total Length of Fwd Packets', 'Avg Fwd Segment Size']"
      ],
      "execution_count": null,
      "outputs": []
    },
    {
      "cell_type": "code",
      "metadata": {
        "id": "c-BbqA5JSchf"
      },
      "source": [
        "seed = 1\n",
        "df = df.sample(frac=1, random_state=seed).reset_index(drop=True)"
      ],
      "execution_count": null,
      "outputs": []
    },
    {
      "cell_type": "code",
      "metadata": {
        "colab": {
          "base_uri": "https://localhost:8080/",
          "height": 490
        },
        "id": "IzXsOwSOTLXD",
        "outputId": "ab5a1636-e624-444a-dbc5-2aa66aba5791"
      },
      "source": [
        "df"
      ],
      "execution_count": null,
      "outputs": [
        {
          "output_type": "execute_result",
          "data": {
            "text/html": [
              "<div>\n",
              "<style scoped>\n",
              "    .dataframe tbody tr th:only-of-type {\n",
              "        vertical-align: middle;\n",
              "    }\n",
              "\n",
              "    .dataframe tbody tr th {\n",
              "        vertical-align: top;\n",
              "    }\n",
              "\n",
              "    .dataframe thead th {\n",
              "        text-align: right;\n",
              "    }\n",
              "</style>\n",
              "<table border=\"1\" class=\"dataframe\">\n",
              "  <thead>\n",
              "    <tr style=\"text-align: right;\">\n",
              "      <th></th>\n",
              "      <th>Packet Length Std</th>\n",
              "      <th>Destination Port</th>\n",
              "      <th>Fwd Packet Length Max</th>\n",
              "      <th>Init_Win_bytes_forward</th>\n",
              "      <th>Subflow Fwd Packets</th>\n",
              "      <th>Fwd Packet Length Mean</th>\n",
              "      <th>Total Length of Fwd Packets</th>\n",
              "      <th>Avg Fwd Segment Size</th>\n",
              "      <th>Label</th>\n",
              "    </tr>\n",
              "  </thead>\n",
              "  <tbody>\n",
              "    <tr>\n",
              "      <th>0</th>\n",
              "      <td>0.000000</td>\n",
              "      <td>54865</td>\n",
              "      <td>6</td>\n",
              "      <td>33</td>\n",
              "      <td>2</td>\n",
              "      <td>6.0</td>\n",
              "      <td>12</td>\n",
              "      <td>6.0</td>\n",
              "      <td>BENIGN</td>\n",
              "    </tr>\n",
              "    <tr>\n",
              "      <th>1</th>\n",
              "      <td>0.000000</td>\n",
              "      <td>55054</td>\n",
              "      <td>6</td>\n",
              "      <td>29</td>\n",
              "      <td>1</td>\n",
              "      <td>6.0</td>\n",
              "      <td>6</td>\n",
              "      <td>6.0</td>\n",
              "      <td>BENIGN</td>\n",
              "    </tr>\n",
              "    <tr>\n",
              "      <th>2</th>\n",
              "      <td>0.000000</td>\n",
              "      <td>55055</td>\n",
              "      <td>6</td>\n",
              "      <td>29</td>\n",
              "      <td>1</td>\n",
              "      <td>6.0</td>\n",
              "      <td>6</td>\n",
              "      <td>6.0</td>\n",
              "      <td>BENIGN</td>\n",
              "    </tr>\n",
              "    <tr>\n",
              "      <th>3</th>\n",
              "      <td>0.000000</td>\n",
              "      <td>46236</td>\n",
              "      <td>6</td>\n",
              "      <td>31</td>\n",
              "      <td>1</td>\n",
              "      <td>6.0</td>\n",
              "      <td>6</td>\n",
              "      <td>6.0</td>\n",
              "      <td>BENIGN</td>\n",
              "    </tr>\n",
              "    <tr>\n",
              "      <th>4</th>\n",
              "      <td>0.000000</td>\n",
              "      <td>54863</td>\n",
              "      <td>6</td>\n",
              "      <td>32</td>\n",
              "      <td>2</td>\n",
              "      <td>6.0</td>\n",
              "      <td>12</td>\n",
              "      <td>6.0</td>\n",
              "      <td>BENIGN</td>\n",
              "    </tr>\n",
              "    <tr>\n",
              "      <th>...</th>\n",
              "      <td>...</td>\n",
              "      <td>...</td>\n",
              "      <td>...</td>\n",
              "      <td>...</td>\n",
              "      <td>...</td>\n",
              "      <td>...</td>\n",
              "      <td>...</td>\n",
              "      <td>...</td>\n",
              "      <td>...</td>\n",
              "    </tr>\n",
              "    <tr>\n",
              "      <th>2830738</th>\n",
              "      <td>23.421602</td>\n",
              "      <td>53</td>\n",
              "      <td>28</td>\n",
              "      <td>-1</td>\n",
              "      <td>4</td>\n",
              "      <td>28.0</td>\n",
              "      <td>112</td>\n",
              "      <td>28.0</td>\n",
              "      <td>BENIGN</td>\n",
              "    </tr>\n",
              "    <tr>\n",
              "      <th>2830739</th>\n",
              "      <td>76.133435</td>\n",
              "      <td>53</td>\n",
              "      <td>42</td>\n",
              "      <td>-1</td>\n",
              "      <td>2</td>\n",
              "      <td>42.0</td>\n",
              "      <td>84</td>\n",
              "      <td>42.0</td>\n",
              "      <td>BENIGN</td>\n",
              "    </tr>\n",
              "    <tr>\n",
              "      <th>2830740</th>\n",
              "      <td>16.350331</td>\n",
              "      <td>58030</td>\n",
              "      <td>31</td>\n",
              "      <td>1006</td>\n",
              "      <td>2</td>\n",
              "      <td>15.5</td>\n",
              "      <td>31</td>\n",
              "      <td>15.5</td>\n",
              "      <td>BENIGN</td>\n",
              "    </tr>\n",
              "    <tr>\n",
              "      <th>2830741</th>\n",
              "      <td>42.332021</td>\n",
              "      <td>53</td>\n",
              "      <td>32</td>\n",
              "      <td>-1</td>\n",
              "      <td>6</td>\n",
              "      <td>32.0</td>\n",
              "      <td>192</td>\n",
              "      <td>32.0</td>\n",
              "      <td>BENIGN</td>\n",
              "    </tr>\n",
              "    <tr>\n",
              "      <th>2830742</th>\n",
              "      <td>32.204702</td>\n",
              "      <td>53</td>\n",
              "      <td>47</td>\n",
              "      <td>-1</td>\n",
              "      <td>4</td>\n",
              "      <td>47.0</td>\n",
              "      <td>188</td>\n",
              "      <td>47.0</td>\n",
              "      <td>BENIGN</td>\n",
              "    </tr>\n",
              "  </tbody>\n",
              "</table>\n",
              "<p>2827876 rows × 9 columns</p>\n",
              "</div>"
            ],
            "text/plain": [
              "         Packet Length Std  Destination Port  ...  Avg Fwd Segment Size   Label\n",
              "0                 0.000000             54865  ...                   6.0  BENIGN\n",
              "1                 0.000000             55054  ...                   6.0  BENIGN\n",
              "2                 0.000000             55055  ...                   6.0  BENIGN\n",
              "3                 0.000000             46236  ...                   6.0  BENIGN\n",
              "4                 0.000000             54863  ...                   6.0  BENIGN\n",
              "...                    ...               ...  ...                   ...     ...\n",
              "2830738          23.421602                53  ...                  28.0  BENIGN\n",
              "2830739          76.133435                53  ...                  42.0  BENIGN\n",
              "2830740          16.350331             58030  ...                  15.5  BENIGN\n",
              "2830741          42.332021                53  ...                  32.0  BENIGN\n",
              "2830742          32.204702                53  ...                  47.0  BENIGN\n",
              "\n",
              "[2827876 rows x 9 columns]"
            ]
          },
          "metadata": {},
          "execution_count": 48
        }
      ]
    },
    {
      "cell_type": "code",
      "metadata": {
        "colab": {
          "base_uri": "https://localhost:8080/"
        },
        "id": "eenbXubdge1l",
        "outputId": "45f1b707-8db9-43c4-c405-c2b6fdeea15c"
      },
      "source": [
        "df['Label'].value_counts()"
      ],
      "execution_count": null,
      "outputs": [
        {
          "output_type": "execute_result",
          "data": {
            "text/plain": [
              "BENIGN                      2271320\n",
              "DoS Hulk                     230124\n",
              "PortScan                     158804\n",
              "DDoS                         128025\n",
              "DoS GoldenEye                 10293\n",
              "FTP-Patator                    7935\n",
              "SSH-Patator                    5897\n",
              "DoS slowloris                  5796\n",
              "DoS Slowhttptest               5499\n",
              "Bot                            1956\n",
              "Web Attack Brute Force         1507\n",
              "Web Attack XSS                  652\n",
              "Infiltration                     36\n",
              "Web Attack Sql Injection         21\n",
              "Heartbleed                       11\n",
              "Name: Label, dtype: int64"
            ]
          },
          "metadata": {},
          "execution_count": 9
        }
      ]
    },
    {
      "cell_type": "code",
      "metadata": {
        "id": "StXhtSq6TPFX"
      },
      "source": [
        "#for i in range(len(selected_label)):\n",
        "df = pd.concat([df[df['Label'] == selected_label[i]][:int(df_num*df['Label'].value_counts()[i]/df.shape[0])] for i in range(len(selected_label))])\n",
        "#df = pd.concat([df[df['Label'] == selected_label[0]][:df_num], df[df['Label'] == selected_label[1]][:df_num]])"
      ],
      "execution_count": null,
      "outputs": []
    },
    {
      "cell_type": "markdown",
      "metadata": {
        "id": "1vm7V_LLNu24"
      },
      "source": [
        "#####robust"
      ]
    },
    {
      "cell_type": "code",
      "metadata": {
        "colab": {
          "base_uri": "https://localhost:8080/"
        },
        "id": "4MAewfSTN4s_",
        "outputId": "ea3786f6-1b13-4941-aa1f-9e236f9a6468"
      },
      "source": [
        "train_set, test_set = train_test_split(df, test_size=0.3, random_state=seed)\n",
        "train_X = train_set.drop('Label', axis=1)\n",
        "train_y = train_set[['Label']]\n",
        "test_X = test_set.drop('Label', axis=1)\n",
        "test_y = test_set[['Label']]\n",
        "\n",
        "#Scaler = StandardScaler()\n",
        "Scaler = MinMaxScaler()\n",
        "train_X = Scaler.fit_transform(train_X)\n",
        "test_X = Scaler.transform(test_X)\n",
        "\n",
        "encode = LabelEncoder()\n",
        "test_y = encode.fit_transform(test_y)\n",
        "train_y = encode.fit_transform(train_y)"
      ],
      "execution_count": null,
      "outputs": [
        {
          "output_type": "stream",
          "name": "stderr",
          "text": [
            "/usr/local/lib/python3.7/dist-packages/sklearn/preprocessing/_label.py:251: DataConversionWarning: A column-vector y was passed when a 1d array was expected. Please change the shape of y to (n_samples, ), for example using ravel().\n",
            "  y = column_or_1d(y, warn=True)\n"
          ]
        }
      ]
    },
    {
      "cell_type": "code",
      "metadata": {
        "id": "RyWpynXbOG2k"
      },
      "source": [
        "def nwrate(a, b, c, d, wrate):\n",
        "  for i in random.sample(list(np.arange(0,len(c))), int(len(c) * wrate)):\n",
        "    c[i] = abs(c[i] - 1)\n",
        "  model = RandomForestClassifier(n_estimators=50, random_state=0)\n",
        "  model.fit(a, c)\n",
        "  pred_y = model.predict(b)\n",
        "  return accuracy_score(d, pred_y)"
      ],
      "execution_count": null,
      "outputs": []
    },
    {
      "cell_type": "code",
      "metadata": {
        "colab": {
          "base_uri": "https://localhost:8080/"
        },
        "id": "oZnAysVePBLs",
        "outputId": "758ccc05-db45-44b0-a8e5-cc311527b4b5"
      },
      "source": [
        "acc_result = []\n",
        "s = time.time()\n",
        "for i in range(0, 105, 5):\n",
        "  c = train_y.copy()\n",
        "  acc_result.append(nwrate(train_X, test_X, c, test_y, i/100))\n",
        "print(time.time() - s)"
      ],
      "execution_count": null,
      "outputs": [
        {
          "output_type": "stream",
          "name": "stdout",
          "text": [
            "878.0175371170044\n"
          ]
        }
      ]
    },
    {
      "cell_type": "code",
      "metadata": {
        "colab": {
          "base_uri": "https://localhost:8080/"
        },
        "id": "sTbsbI9uSlAU",
        "outputId": "f782faad-6bd8-4d33-9636-918d144f24a0"
      },
      "source": [
        "acc_result"
      ],
      "execution_count": null,
      "outputs": [
        {
          "output_type": "execute_result",
          "data": {
            "text/plain": [
              "[0.9998666666666667,\n",
              " 0.9952833333333333,\n",
              " 0.9876833333333334,\n",
              " 0.97145,\n",
              " 0.9492333333333334,\n",
              " 0.9176333333333333,\n",
              " 0.86315,\n",
              " 0.7973833333333333,\n",
              " 0.7205166666666667,\n",
              " 0.6181333333333333,\n",
              " 0.50595,\n",
              " 0.3902833333333333,\n",
              " 0.28476666666666667,\n",
              " 0.20216666666666666,\n",
              " 0.13451666666666667,\n",
              " 0.08686666666666666,\n",
              " 0.052816666666666665,\n",
              " 0.029433333333333332,\n",
              " 0.013683333333333334,\n",
              " 0.0052833333333333335,\n",
              " 0.00013333333333333334]"
            ]
          },
          "metadata": {},
          "execution_count": 128
        }
      ]
    },
    {
      "cell_type": "code",
      "metadata": {
        "colab": {
          "base_uri": "https://localhost:8080/",
          "height": 295
        },
        "id": "cx2J_tOYT9Uy",
        "outputId": "7baa8c9b-33c9-405f-d4af-2bffffaa8c39"
      },
      "source": [
        "plt.plot([i/100 for i in range(0, 105, 5)], acc_result, 'r', label='Performance')\n",
        "\n",
        "plt.xlim(0, 1)\n",
        "plt.title('DDOS and BENIGN random forest model perforamnce')\n",
        "plt.xlabel('Modify ratio')\n",
        "plt.ylabel('Accuracy')\n",
        "plt.legend()\n",
        "plt.show()"
      ],
      "execution_count": null,
      "outputs": [
        {
          "output_type": "display_data",
          "data": {
            "image/png": "[encoded data removed]",
            "text/plain": [
              "<Figure size 432x288 with 1 Axes>"
            ]
          },
          "metadata": {
            "needs_background": "light"
          }
        }
      ]
    },
    {
      "cell_type": "code",
      "metadata": {
        "colab": {
          "base_uri": "https://localhost:8080/"
        },
        "id": "P1y-ULUuKwNW",
        "outputId": "e1fcf9cd-9d7f-4000-dfaf-71d8b19142d7"
      },
      "source": [
        "from sklearn.tree import DecisionTreeRegressor\n",
        "regressor = DecisionTreeRegressor()\n",
        "regressor.fit(np.array(acc_result).reshape(-1, 1), [i/100 for i in range(0, 105, 5)])"
      ],
      "execution_count": null,
      "outputs": [
        {
          "output_type": "execute_result",
          "data": {
            "text/plain": [
              "DecisionTreeRegressor(ccp_alpha=0.0, criterion='mse', max_depth=None,\n",
              "                      max_features=None, max_leaf_nodes=None,\n",
              "                      min_impurity_decrease=0.0, min_impurity_split=None,\n",
              "                      min_samples_leaf=1, min_samples_split=2,\n",
              "                      min_weight_fraction_leaf=0.0, presort='deprecated',\n",
              "                      random_state=None, splitter='best')"
            ]
          },
          "metadata": {},
          "execution_count": 181
        }
      ]
    },
    {
      "cell_type": "code",
      "metadata": {
        "colab": {
          "base_uri": "https://localhost:8080/"
        },
        "id": "A4YKq_KaLqf_",
        "outputId": "0e41f48d-00a5-4a85-f98b-b34676ae4aec"
      },
      "source": [
        "result = regressor.predict(np.array(0.978).reshape(-1,1))\n",
        "result"
      ],
      "execution_count": null,
      "outputs": [
        {
          "output_type": "execute_result",
          "data": {
            "text/plain": [
              "array([0.15])"
            ]
          },
          "metadata": {},
          "execution_count": 206
        }
      ]
    },
    {
      "cell_type": "code",
      "metadata": {
        "colab": {
          "base_uri": "https://localhost:8080/",
          "height": 295
        },
        "id": "3uGN5ioUL08J",
        "outputId": "f1fd8b74-c018-4604-bbf1-d05c428d7a40"
      },
      "source": [
        "plt.plot([i/100 for i in range(0, 105, 5)], result, 'r', label='Performance')\n",
        "\n",
        "plt.xlim(0, 1)\n",
        "plt.title('DDOS and BENIGN random forest model perforamnce')\n",
        "plt.xlabel('Modify ratio')\n",
        "plt.ylabel('Accuracy')\n",
        "plt.legend()\n",
        "plt.show()"
      ],
      "execution_count": null,
      "outputs": [
        {
          "output_type": "display_data",
          "data": {
            "image/png": "[encoded data removed]",
            "text/plain": [
              "<Figure size 432x288 with 1 Axes>"
            ]
          },
          "metadata": {
            "needs_background": "light"
          }
        }
      ]
    },
    {
      "cell_type": "code",
      "metadata": {
        "colab": {
          "base_uri": "https://localhost:8080/"
        },
        "id": "_Jlweh02Mitx",
        "outputId": "76a54470-db20-41f0-8653-87b31f4127d9"
      },
      "source": [
        "from sklearn.metrics import mean_squared_error\n",
        "rms = mean_squared_error(acc_result, result, squared=False)\n",
        "rms"
      ],
      "execution_count": null,
      "outputs": [
        {
          "output_type": "execute_result",
          "data": {
            "text/plain": [
              "0.0"
            ]
          },
          "metadata": {},
          "execution_count": 167
        }
      ]
    },
    {
      "cell_type": "markdown",
      "metadata": {
        "id": "N-hZa5fTN0Qj"
      },
      "source": [
        "#####importance"
      ]
    },
    {
      "cell_type": "code",
      "metadata": {
        "colab": {
          "base_uri": "https://localhost:8080/"
        },
        "id": "5X-b1YdM_iWV",
        "outputId": "635a2fcc-7bbf-4d48-970b-7d86d4fe853b"
      },
      "source": [
        "train_set, test_set = train_test_split(df, test_size=0.3, random_state=1)\n",
        "train_X = train_set.drop('Label', axis=1)\n",
        "train_y = train_set[['Label']]\n",
        "test_X = test_set.drop('Label', axis=1)\n",
        "test_y = test_set[['Label']]\n",
        "\n",
        "#Scaler = StandardScaler()\n",
        "Scaler = MinMaxScaler()\n",
        "train_X = Scaler.fit_transform(train_X)\n",
        "test_X = Scaler.transform(test_X)\n",
        "\n",
        "encode = LabelEncoder()\n",
        "test_y = encode.fit_transform(test_y)\n",
        "train_y = encode.fit_transform(train_y)"
      ],
      "execution_count": null,
      "outputs": [
        {
          "output_type": "stream",
          "name": "stderr",
          "text": [
            "/usr/local/lib/python3.7/dist-packages/sklearn/preprocessing/_label.py:251: DataConversionWarning: A column-vector y was passed when a 1d array was expected. Please change the shape of y to (n_samples, ), for example using ravel().\n",
            "  y = column_or_1d(y, warn=True)\n"
          ]
        }
      ]
    },
    {
      "cell_type": "code",
      "metadata": {
        "colab": {
          "base_uri": "https://localhost:8080/"
        },
        "id": "0colysDro18W",
        "outputId": "4f866b07-7f49-4645-f635-670e48232c50"
      },
      "source": [
        "encode.fit_transform(selected_label)"
      ],
      "execution_count": null,
      "outputs": [
        {
          "output_type": "execute_result",
          "data": {
            "text/plain": [
              "array([ 0,  4, 10,  2,  3,  7, 11,  6,  5,  1, 12, 14,  9, 13,  8])"
            ]
          },
          "metadata": {},
          "execution_count": 62
        }
      ]
    },
    {
      "cell_type": "code",
      "metadata": {
        "colab": {
          "base_uri": "https://localhost:8080/"
        },
        "id": "sJVLRTbMgW28",
        "outputId": "5b095c3c-c79f-4597-f025-0e139429648e"
      },
      "source": [
        "train_set.shape"
      ],
      "execution_count": null,
      "outputs": [
        {
          "output_type": "execute_result",
          "data": {
            "text/plain": [
              "(1979513, 9)"
            ]
          },
          "metadata": {},
          "execution_count": 63
        }
      ]
    },
    {
      "cell_type": "code",
      "metadata": {
        "colab": {
          "base_uri": "https://localhost:8080/"
        },
        "id": "gK4L7j0Zl0iU",
        "outputId": "88916a3e-0a6a-4028-e4d5-a2a012fc3563"
      },
      "source": [
        "df.columns.values[:-1]"
      ],
      "execution_count": null,
      "outputs": [
        {
          "output_type": "execute_result",
          "data": {
            "text/plain": [
              "array(['Packet Length Std', 'Destination Port', 'Fwd Packet Length Max',\n",
              "       'Init_Win_bytes_forward', 'Subflow Fwd Packets',\n",
              "       'Fwd Packet Length Mean', 'Total Length of Fwd Packets',\n",
              "       'Avg Fwd Segment Size'], dtype=object)"
            ]
          },
          "metadata": {},
          "execution_count": 46
        }
      ]
    },
    {
      "cell_type": "code",
      "metadata": {
        "id": "umKZQz3wcMOh"
      },
      "source": [
        "forest_importances  = pd.Series([0]*len(df.columns.values[:-1]), index=df.columns.values[:-1])\n",
        "\n",
        "model = RandomForestClassifier(n_estimators=50, random_state=seed)\n",
        "model.fit(train_X, train_y)\n",
        "forest_importances += pd.Series(model.feature_importances_, index=df.columns.values[:-1])"
      ],
      "execution_count": null,
      "outputs": []
    },
    {
      "cell_type": "code",
      "metadata": {
        "colab": {
          "base_uri": "https://localhost:8080/"
        },
        "id": "xfO1uzxDmAhq",
        "outputId": "3ac1dbf3-68f8-4a68-acb6-33daf7c35a8e"
      },
      "source": [
        "model.feature_importances_"
      ],
      "execution_count": null,
      "outputs": [
        {
          "output_type": "execute_result",
          "data": {
            "text/plain": [
              "array([0.32142708, 0.11044745, 0.10959339, 0.15108808, 0.08795794,\n",
              "       0.07955787, 0.07673987, 0.06318833])"
            ]
          },
          "metadata": {},
          "execution_count": 51
        }
      ]
    },
    {
      "cell_type": "code",
      "metadata": {
        "id": "t-kv3hog_8GM",
        "colab": {
          "base_uri": "https://localhost:8080/",
          "height": 266
        },
        "outputId": "23a81904-e47d-4ade-9055-64b97a522cd7"
      },
      "source": [
        "forest_importances  = pd.Series([0]*len(df.columns.values[:-1]), index=df.columns.values[:-1])\n",
        "for i in range(10):\n",
        "  model = RandomForestClassifier(n_estimators=50, random_state=i)\n",
        "  model.fit(train_X, train_y)\n",
        "  forest_importances += pd.Series(model.feature_importances_, index=df.columns.values[:-1])"
      ],
      "execution_count": null,
      "outputs": [
        {
          "output_type": "error",
          "ename": "NameError",
          "evalue": "ignored",
          "traceback": [
            "\u001b[0;31m---------------------------------------------------------------------------\u001b[0m",
            "\u001b[0;31mNameError\u001b[0m                                 Traceback (most recent call last)",
            "\u001b[0;32m<ipython-input-14-56aa9bf12fda>\u001b[0m in \u001b[0;36m<module>\u001b[0;34m()\u001b[0m\n\u001b[1;32m      1\u001b[0m \u001b[0mforest_importances\u001b[0m  \u001b[0;34m=\u001b[0m \u001b[0mpd\u001b[0m\u001b[0;34m.\u001b[0m\u001b[0mSeries\u001b[0m\u001b[0;34m(\u001b[0m\u001b[0;34m[\u001b[0m\u001b[0;36m0\u001b[0m\u001b[0;34m]\u001b[0m\u001b[0;34m*\u001b[0m\u001b[0mlen\u001b[0m\u001b[0;34m(\u001b[0m\u001b[0mdf\u001b[0m\u001b[0;34m.\u001b[0m\u001b[0mcolumns\u001b[0m\u001b[0;34m.\u001b[0m\u001b[0mvalues\u001b[0m\u001b[0;34m[\u001b[0m\u001b[0;34m:\u001b[0m\u001b[0;34m-\u001b[0m\u001b[0;36m1\u001b[0m\u001b[0;34m]\u001b[0m\u001b[0;34m)\u001b[0m\u001b[0;34m,\u001b[0m \u001b[0mindex\u001b[0m\u001b[0;34m=\u001b[0m\u001b[0mdf\u001b[0m\u001b[0;34m.\u001b[0m\u001b[0mcolumns\u001b[0m\u001b[0;34m.\u001b[0m\u001b[0mvalues\u001b[0m\u001b[0;34m[\u001b[0m\u001b[0;34m:\u001b[0m\u001b[0;34m-\u001b[0m\u001b[0;36m1\u001b[0m\u001b[0;34m]\u001b[0m\u001b[0;34m)\u001b[0m\u001b[0;34m\u001b[0m\u001b[0;34m\u001b[0m\u001b[0m\n\u001b[1;32m      2\u001b[0m \u001b[0;31m#for i in range(10):\u001b[0m\u001b[0;34m\u001b[0m\u001b[0;34m\u001b[0m\u001b[0;34m\u001b[0m\u001b[0m\n\u001b[0;32m----> 3\u001b[0;31m \u001b[0mmodel\u001b[0m \u001b[0;34m=\u001b[0m \u001b[0mRandomForestClassifier\u001b[0m\u001b[0;34m(\u001b[0m\u001b[0mn_estimators\u001b[0m\u001b[0;34m=\u001b[0m\u001b[0;36m50\u001b[0m\u001b[0;34m,\u001b[0m \u001b[0mrandom_state\u001b[0m\u001b[0;34m=\u001b[0m\u001b[0mi\u001b[0m\u001b[0;34m)\u001b[0m\u001b[0;34m\u001b[0m\u001b[0;34m\u001b[0m\u001b[0m\n\u001b[0m\u001b[1;32m      4\u001b[0m \u001b[0mmodel\u001b[0m\u001b[0;34m.\u001b[0m\u001b[0mfit\u001b[0m\u001b[0;34m(\u001b[0m\u001b[0mtrain_X\u001b[0m\u001b[0;34m,\u001b[0m \u001b[0mtrain_y\u001b[0m\u001b[0;34m)\u001b[0m\u001b[0;34m\u001b[0m\u001b[0;34m\u001b[0m\u001b[0m\n\u001b[1;32m      5\u001b[0m \u001b[0mforest_importances\u001b[0m \u001b[0;34m+=\u001b[0m \u001b[0mpd\u001b[0m\u001b[0;34m.\u001b[0m\u001b[0mSeries\u001b[0m\u001b[0;34m(\u001b[0m\u001b[0mmodel\u001b[0m\u001b[0;34m.\u001b[0m\u001b[0mfeature_importances_\u001b[0m\u001b[0;34m,\u001b[0m \u001b[0mindex\u001b[0m\u001b[0;34m=\u001b[0m\u001b[0mdf\u001b[0m\u001b[0;34m.\u001b[0m\u001b[0mcolumns\u001b[0m\u001b[0;34m.\u001b[0m\u001b[0mvalues\u001b[0m\u001b[0;34m[\u001b[0m\u001b[0;34m:\u001b[0m\u001b[0;34m-\u001b[0m\u001b[0;36m1\u001b[0m\u001b[0;34m]\u001b[0m\u001b[0;34m)\u001b[0m\u001b[0;34m\u001b[0m\u001b[0;34m\u001b[0m\u001b[0m\n",
            "\u001b[0;31mNameError\u001b[0m: name 'i' is not defined"
          ]
        }
      ]
    },
    {
      "cell_type": "code",
      "metadata": {
        "id": "jn_07GoNcq-H"
      },
      "source": [
        "forest_importances = forest_importances.sort_values(ascending=False)"
      ],
      "execution_count": null,
      "outputs": []
    },
    {
      "cell_type": "code",
      "metadata": {
        "id": "fZ9MrZjddtVb"
      },
      "source": [
        "forest_importances "
      ],
      "execution_count": null,
      "outputs": []
    },
    {
      "cell_type": "code",
      "metadata": {
        "id": "v7diOOpdcrdp"
      },
      "source": [
        "fig, ax = plt.subplots()\n",
        "\n",
        "forest_importances.plot.bar(ax=ax)\n",
        "fig.tight_layout()\n",
        "plt.show()"
      ],
      "execution_count": null,
      "outputs": []
    },
    {
      "cell_type": "code",
      "metadata": {
        "id": "Krvb_NsFc64s"
      },
      "source": [
        "selected_features = list(forest_importances.index)+['Label']\n",
        "selected_features"
      ],
      "execution_count": null,
      "outputs": []
    },
    {
      "cell_type": "code",
      "metadata": {
        "id": "1Fp9n6xpgTy9"
      },
      "source": [
        "import seaborn as sns"
      ],
      "execution_count": null,
      "outputs": []
    },
    {
      "cell_type": "code",
      "metadata": {
        "id": "JDjESkXBhWkY"
      },
      "source": [
        "# df = df[['Avg Fwd Segment Size',\n",
        "#  'Fwd Packet Length Max',\n",
        "#  'Fwd Packet Length Mean',\n",
        "#  'act_data_pkt_fwd',\n",
        "#  'Total Fwd Packets',\n",
        "#  'Total Length of Fwd Packets',\n",
        "#  'Fwd Header Length.1',\n",
        "#  'Subflow Fwd Packets',\n",
        "#  'Fwd Header Length',\n",
        "#  'Subflow Fwd Bytes',\n",
        "#  'Label']]\n",
        "df = df[['Packet Length Std' , \n",
        " 'Destination Port',  \n",
        " 'Fwd Packet Length Max', 'Init_Win_bytes_forward',\n",
        " 'Subflow Fwd Packets', 'Fwd Packet Length Mean', 'Total Length of Fwd Packets', 'Avg Fwd Segment Size',\n",
        " 'Label']]"
      ],
      "execution_count": null,
      "outputs": []
    },
    {
      "cell_type": "code",
      "metadata": {
        "id": "0YCbjOUXgQZ8",
        "colab": {
          "base_uri": "https://localhost:8080/",
          "height": 506
        },
        "outputId": "05d482dc-c41c-4e4d-c194-d2028a6dba0a"
      },
      "source": [
        "corr = df.corr()\n",
        "corr\n",
        "sns.heatmap(corr, xticklabels=corr.columns.values, yticklabels=corr.columns.values, annot=True, annot_kws={'size':12})\n",
        "heat_map=plt.gcf()\n",
        "heat_map.set_size_inches(10,6)\n",
        "plt.xticks(fontsize=10)\n",
        "plt.yticks(fontsize=10)\n",
        "plt.show()"
      ],
      "execution_count": null,
      "outputs": [
        {
          "output_type": "display_data",
          "data": {
            "image/png": "[encoded data removed]",
            "text/plain": [
              "<Figure size 720x432 with 2 Axes>"
            ]
          },
          "metadata": {
            "needs_background": "light"
          }
        }
      ]
    },
    {
      "cell_type": "markdown",
      "metadata": {
        "id": "39XCIQqtbse-"
      },
      "source": [
        "####Evaluation\n"
      ]
    },
    {
      "cell_type": "code",
      "metadata": {
        "id": "7ao7e3Ezbse_",
        "colab": {
          "base_uri": "https://localhost:8080/"
        },
        "outputId": "63a8cdac-fe0f-4db5-8f23-1e32c8545c66"
      },
      "source": [
        "import tensorflow as tf\n",
        "#importing confusion matrix\n",
        "from sklearn.metrics import confusion_matrix\n",
        "from sklearn.metrics import classification_report\n",
        "\n",
        "from sklearn import metrics\n",
        "from sklearn.metrics import accuracy_score\n",
        "\n",
        "#importing accuracy_score, precision_score, recall_score, f1_score\n",
        "from sklearn.metrics import accuracy_score, precision_score, recall_score, f1_score\n",
        "from sklearn.metrics import mean_squared_error,mean_absolute_error\n",
        "METRICS = [\n",
        "      tf.keras.metrics.TruePositives(name='tp'),\n",
        "      tf.keras.metrics.FalsePositives(name='fp'),\n",
        "      tf.keras.metrics.TrueNegatives(name='tn'),\n",
        "      tf.keras.metrics.FalseNegatives(name='fn'), \n",
        "      tf.keras.metrics.BinaryAccuracy(name='accuracy'),\n",
        "      tf.keras.metrics.Precision(name='precision'),\n",
        "      tf.keras.metrics.Recall(name='recall'),\n",
        "      #tf.keras.metrics.AUC(name='auc'),\n",
        "]\n",
        "metrics=METRICS"
      ],
      "execution_count": null,
      "outputs": [
        {
          "output_type": "stream",
          "name": "stdout",
          "text": [
            "WARNING:tensorflow:From /tensorflow-1.15.2/python3.7/tensorflow_core/python/ops/resource_variable_ops.py:1630: calling BaseResourceVariable.__init__ (from tensorflow.python.ops.resource_variable_ops) with constraint is deprecated and will be removed in a future version.\n",
            "Instructions for updating:\n",
            "If using Keras pass *_constraint arguments to layers.\n"
          ]
        }
      ]
    },
    {
      "cell_type": "code",
      "metadata": {
        "id": "xj4b-TgHbse_"
      },
      "source": [
        "\n",
        "def display_metrics(y_test, y_pred, label_names):\n",
        "  print('\\nAccuracy: {:.4f}\\n'.format(accuracy_score(y_test, y_pred)))\n",
        "\n",
        "#\n",
        "\n",
        "  print('\\nClassification Report\\n')\n",
        "  print(classification_report(y_test, y_pred, target_names=label_names, digits=4))\n",
        "\n",
        "def make_value2index(attacks):\n",
        "    #make dictionary\n",
        "    attacks = sorted(attacks)\n",
        "    d = {}\n",
        "    counter=0\n",
        "    for attack in attacks:\n",
        "        d[attack] = counter\n",
        "        counter+=1\n",
        "    return d\n",
        "\n",
        "def encode_label(Y_str):\n",
        "    labels_d = make_value2index(np.unique(Y_str))\n",
        "    Y = [labels_d[y_str] for y_str  in Y_str]\n",
        "    Y = np.array(Y)\n",
        "    return np.array(Y)\n",
        "\n",
        "labels_d = make_value2index(df['Label']) "
      ],
      "execution_count": null,
      "outputs": []
    },
    {
      "cell_type": "code",
      "metadata": {
        "colab": {
          "base_uri": "https://localhost:8080/"
        },
        "id": "x-EY9W6Om2TZ",
        "outputId": "ff34d586-baf5-4767-fc11-bf4a448563ea"
      },
      "source": [
        "pd.Series(y_pred).value_counts()"
      ],
      "execution_count": null,
      "outputs": [
        {
          "output_type": "execute_result",
          "data": {
            "text/plain": [
              "0     682196\n",
              "4      69508\n",
              "10     47636\n",
              "2      38249\n",
              "3       3161\n",
              "7       2345\n",
              "11      1823\n",
              "5       1648\n",
              "6       1295\n",
              "1        430\n",
              "12        50\n",
              "9          8\n",
              "14         7\n",
              "8          5\n",
              "13         2\n",
              "dtype: int64"
            ]
          },
          "metadata": {},
          "execution_count": 59
        }
      ]
    },
    {
      "cell_type": "code",
      "metadata": {
        "id": "pHB00TxgoyH1"
      },
      "source": [
        ""
      ],
      "execution_count": null,
      "outputs": []
    },
    {
      "cell_type": "code",
      "metadata": {
        "colab": {
          "base_uri": "https://localhost:8080/"
        },
        "id": "OtZnszBrbse_",
        "outputId": "fe39ed6f-8c02-4c9e-fe4d-bcd2b0e1fc28"
      },
      "source": [
        "y_pred = model.predict(test_X)\n",
        "display_metrics(test_y, y_pred, labels_d)"
      ],
      "execution_count": null,
      "outputs": [
        {
          "output_type": "stream",
          "name": "stdout",
          "text": [
            "\n",
            "Accuracy: 0.9973\n",
            "\n",
            "\n",
            "Classification Report\n",
            "\n",
            "                          precision    recall  f1-score   support\n",
            "\n",
            "                  BENIGN     0.9978    0.9990    0.9984    681389\n",
            "                     Bot     0.9465    0.6993    0.8043       582\n",
            "                    DDoS     0.9995    0.9991    0.9993     38264\n",
            "           DoS GoldenEye     0.9699    0.9783    0.9741      3134\n",
            "                DoS Hulk     0.9954    0.9986    0.9970     69288\n",
            "        DoS Slowhttptest     0.9879    0.9915    0.9897      1642\n",
            "           DoS slowloris     0.9969    0.7196    0.8359      1794\n",
            "             FTP-Patator     1.0000    0.9962    0.9981      2354\n",
            "              Heartbleed     1.0000    0.8333    0.9091         6\n",
            "            Infiltration     1.0000    0.8000    0.8889        10\n",
            "                PortScan     0.9935    0.9983    0.9959     47408\n",
            "             SSH-Patator     1.0000    0.9989    0.9995      1825\n",
            "  Web Attack Brute Force     0.9600    0.1032    0.1864       465\n",
            "Web Attack Sql Injection     0.5000    0.1000    0.1667        10\n",
            "          Web Attack XSS     1.0000    0.0365    0.0704       192\n",
            "\n",
            "                accuracy                         0.9973    848363\n",
            "               macro avg     0.9565    0.7501    0.7876    848363\n",
            "            weighted avg     0.9973    0.9973    0.9969    848363\n",
            "\n"
          ]
        }
      ]
    },
    {
      "cell_type": "markdown",
      "metadata": {
        "id": "D35JBz2ugIS7"
      },
      "source": [
        "##DATA shapley"
      ]
    },
    {
      "cell_type": "markdown",
      "metadata": {
        "id": "YKm-IK4B8RtP"
      },
      "source": [
        "###sample data"
      ]
    },
    {
      "cell_type": "code",
      "metadata": {
        "id": "o9EnwtBOEst9"
      },
      "source": [
        "selected_features = ['Packet Length Std' , \n",
        " 'Destination Port',  \n",
        " 'Fwd Packet Length Max', 'Init_Win_bytes_forward',\n",
        " 'Subflow Fwd Packets', 'Fwd Packet Length Mean', 'Total Length of Fwd Packets', 'Avg Fwd Segment Size',\n",
        " 'Label']\n",
        "selected_label = ['BENIGN', 'DoS Hulk', 'PortScan', 'DDoS', 'DoS GoldenEye',\n",
        "       'FTP-Patator', 'SSH-Patator', 'DoS slowloris', 'DoS Slowhttptest',\n",
        "       'Bot', 'Web Attack Brute Force', 'Web Attack XSS', 'Infiltration',\n",
        "       'Web Attack Sql Injection', 'Heartbleed']\n",
        "df_num = 4000\n",
        "df = df[selected_features]"
      ],
      "execution_count": null,
      "outputs": []
    },
    {
      "cell_type": "code",
      "metadata": {
        "colab": {
          "base_uri": "https://localhost:8080/"
        },
        "id": "4lcyUJbytq38",
        "outputId": "08929834-0e70-433d-fe99-8edc60280430"
      },
      "source": [
        "df['Label'].value_counts()"
      ],
      "execution_count": null,
      "outputs": [
        {
          "output_type": "execute_result",
          "data": {
            "text/plain": [
              "BENIGN                      2271320\n",
              "DoS Hulk                     230124\n",
              "PortScan                     158804\n",
              "DDoS                         128025\n",
              "DoS GoldenEye                 10293\n",
              "FTP-Patator                    7935\n",
              "SSH-Patator                    5897\n",
              "DoS slowloris                  5796\n",
              "DoS Slowhttptest               5499\n",
              "Bot                            1956\n",
              "Web Attack Brute Force         1507\n",
              "Web Attack XSS                  652\n",
              "Infiltration                     36\n",
              "Web Attack Sql Injection         21\n",
              "Heartbleed                       11\n",
              "Name: Label, dtype: int64"
            ]
          },
          "metadata": {},
          "execution_count": 68
        }
      ]
    },
    {
      "cell_type": "code",
      "metadata": {
        "id": "ATcfqYDOE3-h"
      },
      "source": [
        "seed = 1\n",
        "df = df.sample(frac=1, random_state=seed).reset_index(drop=True)"
      ],
      "execution_count": null,
      "outputs": []
    },
    {
      "cell_type": "code",
      "metadata": {
        "id": "nxoJYsYQ-0zT"
      },
      "source": [
        "df1 = pd.concat([df[df['Label'] == selected_label[i]][:ceil(df_num*df['Label'].value_counts()[i]/df.shape[0])] for i in range(len(selected_label)-6)] )\n",
        "df2 = pd.concat([df[df['Label'] == selected_label[i]][:5] for i in range(len(selected_label)-6, len(selected_label))])\n",
        "df = pd.concat([df1, df2])"
      ],
      "execution_count": null,
      "outputs": []
    },
    {
      "cell_type": "code",
      "metadata": {
        "colab": {
          "base_uri": "https://localhost:8080/"
        },
        "id": "V2dEvXu5tZ1g",
        "outputId": "f8e11096-5d3f-41bc-c377-eea3afbb67af"
      },
      "source": [
        "df['Label'].value_counts()"
      ],
      "execution_count": null,
      "outputs": [
        {
          "output_type": "execute_result",
          "data": {
            "text/plain": [
              "BENIGN                      3213\n",
              "DoS Hulk                     326\n",
              "PortScan                     225\n",
              "DDoS                         182\n",
              "DoS GoldenEye                 15\n",
              "FTP-Patator                   12\n",
              "SSH-Patator                    9\n",
              "DoS slowloris                  9\n",
              "DoS Slowhttptest               8\n",
              "Web Attack Brute Force         5\n",
              "Web Attack Sql Injection       5\n",
              "Infiltration                   5\n",
              "Heartbleed                     5\n",
              "Web Attack XSS                 5\n",
              "Bot                            5\n",
              "Name: Label, dtype: int64"
            ]
          },
          "metadata": {},
          "execution_count": 71
        }
      ]
    },
    {
      "cell_type": "code",
      "metadata": {
        "colab": {
          "base_uri": "https://localhost:8080/"
        },
        "id": "vxplUaKevaAD",
        "outputId": "77c36159-dde4-4090-cd87-58489f6bcf61"
      },
      "source": [
        "df.shape"
      ],
      "execution_count": null,
      "outputs": [
        {
          "output_type": "execute_result",
          "data": {
            "text/plain": [
              "(4029, 9)"
            ]
          },
          "metadata": {},
          "execution_count": 72
        }
      ]
    },
    {
      "cell_type": "markdown",
      "metadata": {
        "id": "a76UYC-4Qgaw"
      },
      "source": [
        "parameters"
      ]
    },
    {
      "cell_type": "code",
      "metadata": {
        "id": "jx_Ki3RBQj48"
      },
      "source": [
        "trainsize = int(len(df)/2)\n",
        "num_group = 1\n",
        "test_size = 0.5\n",
        "num_test = int(len(df)*test_size/2)\n",
        "num_iteration = int(trainsize/num_group)*3"
      ],
      "execution_count": null,
      "outputs": []
    },
    {
      "cell_type": "code",
      "metadata": {
        "id": "fG0UjP7bg6g2"
      },
      "source": [
        "# df['Label'].value_counts().index[1]\n",
        "# dfb = df[df['Label'] == df['Label'].value_counts().index[0]]\n",
        "# dfd = df[df['Label'] == df['Label'].value_counts().index[1]]\n",
        "# df = dfb[:int(trainsize/(1-0.4)/2)].append(dfd[:int(trainsize/(1-0.4)/2)])\n",
        "# df.shape"
      ],
      "execution_count": null,
      "outputs": []
    },
    {
      "cell_type": "code",
      "metadata": {
        "id": "7yk8hbLHZMae"
      },
      "source": [
        "seed = 1\n",
        "train_set, test_set = train_test_split(df, test_size=test_size, random_state=seed)\n",
        "train_X = train_set.drop('Label', axis=1)\n",
        "train_y = train_set[['Label']]\n",
        "test_X = test_set.drop('Label', axis=1)\n",
        "test_y = test_set[['Label']]"
      ],
      "execution_count": null,
      "outputs": []
    },
    {
      "cell_type": "code",
      "metadata": {
        "id": "GAxSXVjkZXEr"
      },
      "source": [
        "from sklearn.preprocessing import StandardScaler"
      ],
      "execution_count": null,
      "outputs": []
    },
    {
      "cell_type": "code",
      "metadata": {
        "id": "FTJ1Ezv5ZZ0O"
      },
      "source": [
        "Scaler = StandardScaler()\n",
        "train_X = Scaler.fit_transform(train_X)\n",
        "test_X = Scaler.transform(test_X)"
      ],
      "execution_count": null,
      "outputs": []
    },
    {
      "cell_type": "code",
      "metadata": {
        "id": "jZA-bfpvZcsc"
      },
      "source": [
        "from sklearn.preprocessing import LabelEncoder"
      ],
      "execution_count": null,
      "outputs": []
    },
    {
      "cell_type": "code",
      "metadata": {
        "id": "15oGvgN6atED"
      },
      "source": [
        "encode = LabelEncoder()"
      ],
      "execution_count": null,
      "outputs": []
    },
    {
      "cell_type": "code",
      "metadata": {
        "colab": {
          "base_uri": "https://localhost:8080/"
        },
        "id": "46-MWNmYawMC",
        "outputId": "d4d5f9d4-1d36-4ac0-df15-ab33674dc3f8"
      },
      "source": [
        "test_y = encode.fit_transform(test_y)\n",
        "train_y = encode.fit_transform(train_y)"
      ],
      "execution_count": null,
      "outputs": [
        {
          "output_type": "stream",
          "name": "stderr",
          "text": [
            "/usr/local/lib/python3.7/dist-packages/sklearn/preprocessing/_label.py:251: DataConversionWarning: A column-vector y was passed when a 1d array was expected. Please change the shape of y to (n_samples, ), for example using ravel().\n",
            "  y = column_or_1d(y, warn=True)\n"
          ]
        }
      ]
    },
    {
      "cell_type": "code",
      "metadata": {
        "colab": {
          "base_uri": "https://localhost:8080/"
        },
        "id": "t6KVLqF0ynn4",
        "outputId": "32252c55-4b68-4c96-effe-fd0f1a9b06c1"
      },
      "source": [
        "encode.fit_transform(selected_label)"
      ],
      "execution_count": null,
      "outputs": [
        {
          "output_type": "execute_result",
          "data": {
            "text/plain": [
              "array([ 0,  4, 10,  2,  3,  7, 11,  6,  5,  1, 12, 14,  9, 13,  8])"
            ]
          },
          "metadata": {},
          "execution_count": 80
        }
      ]
    },
    {
      "cell_type": "code",
      "metadata": {
        "id": "1LKeR_rFb-Vv"
      },
      "source": [
        "wrate = 0.2"
      ],
      "execution_count": null,
      "outputs": []
    },
    {
      "cell_type": "code",
      "metadata": {
        "colab": {
          "base_uri": "https://localhost:8080/"
        },
        "id": "ovLefjnAc-JW",
        "outputId": "9e496339-adea-4778-c86f-11ca7748643c"
      },
      "source": [
        "train_y"
      ],
      "execution_count": null,
      "outputs": [
        {
          "output_type": "execute_result",
          "data": {
            "text/plain": [
              "array([0, 1, 0, 0, 1, 0, 1, 0, 0, 1])"
            ]
          },
          "metadata": {},
          "execution_count": 28
        }
      ]
    },
    {
      "cell_type": "code",
      "metadata": {
        "id": "4_EzWdeOZlg9"
      },
      "source": [
        "#random change label\n",
        "#random.seed(seed)\n",
        "mislabel_index = []\n",
        "for i in random.sample(list(np.arange(0,len(train_y))), int(len(train_y) * wrate)):\n",
        "  mislabel_index.append(i)\n",
        "  train_y[i] = abs(train_y[i] - 1)"
      ],
      "execution_count": null,
      "outputs": []
    },
    {
      "cell_type": "code",
      "metadata": {
        "colab": {
          "base_uri": "https://localhost:8080/",
          "height": 232
        },
        "id": "o3qmFqW56Gko",
        "outputId": "2144ce04-0659-4f9b-e840-27023a89d59d"
      },
      "source": [
        "#group changed label\n",
        "count = 0\n",
        "#random.seed(seed)\n",
        "begin = random.randint(0, int(len(train_y)*(1-wrate)))\n",
        "end = begin + int(len(train_y)*wrate)\n",
        "mislabel_index = [i for i in range(begin, end)]\n",
        "for i in range(begin, end):\n",
        "  train_y[i] = abs(train_y[i] - 1)\n",
        "  count +=1 \n"
      ],
      "execution_count": null,
      "outputs": [
        {
          "output_type": "error",
          "ename": "TypeError",
          "evalue": "ignored",
          "traceback": [
            "\u001b[0;31m---------------------------------------------------------------------------\u001b[0m",
            "\u001b[0;31mTypeError\u001b[0m                                 Traceback (most recent call last)",
            "\u001b[0;32m<ipython-input-34-e7085ffdc0be>\u001b[0m in \u001b[0;36m<module>\u001b[0;34m()\u001b[0m\n\u001b[1;32m      3\u001b[0m \u001b[0mbegin\u001b[0m \u001b[0;34m=\u001b[0m \u001b[0mrandom\u001b[0m\u001b[0;34m.\u001b[0m\u001b[0mrandint\u001b[0m\u001b[0;34m(\u001b[0m\u001b[0;36m0\u001b[0m\u001b[0;34m,\u001b[0m \u001b[0mint\u001b[0m\u001b[0;34m(\u001b[0m\u001b[0mlen\u001b[0m\u001b[0;34m(\u001b[0m\u001b[0mtrain_y\u001b[0m\u001b[0;34m)\u001b[0m\u001b[0;34m*\u001b[0m\u001b[0;34m(\u001b[0m\u001b[0;36m1\u001b[0m\u001b[0;34m-\u001b[0m\u001b[0mwrate\u001b[0m\u001b[0;34m)\u001b[0m\u001b[0;34m)\u001b[0m\u001b[0;34m)\u001b[0m\u001b[0;34m\u001b[0m\u001b[0;34m\u001b[0m\u001b[0m\n\u001b[1;32m      4\u001b[0m \u001b[0mend\u001b[0m \u001b[0;34m=\u001b[0m \u001b[0mbegin\u001b[0m \u001b[0;34m+\u001b[0m \u001b[0mint\u001b[0m\u001b[0;34m(\u001b[0m\u001b[0mlen\u001b[0m\u001b[0;34m(\u001b[0m\u001b[0mtrain_y\u001b[0m\u001b[0;34m)\u001b[0m\u001b[0;34m*\u001b[0m\u001b[0mwrate\u001b[0m\u001b[0;34m)\u001b[0m\u001b[0;34m\u001b[0m\u001b[0;34m\u001b[0m\u001b[0m\n\u001b[0;32m----> 5\u001b[0;31m \u001b[0mmislabel_index\u001b[0m \u001b[0;34m=\u001b[0m \u001b[0;34m[\u001b[0m\u001b[0mrange\u001b[0m\u001b[0;34m(\u001b[0m\u001b[0;34m)\u001b[0m\u001b[0;34m]\u001b[0m\u001b[0;34m\u001b[0m\u001b[0;34m\u001b[0m\u001b[0m\n\u001b[0m\u001b[1;32m      6\u001b[0m \u001b[0;32mfor\u001b[0m \u001b[0mi\u001b[0m \u001b[0;32min\u001b[0m \u001b[0mrange\u001b[0m\u001b[0;34m(\u001b[0m\u001b[0mbegin\u001b[0m\u001b[0;34m,\u001b[0m \u001b[0mend\u001b[0m\u001b[0;34m)\u001b[0m\u001b[0;34m:\u001b[0m\u001b[0;34m\u001b[0m\u001b[0;34m\u001b[0m\u001b[0m\n\u001b[1;32m      7\u001b[0m   \u001b[0mtrain_y\u001b[0m\u001b[0;34m[\u001b[0m\u001b[0mi\u001b[0m\u001b[0;34m]\u001b[0m \u001b[0;34m=\u001b[0m \u001b[0mabs\u001b[0m\u001b[0;34m(\u001b[0m\u001b[0mtrain_y\u001b[0m\u001b[0;34m[\u001b[0m\u001b[0mi\u001b[0m\u001b[0;34m]\u001b[0m \u001b[0;34m-\u001b[0m \u001b[0;36m1\u001b[0m\u001b[0;34m)\u001b[0m\u001b[0;34m\u001b[0m\u001b[0;34m\u001b[0m\u001b[0m\n",
            "\u001b[0;31mTypeError\u001b[0m: range expected 1 arguments, got 0"
          ]
        }
      ]
    },
    {
      "cell_type": "code",
      "metadata": {
        "colab": {
          "base_uri": "https://localhost:8080/"
        },
        "id": "LV8OfnHgL91L",
        "outputId": "d6e19690-00e2-4d84-b255-f7bc94e0b52a"
      },
      "source": [
        "mislabel_index "
      ],
      "execution_count": null,
      "outputs": [
        {
          "output_type": "execute_result",
          "data": {
            "text/plain": [
              "[1, 5]"
            ]
          },
          "metadata": {},
          "execution_count": 30
        }
      ]
    },
    {
      "cell_type": "code",
      "metadata": {
        "id": "b4jPcSNCLq-K"
      },
      "source": [
        "def trans_wrongindex(mislabel_index, l):\n",
        "  TF_index = []\n",
        "  for i in range(l):\n",
        "    TF_index.append(False) if i in mislabel_index else TF_index.append(True)\n",
        "  return TF_index"
      ],
      "execution_count": null,
      "outputs": []
    },
    {
      "cell_type": "code",
      "metadata": {
        "id": "OJQZtORRM0hR"
      },
      "source": [
        "origin_mark = trans_wrongindex(mislabel_index, len(train_y))"
      ],
      "execution_count": null,
      "outputs": []
    },
    {
      "cell_type": "code",
      "metadata": {
        "id": "74JrKzUrBH8w"
      },
      "source": [
        "import math"
      ],
      "execution_count": null,
      "outputs": []
    },
    {
      "cell_type": "code",
      "metadata": {
        "id": "aeMf1sXoBWhM"
      },
      "source": [
        "sources = {}"
      ],
      "execution_count": null,
      "outputs": []
    },
    {
      "cell_type": "code",
      "metadata": {
        "id": "HyKjmT-fAh5m"
      },
      "source": [
        "for i in range(0, len(train_X), num_group):\n",
        "    sources[int(i/num_group)] = np.array(list(range(i,i+num_group,1)))"
      ],
      "execution_count": null,
      "outputs": []
    },
    {
      "cell_type": "code",
      "metadata": {
        "colab": {
          "base_uri": "https://localhost:8080/"
        },
        "id": "nVQ4Rv67WSZj",
        "outputId": "e663d089-ae08-47e4-e0ed-d83703d87406"
      },
      "source": [
        "len(train_X)"
      ],
      "execution_count": null,
      "outputs": [
        {
          "output_type": "execute_result",
          "data": {
            "text/plain": [
              "10"
            ]
          },
          "metadata": {},
          "execution_count": 36
        }
      ]
    },
    {
      "cell_type": "code",
      "metadata": {
        "colab": {
          "base_uri": "https://localhost:8080/"
        },
        "id": "A4Gjo4MJIFej",
        "outputId": "86673371-b128-4437-efa8-d410b9245f04"
      },
      "source": [
        "sources"
      ],
      "execution_count": null,
      "outputs": [
        {
          "output_type": "execute_result",
          "data": {
            "text/plain": [
              "{0: array([0]),\n",
              " 1: array([1]),\n",
              " 2: array([2]),\n",
              " 3: array([3]),\n",
              " 4: array([4]),\n",
              " 5: array([5]),\n",
              " 6: array([6]),\n",
              " 7: array([7]),\n",
              " 8: array([8]),\n",
              " 9: array([9])}"
            ]
          },
          "metadata": {},
          "execution_count": 37
        }
      ]
    },
    {
      "cell_type": "code",
      "metadata": {
        "id": "7Xs31rJSaYQk"
      },
      "source": [
        "import time"
      ],
      "execution_count": null,
      "outputs": []
    },
    {
      "cell_type": "code",
      "metadata": {
        "colab": {
          "base_uri": "https://localhost:8080/"
        },
        "id": "KtrJVjJVahZ5",
        "outputId": "79c1bd81-d80d-4045-cfe5-cb3e4475f7a6"
      },
      "source": [
        "X, y = train_X, train_y\n",
        "X_test, y_test = test_X, test_y\n",
        "model = 'RandomForest'\n",
        "problem = 'classification'\n",
        "num_test = int(num_test/2)\n",
        "directory = './temp'\n",
        "dshap = DShap(X, y, X_test, y_test, num_test, \n",
        "              sources=sources, \n",
        "              sample_weight=None,\n",
        "              model_family=model, \n",
        "              metric='accuracy',\n",
        "              overwrite=True,\n",
        "              directory=directory, seed=0)\n",
        "s = time.time()\n",
        "dshap.run(trainsize, 0.2)\n",
        "print(time.time() - s)"
      ],
      "execution_count": null,
      "outputs": [
        {
          "output_type": "stream",
          "name": "stdout",
          "text": [
            "WARNING:tensorflow:From /content/DataShapley/DShap.py:64: The name tf.gfile.DeleteRecursively is deprecated. Please use tf.io.gfile.rmtree instead.\n",
            "\n",
            "Starting LOO score calculations!\n",
            "LOO values calculated!\n",
            "1 out of 10 TMC_Shapley iterations.\n",
            "[2 8 4 9 1 6 7 3 0 5]\n",
            "2 out of 10 TMC_Shapley iterations.\n",
            "[3 5 1 2 9 8 0 6 7 4]\n",
            "3 out of 10 TMC_Shapley iterations.\n",
            "[2 3 8 4 5 1 0 6 9 7]\n",
            "4 out of 10 TMC_Shapley iterations.\n",
            "[6 1 9 2 7 5 8 0 3 4]\n",
            "5 out of 10 TMC_Shapley iterations.\n",
            "[5 2 7 4 1 0 6 8 9 3]\n",
            "6 out of 10 TMC_Shapley iterations.\n",
            "[1 8 9 5 2 6 3 7 4 0]\n",
            "7 out of 10 TMC_Shapley iterations.\n",
            "[3 2 1 7 8 6 5 4 9 0]\n",
            "8 out of 10 TMC_Shapley iterations.\n",
            "[0 9 2 3 5 6 7 1 8 4]\n",
            "9 out of 10 TMC_Shapley iterations.\n",
            "[7 8 9 1 4 5 3 6 0 2]\n",
            "10 out of 10 TMC_Shapley iterations.\n",
            "[1 2 5 0 8 3 7 9 6 4]\n",
            "1 out of 10 TMC_Shapley iterations.\n",
            "[9 7 8 1 0 6 5 2 3 4]\n",
            "2 out of 10 TMC_Shapley iterations.\n",
            "[4 9 6 2 1 8 5 7 0 3]\n",
            "3 out of 10 TMC_Shapley iterations.\n",
            "[4 6 1 8 9 5 7 2 3 0]\n",
            "4 out of 10 TMC_Shapley iterations.\n",
            "[5 9 4 1 6 7 8 3 2 0]\n",
            "5 out of 10 TMC_Shapley iterations.\n",
            "[0 5 7 1 4 8 6 2 9 3]\n",
            "6 out of 10 TMC_Shapley iterations.\n",
            "[7 8 6 5 0 3 2 4 1 9]\n",
            "7 out of 10 TMC_Shapley iterations.\n",
            "[1 4 7 5 2 3 8 6 9 0]\n",
            "8 out of 10 TMC_Shapley iterations.\n",
            "[4 0 1 7 6 3 2 5 9 8]\n",
            "9 out of 10 TMC_Shapley iterations.\n",
            "[4 1 7 6 5 2 0 3 9 8]\n",
            "10 out of 10 TMC_Shapley iterations.\n",
            "[9 6 1 2 8 7 5 3 4 0]\n",
            "1 out of 10 TMC_Shapley iterations.\n",
            "[2 4 3 7 1 6 5 9 0 8]\n",
            "2 out of 10 TMC_Shapley iterations.\n",
            "[2 7 9 4 0 1 3 8 5 6]\n",
            "3 out of 10 TMC_Shapley iterations.\n",
            "[2 4 1 3 8 0 7 5 6 9]\n",
            "4 out of 10 TMC_Shapley iterations.\n",
            "[9 0 2 4 1 5 3 7 6 8]\n",
            "5 out of 10 TMC_Shapley iterations.\n",
            "[5 1 4 0 6 7 2 3 9 8]\n",
            "6 out of 10 TMC_Shapley iterations.\n",
            "[1 2 4 8 9 0 3 7 5 6]\n",
            "7 out of 10 TMC_Shapley iterations.\n",
            "[7 9 1 3 2 0 4 8 5 6]\n",
            "8 out of 10 TMC_Shapley iterations.\n",
            "[0 2 1 7 8 9 4 6 3 5]\n",
            "9 out of 10 TMC_Shapley iterations.\n",
            "[4 8 1 0 5 2 6 3 7 9]\n",
            "10 out of 10 TMC_Shapley iterations.\n",
            "[6 0 3 2 4 1 8 5 9 7]\n",
            "1 out of 10 TMC_Shapley iterations.\n",
            "[6 8 9 2 3 7 4 0 5 1]\n",
            "2 out of 10 TMC_Shapley iterations.\n",
            "[2 3 7 4 1 9 8 6 0 5]\n",
            "3 out of 10 TMC_Shapley iterations.\n",
            "[2 6 5 3 1 0 7 4 9 8]\n",
            "4 out of 10 TMC_Shapley iterations.\n",
            "[0 3 6 5 4 7 9 8 1 2]\n",
            "5 out of 10 TMC_Shapley iterations.\n",
            "[0 1 4 6 7 3 2 8 9 5]\n",
            "6 out of 10 TMC_Shapley iterations.\n",
            "[0 8 9 1 5 3 4 2 7 6]\n",
            "7 out of 10 TMC_Shapley iterations.\n",
            "[7 8 9 6 4 1 3 0 2 5]\n",
            "8 out of 10 TMC_Shapley iterations.\n",
            "[1 3 8 5 4 2 9 7 6 0]\n",
            "9 out of 10 TMC_Shapley iterations.\n",
            "[4 1 6 2 5 8 7 0 9 3]\n",
            "10 out of 10 TMC_Shapley iterations.\n",
            "[6 4 3 0 1 2 5 9 7 8]\n",
            "1 out of 10 TMC_Shapley iterations.\n",
            "[7 3 5 6 8 2 9 1 4 0]\n",
            "2 out of 10 TMC_Shapley iterations.\n",
            "[9 7 1 4 5 0 8 2 3 6]\n",
            "3 out of 10 TMC_Shapley iterations.\n",
            "[3 1 8 0 6 2 5 9 7 4]\n",
            "4 out of 10 TMC_Shapley iterations.\n",
            "[0 7 4 8 6 5 2 1 9 3]\n",
            "5 out of 10 TMC_Shapley iterations.\n",
            "[6 3 4 9 0 8 1 5 2 7]\n",
            "6 out of 10 TMC_Shapley iterations.\n",
            "[0 5 9 7 6 4 8 2 1 3]\n",
            "7 out of 10 TMC_Shapley iterations.\n",
            "[2 4 1 3 5 6 0 7 9 8]\n",
            "8 out of 10 TMC_Shapley iterations.\n",
            "[5 8 9 0 2 7 4 1 6 3]\n",
            "9 out of 10 TMC_Shapley iterations.\n",
            "[3 8 9 1 5 6 4 0 7 2]\n",
            "10 out of 10 TMC_Shapley iterations.\n",
            "[0 2 8 6 3 7 5 1 4 9]\n",
            "1 out of 10 TMC_Shapley iterations.\n",
            "[8 0 2 4 9 1 6 3 7 5]\n",
            "2 out of 10 TMC_Shapley iterations.\n",
            "[6 5 2 9 0 7 1 4 8 3]\n",
            "3 out of 10 TMC_Shapley iterations.\n",
            "[6 9 2 3 5 0 7 8 4 1]\n",
            "4 out of 10 TMC_Shapley iterations.\n",
            "[7 2 0 5 3 9 1 6 4 8]\n",
            "5 out of 10 TMC_Shapley iterations.\n",
            "[5 7 8 0 4 6 3 9 2 1]\n",
            "6 out of 10 TMC_Shapley iterations.\n",
            "[5 6 9 3 4 2 8 7 0 1]\n",
            "7 out of 10 TMC_Shapley iterations.\n",
            "[5 8 9 6 7 4 0 1 2 3]\n",
            "8 out of 10 TMC_Shapley iterations.\n",
            "[2 9 4 6 7 1 3 5 8 0]\n",
            "9 out of 10 TMC_Shapley iterations.\n",
            "[1 7 2 0 9 5 3 4 6 8]\n",
            "10 out of 10 TMC_Shapley iterations.\n",
            "[6 1 2 4 8 5 0 9 3 7]\n",
            "1 out of 10 TMC_Shapley iterations.\n",
            "[1 6 2 9 0 4 8 5 7 3]\n",
            "2 out of 10 TMC_Shapley iterations.\n",
            "[4 7 0 5 9 2 1 6 3 8]\n",
            "3 out of 10 TMC_Shapley iterations.\n",
            "[9 5 2 7 8 4 1 6 3 0]\n",
            "4 out of 10 TMC_Shapley iterations.\n",
            "[8 0 2 6 7 3 5 1 4 9]\n",
            "5 out of 10 TMC_Shapley iterations.\n",
            "[3 0 5 2 6 8 1 4 7 9]\n",
            "6 out of 10 TMC_Shapley iterations.\n",
            "[6 0 9 4 5 8 1 3 2 7]\n",
            "7 out of 10 TMC_Shapley iterations.\n",
            "[1 5 9 8 4 0 7 6 3 2]\n",
            "8 out of 10 TMC_Shapley iterations.\n",
            "[9 3 4 2 1 5 8 6 7 0]\n",
            "9 out of 10 TMC_Shapley iterations.\n",
            "[5 3 0 8 9 6 1 4 7 2]\n",
            "10 out of 10 TMC_Shapley iterations.\n",
            "[3 0 1 8 7 2 9 4 6 5]\n",
            "1 out of 10 TMC_Shapley iterations.\n",
            "[5 4 7 3 6 2 8 9 0 1]\n",
            "2 out of 10 TMC_Shapley iterations.\n",
            "[6 3 4 2 5 7 1 9 8 0]\n",
            "3 out of 10 TMC_Shapley iterations.\n",
            "[1 7 2 8 9 4 6 0 3 5]\n",
            "4 out of 10 TMC_Shapley iterations.\n",
            "[7 4 2 0 1 9 8 3 5 6]\n",
            "5 out of 10 TMC_Shapley iterations.\n",
            "[6 8 4 0 2 7 9 3 1 5]\n",
            "6 out of 10 TMC_Shapley iterations.\n",
            "[3 7 2 4 8 1 0 6 9 5]\n",
            "7 out of 10 TMC_Shapley iterations.\n",
            "[1 0 4 2 3 9 5 7 8 6]\n",
            "8 out of 10 TMC_Shapley iterations.\n",
            "[8 4 1 0 7 2 6 5 3 9]\n",
            "9 out of 10 TMC_Shapley iterations.\n",
            "[7 9 6 1 2 4 0 5 3 8]\n",
            "10 out of 10 TMC_Shapley iterations.\n",
            "[7 4 0 9 3 5 8 6 1 2]\n",
            "1 out of 10 TMC_Shapley iterations.\n",
            "[6 8 7 3 2 0 4 5 9 1]\n",
            "2 out of 10 TMC_Shapley iterations.\n",
            "[3 5 7 9 8 0 6 1 4 2]\n",
            "3 out of 10 TMC_Shapley iterations.\n",
            "[2 8 6 1 5 9 0 3 7 4]\n",
            "4 out of 10 TMC_Shapley iterations.\n",
            "[5 4 0 6 8 7 9 1 3 2]\n",
            "5 out of 10 TMC_Shapley iterations.\n",
            "[3 9 8 6 5 2 0 4 7 1]\n",
            "6 out of 10 TMC_Shapley iterations.\n",
            "[9 5 3 8 7 1 6 2 0 4]\n",
            "7 out of 10 TMC_Shapley iterations.\n",
            "[8 3 0 6 1 7 2 4 5 9]\n",
            "8 out of 10 TMC_Shapley iterations.\n",
            "[3 6 4 8 9 2 0 7 5 1]\n",
            "9 out of 10 TMC_Shapley iterations.\n",
            "[3 5 1 9 0 7 6 4 2 8]\n",
            "10 out of 10 TMC_Shapley iterations.\n",
            "[5 0 9 1 6 4 3 2 8 7]\n",
            "1 out of 10 TMC_Shapley iterations.\n",
            "[5 0 4 2 8 1 7 9 6 3]\n",
            "2 out of 10 TMC_Shapley iterations.\n",
            "[2 5 7 1 8 0 9 3 4 6]\n",
            "3 out of 10 TMC_Shapley iterations.\n",
            "[0 8 3 2 7 5 4 9 6 1]\n",
            "4 out of 10 TMC_Shapley iterations.\n",
            "[1 0 7 4 5 2 3 8 9 6]\n",
            "5 out of 10 TMC_Shapley iterations.\n",
            "[6 7 2 1 8 4 5 0 3 9]\n",
            "6 out of 10 TMC_Shapley iterations.\n",
            "[3 7 6 0 4 9 1 2 8 5]\n",
            "7 out of 10 TMC_Shapley iterations.\n",
            "[8 5 9 1 3 2 7 0 4 6]\n",
            "8 out of 10 TMC_Shapley iterations.\n",
            "[5 3 7 1 8 4 2 6 9 0]\n",
            "9 out of 10 TMC_Shapley iterations.\n",
            "[7 2 0 1 9 8 4 5 3 6]\n",
            "10 out of 10 TMC_Shapley iterations.\n",
            "[2 8 5 9 0 7 6 4 3 1]\n",
            "1 out of 10 TMC_Shapley iterations.\n",
            "[8 2 5 6 4 1 7 0 9 3]\n",
            "2 out of 10 TMC_Shapley iterations.\n",
            "[3 2 7 4 6 5 1 0 9 8]\n",
            "3 out of 10 TMC_Shapley iterations.\n",
            "[5 9 8 2 3 7 0 4 1 6]\n",
            "4 out of 10 TMC_Shapley iterations.\n",
            "[7 1 5 4 8 9 3 0 6 2]\n",
            "5 out of 10 TMC_Shapley iterations.\n",
            "[9 4 7 0 8 5 3 1 6 2]\n",
            "6 out of 10 TMC_Shapley iterations.\n",
            "[2 4 6 1 8 0 7 3 9 5]\n",
            "7 out of 10 TMC_Shapley iterations.\n",
            "[8 3 9 2 0 6 7 5 1 4]\n",
            "8 out of 10 TMC_Shapley iterations.\n",
            "[1 0 9 8 5 2 7 4 3 6]\n",
            "9 out of 10 TMC_Shapley iterations.\n",
            "[6 7 2 9 0 3 1 4 8 5]\n",
            "10 out of 10 TMC_Shapley iterations.\n",
            "[2 8 9 4 3 7 0 6 5 1]\n",
            "1 out of 10 TMC_Shapley iterations.\n",
            "[4 6 3 9 2 5 8 0 7 1]\n",
            "2 out of 10 TMC_Shapley iterations.\n",
            "[2 4 3 0 6 1 5 9 7 8]\n",
            "3 out of 10 TMC_Shapley iterations.\n",
            "[0 2 1 4 7 9 8 3 6 5]\n",
            "4 out of 10 TMC_Shapley iterations.\n",
            "[3 5 1 2 4 8 6 9 0 7]\n",
            "5 out of 10 TMC_Shapley iterations.\n",
            "[7 3 0 6 1 4 5 9 8 2]\n",
            "6 out of 10 TMC_Shapley iterations.\n",
            "[8 7 9 2 4 1 0 3 6 5]\n",
            "7 out of 10 TMC_Shapley iterations.\n",
            "[7 5 8 9 3 2 6 0 1 4]\n",
            "8 out of 10 TMC_Shapley iterations.\n",
            "[0 8 3 5 9 7 6 2 1 4]\n",
            "9 out of 10 TMC_Shapley iterations.\n",
            "[3 7 2 0 6 8 4 9 5 1]\n",
            "10 out of 10 TMC_Shapley iterations.\n",
            "[5 9 4 8 7 0 3 6 1 2]\n",
            "1 out of 10 TMC_Shapley iterations.\n",
            "[4 1 2 7 0 3 9 5 8 6]\n",
            "2 out of 10 TMC_Shapley iterations.\n",
            "[0 7 9 8 4 3 6 1 5 2]\n",
            "3 out of 10 TMC_Shapley iterations.\n",
            "[2 0 4 8 7 5 9 1 6 3]\n",
            "4 out of 10 TMC_Shapley iterations.\n",
            "[5 9 2 1 6 0 4 3 8 7]\n",
            "5 out of 10 TMC_Shapley iterations.\n",
            "[9 8 0 7 5 3 4 1 2 6]\n",
            "6 out of 10 TMC_Shapley iterations.\n",
            "[9 3 6 8 0 4 5 2 1 7]\n",
            "7 out of 10 TMC_Shapley iterations.\n",
            "[6 0 9 1 7 5 4 3 2 8]\n",
            "8 out of 10 TMC_Shapley iterations.\n",
            "[0 8 2 7 3 4 1 6 9 5]\n",
            "9 out of 10 TMC_Shapley iterations.\n",
            "[9 4 3 5 7 8 0 6 1 2]\n",
            "10 out of 10 TMC_Shapley iterations.\n",
            "[4 1 7 9 3 2 5 0 8 6]\n",
            "1 out of 10 TMC_Shapley iterations.\n",
            "[2 9 7 1 8 3 5 0 6 4]\n",
            "2 out of 10 TMC_Shapley iterations.\n",
            "[2 7 1 9 8 3 5 6 0 4]\n",
            "3 out of 10 TMC_Shapley iterations.\n",
            "[7 5 6 9 3 4 1 8 2 0]\n",
            "4 out of 10 TMC_Shapley iterations.\n",
            "[0 9 1 3 5 4 7 6 2 8]\n",
            "5 out of 10 TMC_Shapley iterations.\n",
            "[8 0 3 6 5 1 9 4 2 7]\n",
            "6 out of 10 TMC_Shapley iterations.\n",
            "[6 3 5 7 8 4 1 2 0 9]\n",
            "7 out of 10 TMC_Shapley iterations.\n",
            "[3 4 0 1 9 5 7 6 8 2]\n",
            "8 out of 10 TMC_Shapley iterations.\n",
            "[6 4 1 5 2 0 8 9 7 3]\n",
            "9 out of 10 TMC_Shapley iterations.\n",
            "[4 0 1 2 8 3 6 9 7 5]\n",
            "10 out of 10 TMC_Shapley iterations.\n",
            "[2 8 9 6 5 0 1 4 3 7]\n",
            "1 out of 10 TMC_Shapley iterations.\n",
            "[8 6 9 4 3 7 2 1 0 5]\n",
            "2 out of 10 TMC_Shapley iterations.\n",
            "[1 9 5 8 6 4 2 0 7 3]\n",
            "3 out of 10 TMC_Shapley iterations.\n",
            "[0 9 2 4 3 8 5 6 7 1]\n",
            "4 out of 10 TMC_Shapley iterations.\n",
            "[7 1 3 9 2 4 5 0 8 6]\n",
            "5 out of 10 TMC_Shapley iterations.\n",
            "[2 7 1 5 9 6 4 3 8 0]\n",
            "6 out of 10 TMC_Shapley iterations.\n",
            "[1 3 6 9 2 7 8 5 4 0]\n",
            "7 out of 10 TMC_Shapley iterations.\n",
            "[8 2 3 6 1 4 0 5 7 9]\n",
            "8 out of 10 TMC_Shapley iterations.\n",
            "[4 2 7 1 8 0 3 6 9 5]\n",
            "9 out of 10 TMC_Shapley iterations.\n",
            "[9 6 7 3 5 4 8 0 1 2]\n",
            "10 out of 10 TMC_Shapley iterations.\n",
            "[0 1 7 5 8 3 2 9 4 6]\n",
            "18.206908226013184\n"
          ]
        }
      ]
    },
    {
      "cell_type": "code",
      "metadata": {
        "colab": {
          "base_uri": "https://localhost:8080/"
        },
        "id": "wuCLpWwX3gPo",
        "outputId": "aad08b07-ed47-42bc-fa12-c5d31be4bd75"
      },
      "source": [
        "dshap.merge_results()"
      ],
      "execution_count": null,
      "outputs": [
        {
          "output_type": "stream",
          "name": "stdout",
          "text": [
            "./temp/mem_tmc_0000.pkl\n"
          ]
        }
      ]
    },
    {
      "cell_type": "code",
      "metadata": {
        "colab": {
          "base_uri": "https://localhost:8080/"
        },
        "id": "qOzZS-m-6exX",
        "outputId": "8c3f7a95-6598-497e-c122-242509f42501"
      },
      "source": [
        "dshap.vals_tmc"
      ],
      "execution_count": null,
      "outputs": [
        {
          "output_type": "execute_result",
          "data": {
            "text/plain": [
              "array([-0.12142857, -0.07857143, -0.12857143, -0.10714286,  0.        ,\n",
              "        0.        ,  0.        , -0.10714286, -0.08571429,  0.        ])"
            ]
          },
          "metadata": {},
          "execution_count": 41
        }
      ]
    },
    {
      "cell_type": "code",
      "metadata": {
        "id": "UdUJNHh2ORy9"
      },
      "source": [
        "from sklearn.metrics import accuracy_score"
      ],
      "execution_count": null,
      "outputs": []
    },
    {
      "cell_type": "code",
      "metadata": {
        "id": "mvtGskflQGQU"
      },
      "source": [
        "def detect_F(y_t, y_p):\n",
        "  i = 0\n",
        "  detect = 0\n",
        "  nodetect = 0\n",
        "  wp = 0\n",
        "  dd = 0\n",
        "  for i in range(len(y_t)):\n",
        "    if y_t[i] == False:\n",
        "      if y_p[i] == False:\n",
        "        detect += 1\n",
        "      else:\n",
        "        nodetect += 1\n",
        "    if y_t[i] == True:\n",
        "      if y_p[i] == False:\n",
        "        wp += 1\n",
        "      else:\n",
        "        dd += 1\n",
        "  return detect,nodetect,wp,dd"
      ],
      "execution_count": null,
      "outputs": []
    },
    {
      "cell_type": "code",
      "metadata": {
        "id": "4tOKDduHBhZJ"
      },
      "source": [
        "def detection_rate(vals, origin_mark, f, z=False):\n",
        "  \"\"\"input: dshap.vals_tmc, dshap.sources, frak\"\"\"\n",
        "  sort_index = np.argsort(vals)\n",
        "  if z == False:\n",
        "    p_wrong = sort_index[:int(f*len(sort_index))]  \n",
        "  else:\n",
        "    p_wrong = []\n",
        "    for i in range(len(vals)):\n",
        "      if vals[i] < 0:\n",
        "        p_wrong.append(i)\n",
        "  mark_pre = trans_wrongindex(p_wrong, len(sort_index))\n",
        "  return detect_F(origin_mark, mark_pre)"
      ],
      "execution_count": null,
      "outputs": []
    },
    {
      "cell_type": "code",
      "metadata": {
        "colab": {
          "base_uri": "https://localhost:8080/"
        },
        "id": "b_XF_szOOW5O",
        "outputId": "d94662d6-fc8a-4088-8a29-d1dce0e55833"
      },
      "source": [
        "print( detection_rate(list(dshap.vals_tmc), origin_mark=origin_mark, f=0.4,z=True))"
      ],
      "execution_count": null,
      "outputs": [
        {
          "output_type": "stream",
          "name": "stdout",
          "text": [
            "(1, 1, 5, 3)\n"
          ]
        }
      ]
    },
    {
      "cell_type": "code",
      "metadata": {
        "colab": {
          "base_uri": "https://localhost:8080/"
        },
        "id": "4_E6oY8pUOWK",
        "outputId": "479aaecb-1ed6-4e85-8949-685fb5b30df8"
      },
      "source": [
        "dshap.vals_tmc"
      ],
      "execution_count": null,
      "outputs": [
        {
          "output_type": "execute_result",
          "data": {
            "text/plain": [
              "array([-0.12142857, -0.07857143, -0.12857143, -0.10714286,  0.        ,\n",
              "        0.        ,  0.        , -0.10714286, -0.08571429,  0.        ])"
            ]
          },
          "metadata": {},
          "execution_count": 46
        }
      ]
    },
    {
      "cell_type": "code",
      "metadata": {
        "colab": {
          "base_uri": "https://localhost:8080/",
          "height": 525
        },
        "id": "CxbnCM3RDXyo",
        "outputId": "37721ce1-4c5a-4cbd-d587-2fdb73ae8d08"
      },
      "source": [
        "dshap.performance_plots([dshap.vals_tmc, dshap.vals_loo], num_plot_markers=200,sources=dshap.sources)"
      ],
      "execution_count": null,
      "outputs": [
        {
          "output_type": "display_data",
          "data": {
            "image/png": "[encoded data removed]",
            "text/plain": [
              "<Figure size 576x576 with 1 Axes>"
            ]
          },
          "metadata": {
            "needs_background": "light"
          }
        }
      ]
    },
    {
      "cell_type": "code",
      "metadata": {
        "id": "mgnUiIPO66DD",
        "colab": {
          "base_uri": "https://localhost:8080/",
          "height": 745
        },
        "outputId": "44f52a79-7e59-4793-835d-527eece70324"
      },
      "source": [
        "convergence_plots(dshap.marginals_tmc)"
      ],
      "execution_count": null,
      "outputs": [
        {
          "output_type": "display_data",
          "data": {
            "image/png": "[encoded data removed]",
            "text/plain": [
              "<Figure size 1080x1080 with 25 Axes>"
            ]
          },
          "metadata": {
            "needs_background": "light"
          }
        }
      ]
    },
    {
      "cell_type": "code",
      "metadata": {
        "colab": {
          "base_uri": "https://localhost:8080/"
        },
        "id": "7cvhAGEkVd43",
        "outputId": "8cb188e9-32ac-4e88-ee27-a8d8015f9e82"
      },
      "source": [
        "len(dshap.marginals_tmc)"
      ],
      "execution_count": null,
      "outputs": [
        {
          "output_type": "execute_result",
          "data": {
            "text/plain": [
              "300"
            ]
          },
          "metadata": {},
          "execution_count": 161
        }
      ]
    },
    {
      "cell_type": "markdown",
      "metadata": {
        "id": "4jzJZ7kopU3S"
      },
      "source": [
        "#####type 2 attack"
      ]
    },
    {
      "cell_type": "code",
      "metadata": {
        "id": "FiYNB9fUajtv",
        "colab": {
          "base_uri": "https://localhost:8080/"
        },
        "outputId": "b6c4890d-7297-4df0-ea3d-fef7143692d6"
      },
      "source": [
        "#reload dataset\n",
        "df = pd.read_csv('/gdrive/My Drive/CICIDS2017/dataset/cicids2017_merge.csv')\n",
        "df.columns[~(df != 0).any(axis=0)]\n",
        "df = df.loc[:, (df != 0).any(axis=0)]\n",
        "df.replace([-np.inf, np.inf], np.nan, inplace=True)\n",
        "df.dropna(inplace=True)\n",
        "\n",
        "selected_features = ['Packet Length Std' , \n",
        " 'Destination Port',  \n",
        " 'Fwd Packet Length Max', 'Init_Win_bytes_forward',\n",
        " 'Subflow Fwd Packets', 'Fwd Packet Length Mean', 'Total Length of Fwd Packets', 'Avg Fwd Segment Size',\n",
        " 'Label']\n",
        "selected_label = ['BENIGN', 'DoS Hulk', 'PortScan', 'DDoS', 'DoS GoldenEye',\n",
        "       'FTP-Patator', 'SSH-Patator', 'DoS slowloris', 'DoS Slowhttptest',\n",
        "       'Bot', 'Web Attack Brute Force', 'Web Attack XSS', 'Infiltration',\n",
        "       'Web Attack Sql Injection', 'Heartbleed']\n",
        "df_num = 4000\n",
        "df = df[selected_features]\n",
        "\n",
        "seed = 1\n",
        "df = df.sample(frac=1, random_state=seed).reset_index(drop=True)\n",
        "\n",
        "df1 = pd.concat([df[df['Label'] == selected_label[i]][:ceil(df_num*df['Label'].value_counts()[i]/df.shape[0])] for i in range(len(selected_label)-6)] )\n",
        "df2 = pd.concat([df[df['Label'] == selected_label[i]][:5] for i in range(len(selected_label)-6, len(selected_label))])\n",
        "df = pd.concat([df1, df2])\n",
        "\n",
        "trainsize = int(len(df)/2)\n",
        "\n",
        "test_size = 0.5\n",
        "num_test = int(len(df)*test_size/2)\n",
        "\n",
        "\n",
        "train_set, test_set = train_test_split(df, test_size=test_size, random_state=seed)\n",
        "train_X = train_set.drop('Label', axis=1)\n",
        "train_y = train_set[['Label']]\n",
        "test_X = test_set.drop('Label', axis=1)\n",
        "test_y = test_set[['Label']]\n",
        "\n",
        "Scaler = StandardScaler()\n",
        "train_X = Scaler.fit_transform(train_X)\n",
        "test_X = Scaler.transform(test_X)\n",
        "\n",
        "encode = LabelEncoder()\n",
        "\n",
        "test_y = encode.fit_transform(test_y)\n",
        "train_y = encode.fit_transform(train_y)"
      ],
      "execution_count": null,
      "outputs": [
        {
          "output_type": "stream",
          "name": "stderr",
          "text": [
            "/usr/local/lib/python3.7/dist-packages/sklearn/preprocessing/_label.py:251: DataConversionWarning: A column-vector y was passed when a 1d array was expected. Please change the shape of y to (n_samples, ), for example using ravel().\n",
            "  y = column_or_1d(y, warn=True)\n"
          ]
        }
      ]
    },
    {
      "cell_type": "code",
      "metadata": {
        "colab": {
          "base_uri": "https://localhost:8080/"
        },
        "id": "Be0lhYYyzhFh",
        "outputId": "f608d948-a27c-435c-e84d-7cc0f9d1fed2"
      },
      "source": [
        "encode.fit_transform(selected_label)"
      ],
      "execution_count": null,
      "outputs": [
        {
          "output_type": "execute_result",
          "data": {
            "text/plain": [
              "array([ 0,  4, 10,  2,  3,  7, 11,  6,  5,  1, 12, 14,  9, 13,  8])"
            ]
          },
          "metadata": {},
          "execution_count": 6
        }
      ]
    },
    {
      "cell_type": "code",
      "metadata": {
        "id": "WID6bun12l0L"
      },
      "source": [
        "def trans_wrongindex(mislabel_index, l):\n",
        "  TF_index = []\n",
        "  for i in range(l):\n",
        "    TF_index.append(False) if i in mislabel_index else TF_index.append(True)\n",
        "  return TF_index"
      ],
      "execution_count": null,
      "outputs": []
    },
    {
      "cell_type": "code",
      "metadata": {
        "id": "lW_2sKbZ2qEn"
      },
      "source": [
        "def detect_F(y_t, y_p):\n",
        "  i = 0\n",
        "  detect = 0\n",
        "  nodetect = 0\n",
        "  wp = 0\n",
        "  dd = 0\n",
        "  for i in range(len(y_t)):\n",
        "    if y_t[i] == False:\n",
        "      if y_p[i] == False:\n",
        "        detect += 1\n",
        "      else:\n",
        "        nodetect += 1\n",
        "    if y_t[i] == True:\n",
        "      if y_p[i] == False:\n",
        "        wp += 1\n",
        "      else:\n",
        "        dd += 1\n",
        "  return detect,nodetect,wp,dd"
      ],
      "execution_count": null,
      "outputs": []
    },
    {
      "cell_type": "code",
      "metadata": {
        "id": "5xgq7Rzl2sbZ"
      },
      "source": [
        "def detection_rate(vals, origin_mark, f, z=False):\n",
        "  \"\"\"input: dshap.vals_tmc, dshap.sources, frak\"\"\"\n",
        "  sort_index = np.argsort(vals)\n",
        "  if z == False:\n",
        "    p_wrong = sort_index[:int(f*len(sort_index))]  \n",
        "  else:\n",
        "    p_wrong = []\n",
        "    for i in range(len(vals)):\n",
        "      if vals[i] < 0:\n",
        "        p_wrong.append(i)\n",
        "  mark_pre = trans_wrongindex(p_wrong, len(sort_index))\n",
        "  return detect_F(origin_mark, mark_pre)"
      ],
      "execution_count": null,
      "outputs": []
    },
    {
      "cell_type": "code",
      "metadata": {
        "colab": {
          "base_uri": "https://localhost:8080/"
        },
        "id": "9ZXEOWVE_c48",
        "outputId": "e5f6bade-ac0a-4126-a3a9-35a32bf02cd0"
      },
      "source": [
        "len(train_X)"
      ],
      "execution_count": null,
      "outputs": [
        {
          "output_type": "execute_result",
          "data": {
            "text/plain": [
              "2014"
            ]
          },
          "metadata": {},
          "execution_count": 10
        }
      ]
    },
    {
      "cell_type": "markdown",
      "metadata": {
        "id": "tJGoyUbazzHU"
      },
      "source": [
        "######modify 1 random"
      ]
    },
    {
      "cell_type": "markdown",
      "metadata": {
        "id": "20sWICl17V2b"
      },
      "source": [
        "区间 random modify"
      ]
    },
    {
      "cell_type": "code",
      "metadata": {
        "id": "j1Mb511e0MGZ"
      },
      "source": [
        "def mod_label_random(i):\n",
        "  t = random.randint(0, 14)\n",
        "  if t != i:\n",
        "    return t\n",
        "  else:\n",
        "    return mod_label_random(i)"
      ],
      "execution_count": null,
      "outputs": []
    },
    {
      "cell_type": "code",
      "metadata": {
        "id": "czNCCrngz545"
      },
      "source": [
        "wrate = 0.2\n",
        "count = 0\n",
        "random.seed(seed)\n",
        "begin = random.randint(0, int(len(train_y)*(1-wrate)))\n",
        "end = begin + int(len(train_y)*wrate)\n",
        "mislabel_index = [i for i in range(begin, end)]\n",
        "for i in range(begin, end):\n",
        "  train_y[i] = mod_label_random(train_y[i])\n",
        "  count +=1 "
      ],
      "execution_count": null,
      "outputs": []
    },
    {
      "cell_type": "code",
      "metadata": {
        "id": "V4xStYp_cd6x"
      },
      "source": [
        "def nwrate_1(a, b, c, d, wrate):\n",
        "  c = train_y.copy()\n",
        "  count = 0\n",
        "  random.seed(seed)\n",
        "  begin = random.randint(0, int(len(c)*(1-wrate)))\n",
        "  end = begin + int(len(c)*wrate)\n",
        "  mislabel_index = [i for i in range(begin, end)]\n",
        "  for i in range(begin, end):\n",
        "    c[i] = mod_label_random(c[i])\n",
        "    count +=1 \n",
        "  model = RandomForestClassifier(n_estimators=50, random_state=0)\n",
        "  model.fit(a, c)\n",
        "  pred_y = model.predict(b)\n",
        "  return accuracy_score(d, pred_y)"
      ],
      "execution_count": null,
      "outputs": []
    },
    {
      "cell_type": "markdown",
      "metadata": {
        "id": "NNRdC0YX2xKt"
      },
      "source": [
        "######modify 2 attack to benign"
      ]
    },
    {
      "cell_type": "markdown",
      "metadata": {
        "id": "3eKtMvh77PCn"
      },
      "source": [
        "区间 modify all attack to benign"
      ]
    },
    {
      "cell_type": "code",
      "metadata": {
        "id": "3Oe35bXD3FMM"
      },
      "source": [
        "wrate = 0.2\n",
        "count = 0\n",
        "random.seed(seed)\n",
        "begin = random.randint(0, int(len(train_y)*(1-wrate)))\n",
        "end = begin + int(len(train_y)*wrate)\n",
        "mislabel_index = [i for i in range(begin, end)]\n",
        "for i in range(begin, end):\n",
        "  if train_y[i] != 0:\n",
        "    train_y[i] = 0\n",
        "    count += 1"
      ],
      "execution_count": null,
      "outputs": []
    },
    {
      "cell_type": "code",
      "metadata": {
        "id": "diuI8aUmchH_"
      },
      "source": [
        "def nwrate_2(a, b, c, d, wrate):\n",
        "  c = train_y.copy()\n",
        "  count = 0\n",
        "  random.seed(seed)\n",
        "  begin = random.randint(0, int(len(c)*(1-wrate)))\n",
        "  end = begin + int(len(c)*wrate)\n",
        "  mislabel_index = [i for i in range(begin, end)]\n",
        "  for i in range(begin, end):\n",
        "    if c[i] != 0:\n",
        "      c[i] = 0\n",
        "      count += 1 \n",
        "  model = RandomForestClassifier(n_estimators=50, random_state=0)\n",
        "  model.fit(a, c)\n",
        "  pred_y = model.predict(b)\n",
        "  return accuracy_score(d, pred_y)"
      ],
      "execution_count": null,
      "outputs": []
    },
    {
      "cell_type": "markdown",
      "metadata": {
        "id": "IVeuC5WS3teb"
      },
      "source": [
        "##### modify 3 specific attack to bening"
      ]
    },
    {
      "cell_type": "markdown",
      "metadata": {
        "id": "0r4yuxzj7HeS"
      },
      "source": [
        "区间 modify specific to benign"
      ]
    },
    {
      "cell_type": "code",
      "metadata": {
        "id": "Fl1HRBZj32vz"
      },
      "source": [
        "wrate = 0.2\n",
        "#group changed label\n",
        "count = 0\n",
        "random.seed(seed)\n",
        "begin = random.randint(0, int(len(train_y)*(1-wrate)))\n",
        "end = begin + int(len(train_y)*wrate)\n",
        "mislabel_index = [i for i in range(begin, end)]\n",
        "specific = 4\n",
        "for i in range(begin, end):\n",
        "  if train_y[i] == 4:\n",
        "    train_y[i] = 0\n",
        "    count += 1 "
      ],
      "execution_count": null,
      "outputs": []
    },
    {
      "cell_type": "code",
      "metadata": {
        "id": "KGpgkxrzdMFX"
      },
      "source": [
        "def nwrate_3(a, b, c, d, wrate):\n",
        "  c = train_y.copy()\n",
        "  count = 0\n",
        "  random.seed(seed)\n",
        "  begin = random.randint(0, int(len(c)*(1-wrate)))\n",
        "  end = begin + int(len(c)*wrate)\n",
        "  mislabel_index = [i for i in range(begin, end)]\n",
        "  for i in range(begin, end):\n",
        "    if c[i] == 4:\n",
        "      c[i] = 0\n",
        "      count += 1  \n",
        "  model = RandomForestClassifier(n_estimators=50, random_state=0)\n",
        "  model.fit(a, c)\n",
        "  pred_y = model.predict(b)\n",
        "  return accuracy_score(d, pred_y)"
      ],
      "execution_count": null,
      "outputs": []
    },
    {
      "cell_type": "markdown",
      "metadata": {
        "id": "-giOuY2Z4OSD"
      },
      "source": [
        "#####modify 4 specific attack change rate"
      ]
    },
    {
      "cell_type": "markdown",
      "metadata": {
        "id": "QbP1Cpff633s"
      },
      "source": [
        "modify wrate% specific attack to normal"
      ]
    },
    {
      "cell_type": "code",
      "metadata": {
        "id": "M4qJT4SN32s0"
      },
      "source": [
        "wrate = 0.2\n",
        "#group changed label\n",
        "attack_count = 0\n",
        "# random.seed(seed)\n",
        "# begin = random.randint(0, int(len(train_y)*(1-wrate)))\n",
        "# end = begin + int(len(train_y)*wrate)\n",
        "# mislabel_index = [i for i in range(begin, end)]\n",
        "\n",
        "specific = 4\n",
        "for i in train_y:\n",
        "  if i == specific:\n",
        "    attack_count += 1\n",
        "mod_label = attack_count * warate\n",
        "mislabel_index = []\n",
        "for i in range(len(train_y)):\n",
        "  if len(mislabel_index) >= mod_label:\n",
        "    break\n",
        "  if train_y[i] == specific:\n",
        "    train_y[i] = 0\n",
        "    mislabel_index.append(i)\n"
      ],
      "execution_count": null,
      "outputs": []
    },
    {
      "cell_type": "code",
      "metadata": {
        "id": "GL82Uu7Ee_pU"
      },
      "source": [
        "def nwrate_4(a, b, c, d, wrate):\n",
        "  c = train_y.copy()\n",
        "  attack_count = 0\n",
        "  count = 0\n",
        "  specific = 4\n",
        "  for i in c:\n",
        "    if i == specific:\n",
        "      attack_count += 1\n",
        "  mod_label = attack_count * wrate\n",
        "  mislabel_index = []\n",
        "  for i in range(len(c)):\n",
        "    if len(mislabel_index) >= mod_label:\n",
        "      break\n",
        "    if c[i] == specific:\n",
        "      c[i] = 0\n",
        "      mislabel_index.append(i) \n",
        "  model = RandomForestClassifier(n_estimators=50, random_state=0)\n",
        "  model.fit(a, c)\n",
        "  pred_y = model.predict(b)\n",
        "  return accuracy_score(d, pred_y)"
      ],
      "execution_count": 12,
      "outputs": []
    },
    {
      "cell_type": "markdown",
      "metadata": {
        "id": "XBT6c6pn_lbd"
      },
      "source": [
        "##### robust test"
      ]
    },
    {
      "cell_type": "code",
      "metadata": {
        "id": "24saRNe1Dq5j"
      },
      "source": [
        "def nwrate(a, b, c, d, wrate):\n",
        "  \n",
        "  model = RandomForestClassifier(n_estimators=50, random_state=0)\n",
        "  model.fit(a, c)\n",
        "  pred_y = model.predict(b)\n",
        "  return accuracy_score(d, pred_y)"
      ],
      "execution_count": null,
      "outputs": []
    },
    {
      "cell_type": "code",
      "metadata": {
        "colab": {
          "base_uri": "https://localhost:8080/"
        },
        "id": "rLA6xrXRajZf",
        "outputId": "e4bd5da0-7ca9-42a2-91c2-919f3f230270"
      },
      "source": [
        "len(train_y)"
      ],
      "execution_count": null,
      "outputs": [
        {
          "output_type": "execute_result",
          "data": {
            "text/plain": [
              "2014"
            ]
          },
          "metadata": {},
          "execution_count": 12
        }
      ]
    },
    {
      "cell_type": "code",
      "metadata": {
        "id": "V-KHuK4pajL4"
      },
      "source": [
        ""
      ],
      "execution_count": null,
      "outputs": []
    },
    {
      "cell_type": "code",
      "metadata": {
        "id": "o68KgNKkajI1"
      },
      "source": [
        ""
      ],
      "execution_count": null,
      "outputs": []
    },
    {
      "cell_type": "code",
      "metadata": {
        "colab": {
          "base_uri": "https://localhost:8080/"
        },
        "id": "60C8LKY9ic0b",
        "outputId": "97d0f2ee-c81f-4bcc-89ab-661c04bb1b1c"
      },
      "source": [
        "acc_result = []\n",
        "s = time.time()\n",
        "type_attack = 3\n",
        "f = [nwrate_1, nwrate_2, nwrate_3]\n",
        "f = f[type_attack - 1]\n",
        "for i in range(0, 50, 5):\n",
        "  acc_result.append(f(train_X, test_X, train_y, test_y, i/100))\n",
        "print(time.time() - s)"
      ],
      "execution_count": null,
      "outputs": [
        {
          "output_type": "stream",
          "name": "stdout",
          "text": [
            "1.507087230682373\n"
          ]
        }
      ]
    },
    {
      "cell_type": "code",
      "metadata": {
        "colab": {
          "base_uri": "https://localhost:8080/",
          "height": 295
        },
        "id": "xMJRYts_YXl-",
        "outputId": "321969e7-dd70-4e9e-fa60-e5bc522ece95"
      },
      "source": [
        "plt.plot([i/100 for i in range(0, 50, 5)], acc_result, 'r', label='Performance')\n",
        "\n",
        "plt.xlim(0, 1)\n",
        "plt.title('Single source single attack mislabeling')\n",
        "plt.xlabel('Modify ratio')\n",
        "plt.ylabel('Accuracy')\n",
        "plt.legend()\n",
        "plt.show()"
      ],
      "execution_count": null,
      "outputs": [
        {
          "output_type": "display_data",
          "data": {
            "image/png": "[encoded data removed]",
            "text/plain": [
              "<Figure size 432x288 with 1 Axes>"
            ]
          },
          "metadata": {
            "needs_background": "light"
          }
        }
      ]
    },
    {
      "cell_type": "code",
      "metadata": {
        "colab": {
          "base_uri": "https://localhost:8080/"
        },
        "id": "qYoRoAgzYXix",
        "outputId": "25aba117-0d1b-4e95-ac2d-f72349b57319"
      },
      "source": [
        "acc_result = []\n",
        "s = time.time()\n",
        "for i in range(0, 100, 5):\n",
        "  acc_result.append(nwrate_4(train_X, test_X, train_y, test_y, i/100))\n",
        "print(time.time() - s)"
      ],
      "execution_count": 13,
      "outputs": [
        {
          "output_type": "stream",
          "name": "stdout",
          "text": [
            "2.9655277729034424\n"
          ]
        }
      ]
    },
    {
      "cell_type": "code",
      "metadata": {
        "colab": {
          "base_uri": "https://localhost:8080/",
          "height": 295
        },
        "id": "kyHcSGiafoTo",
        "outputId": "52f3ee24-427c-45f1-8020-c667c980be34"
      },
      "source": [
        "plt.plot([i/100 for i in range(0, 100, 5)], acc_result, 'r', label='Performance')\n",
        "\n",
        "plt.xlim(0, 1)\n",
        "plt.title('Multi source single attack mislabeling')\n",
        "plt.xlabel('Modify ratio')\n",
        "plt.ylabel('Accuracy')\n",
        "plt.legend()\n",
        "plt.show()"
      ],
      "execution_count": 15,
      "outputs": [
        {
          "output_type": "display_data",
          "data": {
            "image/png": "[encoded data removed]",
            "text/plain": [
              "<Figure size 432x288 with 1 Axes>"
            ]
          },
          "metadata": {
            "needs_background": "light"
          }
        }
      ]
    },
    {
      "cell_type": "markdown",
      "metadata": {
        "id": "HwCvzxHMRNwQ"
      },
      "source": [
        "##### apply shapley"
      ]
    },
    {
      "cell_type": "code",
      "metadata": {
        "id": "zcQFgiqDYXgb"
      },
      "source": [
        "origin_mark = trans_wrongindex(mislabel_index, len(train_y))"
      ],
      "execution_count": null,
      "outputs": []
    },
    {
      "cell_type": "code",
      "metadata": {
        "colab": {
          "base_uri": "https://localhost:8080/"
        },
        "id": "KanQvgIyf1q9",
        "outputId": "f222a352-b18a-40b9-e6ce-9eea797f8f32"
      },
      "source": [
        "begin"
      ],
      "execution_count": null,
      "outputs": [
        {
          "output_type": "execute_result",
          "data": {
            "text/plain": [
              "275"
            ]
          },
          "metadata": {},
          "execution_count": 11
        }
      ]
    },
    {
      "cell_type": "code",
      "metadata": {
        "colab": {
          "base_uri": "https://localhost:8080/"
        },
        "id": "X4eOMLkKf8Mm",
        "outputId": "f969285c-6efa-4e1c-a1a0-087588b35df5"
      },
      "source": [
        "end"
      ],
      "execution_count": null,
      "outputs": [
        {
          "output_type": "execute_result",
          "data": {
            "text/plain": [
              "677"
            ]
          },
          "metadata": {},
          "execution_count": 12
        }
      ]
    },
    {
      "cell_type": "code",
      "metadata": {
        "colab": {
          "base_uri": "https://localhost:8080/"
        },
        "id": "n5S6jQ4mU3Ev",
        "outputId": "70eb1278-a98f-4852-c0bb-4421fa07acbd"
      },
      "source": [
        "pd.Series(origin_mark).value_counts()"
      ],
      "execution_count": null,
      "outputs": [
        {
          "output_type": "execute_result",
          "data": {
            "text/plain": [
              "True     1612\n",
              "False     402\n",
              "dtype: int64"
            ]
          },
          "metadata": {},
          "execution_count": 13
        }
      ]
    },
    {
      "cell_type": "code",
      "metadata": {
        "id": "gSv7X3cvU3AP"
      },
      "source": [
        "sources = {}\n",
        "group_num = 20\n",
        "num_group = int(len(train_X)/group_num)\n",
        "for i in range(0, len(train_X), num_group):\n",
        "    sources[int(i/num_group)] = np.array(list(range(i,i+num_group,1)))\n",
        "sources[int(i/num_group)] = sources[int(i/num_group)][sources[int(i/num_group)] < len(train_X)]"
      ],
      "execution_count": null,
      "outputs": []
    },
    {
      "cell_type": "code",
      "metadata": {
        "colab": {
          "base_uri": "https://localhost:8080/"
        },
        "id": "k0GsxKb7VWRw",
        "outputId": "6afbb07b-6726-4f54-92e4-7629777c5e33"
      },
      "source": [
        "sources"
      ],
      "execution_count": null,
      "outputs": [
        {
          "output_type": "execute_result",
          "data": {
            "text/plain": [
              "{0: array([ 0,  1,  2,  3,  4,  5,  6,  7,  8,  9, 10, 11, 12, 13, 14, 15, 16,\n",
              "        17, 18, 19, 20, 21, 22, 23, 24, 25, 26, 27, 28, 29, 30, 31, 32, 33,\n",
              "        34, 35, 36, 37, 38, 39, 40, 41, 42, 43, 44, 45, 46, 47, 48, 49, 50,\n",
              "        51, 52, 53, 54, 55, 56, 57, 58, 59, 60, 61, 62, 63, 64, 65, 66, 67,\n",
              "        68, 69, 70, 71, 72, 73, 74, 75, 76, 77, 78, 79, 80, 81, 82, 83, 84,\n",
              "        85, 86, 87, 88, 89, 90, 91, 92, 93, 94, 95, 96, 97, 98, 99]),\n",
              " 1: array([100, 101, 102, 103, 104, 105, 106, 107, 108, 109, 110, 111, 112,\n",
              "        113, 114, 115, 116, 117, 118, 119, 120, 121, 122, 123, 124, 125,\n",
              "        126, 127, 128, 129, 130, 131, 132, 133, 134, 135, 136, 137, 138,\n",
              "        139, 140, 141, 142, 143, 144, 145, 146, 147, 148, 149, 150, 151,\n",
              "        152, 153, 154, 155, 156, 157, 158, 159, 160, 161, 162, 163, 164,\n",
              "        165, 166, 167, 168, 169, 170, 171, 172, 173, 174, 175, 176, 177,\n",
              "        178, 179, 180, 181, 182, 183, 184, 185, 186, 187, 188, 189, 190,\n",
              "        191, 192, 193, 194, 195, 196, 197, 198, 199]),\n",
              " 2: array([200, 201, 202, 203, 204, 205, 206, 207, 208, 209, 210, 211, 212,\n",
              "        213, 214, 215, 216, 217, 218, 219, 220, 221, 222, 223, 224, 225,\n",
              "        226, 227, 228, 229, 230, 231, 232, 233, 234, 235, 236, 237, 238,\n",
              "        239, 240, 241, 242, 243, 244, 245, 246, 247, 248, 249, 250, 251,\n",
              "        252, 253, 254, 255, 256, 257, 258, 259, 260, 261, 262, 263, 264,\n",
              "        265, 266, 267, 268, 269, 270, 271, 272, 273, 274, 275, 276, 277,\n",
              "        278, 279, 280, 281, 282, 283, 284, 285, 286, 287, 288, 289, 290,\n",
              "        291, 292, 293, 294, 295, 296, 297, 298, 299]),\n",
              " 3: array([300, 301, 302, 303, 304, 305, 306, 307, 308, 309, 310, 311, 312,\n",
              "        313, 314, 315, 316, 317, 318, 319, 320, 321, 322, 323, 324, 325,\n",
              "        326, 327, 328, 329, 330, 331, 332, 333, 334, 335, 336, 337, 338,\n",
              "        339, 340, 341, 342, 343, 344, 345, 346, 347, 348, 349, 350, 351,\n",
              "        352, 353, 354, 355, 356, 357, 358, 359, 360, 361, 362, 363, 364,\n",
              "        365, 366, 367, 368, 369, 370, 371, 372, 373, 374, 375, 376, 377,\n",
              "        378, 379, 380, 381, 382, 383, 384, 385, 386, 387, 388, 389, 390,\n",
              "        391, 392, 393, 394, 395, 396, 397, 398, 399]),\n",
              " 4: array([400, 401, 402, 403, 404, 405, 406, 407, 408, 409, 410, 411, 412,\n",
              "        413, 414, 415, 416, 417, 418, 419, 420, 421, 422, 423, 424, 425,\n",
              "        426, 427, 428, 429, 430, 431, 432, 433, 434, 435, 436, 437, 438,\n",
              "        439, 440, 441, 442, 443, 444, 445, 446, 447, 448, 449, 450, 451,\n",
              "        452, 453, 454, 455, 456, 457, 458, 459, 460, 461, 462, 463, 464,\n",
              "        465, 466, 467, 468, 469, 470, 471, 472, 473, 474, 475, 476, 477,\n",
              "        478, 479, 480, 481, 482, 483, 484, 485, 486, 487, 488, 489, 490,\n",
              "        491, 492, 493, 494, 495, 496, 497, 498, 499]),\n",
              " 5: array([500, 501, 502, 503, 504, 505, 506, 507, 508, 509, 510, 511, 512,\n",
              "        513, 514, 515, 516, 517, 518, 519, 520, 521, 522, 523, 524, 525,\n",
              "        526, 527, 528, 529, 530, 531, 532, 533, 534, 535, 536, 537, 538,\n",
              "        539, 540, 541, 542, 543, 544, 545, 546, 547, 548, 549, 550, 551,\n",
              "        552, 553, 554, 555, 556, 557, 558, 559, 560, 561, 562, 563, 564,\n",
              "        565, 566, 567, 568, 569, 570, 571, 572, 573, 574, 575, 576, 577,\n",
              "        578, 579, 580, 581, 582, 583, 584, 585, 586, 587, 588, 589, 590,\n",
              "        591, 592, 593, 594, 595, 596, 597, 598, 599]),\n",
              " 6: array([600, 601, 602, 603, 604, 605, 606, 607, 608, 609, 610, 611, 612,\n",
              "        613, 614, 615, 616, 617, 618, 619, 620, 621, 622, 623, 624, 625,\n",
              "        626, 627, 628, 629, 630, 631, 632, 633, 634, 635, 636, 637, 638,\n",
              "        639, 640, 641, 642, 643, 644, 645, 646, 647, 648, 649, 650, 651,\n",
              "        652, 653, 654, 655, 656, 657, 658, 659, 660, 661, 662, 663, 664,\n",
              "        665, 666, 667, 668, 669, 670, 671, 672, 673, 674, 675, 676, 677,\n",
              "        678, 679, 680, 681, 682, 683, 684, 685, 686, 687, 688, 689, 690,\n",
              "        691, 692, 693, 694, 695, 696, 697, 698, 699]),\n",
              " 7: array([700, 701, 702, 703, 704, 705, 706, 707, 708, 709, 710, 711, 712,\n",
              "        713, 714, 715, 716, 717, 718, 719, 720, 721, 722, 723, 724, 725,\n",
              "        726, 727, 728, 729, 730, 731, 732, 733, 734, 735, 736, 737, 738,\n",
              "        739, 740, 741, 742, 743, 744, 745, 746, 747, 748, 749, 750, 751,\n",
              "        752, 753, 754, 755, 756, 757, 758, 759, 760, 761, 762, 763, 764,\n",
              "        765, 766, 767, 768, 769, 770, 771, 772, 773, 774, 775, 776, 777,\n",
              "        778, 779, 780, 781, 782, 783, 784, 785, 786, 787, 788, 789, 790,\n",
              "        791, 792, 793, 794, 795, 796, 797, 798, 799]),\n",
              " 8: array([800, 801, 802, 803, 804, 805, 806, 807, 808, 809, 810, 811, 812,\n",
              "        813, 814, 815, 816, 817, 818, 819, 820, 821, 822, 823, 824, 825,\n",
              "        826, 827, 828, 829, 830, 831, 832, 833, 834, 835, 836, 837, 838,\n",
              "        839, 840, 841, 842, 843, 844, 845, 846, 847, 848, 849, 850, 851,\n",
              "        852, 853, 854, 855, 856, 857, 858, 859, 860, 861, 862, 863, 864,\n",
              "        865, 866, 867, 868, 869, 870, 871, 872, 873, 874, 875, 876, 877,\n",
              "        878, 879, 880, 881, 882, 883, 884, 885, 886, 887, 888, 889, 890,\n",
              "        891, 892, 893, 894, 895, 896, 897, 898, 899]),\n",
              " 9: array([900, 901, 902, 903, 904, 905, 906, 907, 908, 909, 910, 911, 912,\n",
              "        913, 914, 915, 916, 917, 918, 919, 920, 921, 922, 923, 924, 925,\n",
              "        926, 927, 928, 929, 930, 931, 932, 933, 934, 935, 936, 937, 938,\n",
              "        939, 940, 941, 942, 943, 944, 945, 946, 947, 948, 949, 950, 951,\n",
              "        952, 953, 954, 955, 956, 957, 958, 959, 960, 961, 962, 963, 964,\n",
              "        965, 966, 967, 968, 969, 970, 971, 972, 973, 974, 975, 976, 977,\n",
              "        978, 979, 980, 981, 982, 983, 984, 985, 986, 987, 988, 989, 990,\n",
              "        991, 992, 993, 994, 995, 996, 997, 998, 999]),\n",
              " 10: array([1000, 1001, 1002, 1003, 1004, 1005, 1006, 1007, 1008, 1009, 1010,\n",
              "        1011, 1012, 1013, 1014, 1015, 1016, 1017, 1018, 1019, 1020, 1021,\n",
              "        1022, 1023, 1024, 1025, 1026, 1027, 1028, 1029, 1030, 1031, 1032,\n",
              "        1033, 1034, 1035, 1036, 1037, 1038, 1039, 1040, 1041, 1042, 1043,\n",
              "        1044, 1045, 1046, 1047, 1048, 1049, 1050, 1051, 1052, 1053, 1054,\n",
              "        1055, 1056, 1057, 1058, 1059, 1060, 1061, 1062, 1063, 1064, 1065,\n",
              "        1066, 1067, 1068, 1069, 1070, 1071, 1072, 1073, 1074, 1075, 1076,\n",
              "        1077, 1078, 1079, 1080, 1081, 1082, 1083, 1084, 1085, 1086, 1087,\n",
              "        1088, 1089, 1090, 1091, 1092, 1093, 1094, 1095, 1096, 1097, 1098,\n",
              "        1099]),\n",
              " 11: array([1100, 1101, 1102, 1103, 1104, 1105, 1106, 1107, 1108, 1109, 1110,\n",
              "        1111, 1112, 1113, 1114, 1115, 1116, 1117, 1118, 1119, 1120, 1121,\n",
              "        1122, 1123, 1124, 1125, 1126, 1127, 1128, 1129, 1130, 1131, 1132,\n",
              "        1133, 1134, 1135, 1136, 1137, 1138, 1139, 1140, 1141, 1142, 1143,\n",
              "        1144, 1145, 1146, 1147, 1148, 1149, 1150, 1151, 1152, 1153, 1154,\n",
              "        1155, 1156, 1157, 1158, 1159, 1160, 1161, 1162, 1163, 1164, 1165,\n",
              "        1166, 1167, 1168, 1169, 1170, 1171, 1172, 1173, 1174, 1175, 1176,\n",
              "        1177, 1178, 1179, 1180, 1181, 1182, 1183, 1184, 1185, 1186, 1187,\n",
              "        1188, 1189, 1190, 1191, 1192, 1193, 1194, 1195, 1196, 1197, 1198,\n",
              "        1199]),\n",
              " 12: array([1200, 1201, 1202, 1203, 1204, 1205, 1206, 1207, 1208, 1209, 1210,\n",
              "        1211, 1212, 1213, 1214, 1215, 1216, 1217, 1218, 1219, 1220, 1221,\n",
              "        1222, 1223, 1224, 1225, 1226, 1227, 1228, 1229, 1230, 1231, 1232,\n",
              "        1233, 1234, 1235, 1236, 1237, 1238, 1239, 1240, 1241, 1242, 1243,\n",
              "        1244, 1245, 1246, 1247, 1248, 1249, 1250, 1251, 1252, 1253, 1254,\n",
              "        1255, 1256, 1257, 1258, 1259, 1260, 1261, 1262, 1263, 1264, 1265,\n",
              "        1266, 1267, 1268, 1269, 1270, 1271, 1272, 1273, 1274, 1275, 1276,\n",
              "        1277, 1278, 1279, 1280, 1281, 1282, 1283, 1284, 1285, 1286, 1287,\n",
              "        1288, 1289, 1290, 1291, 1292, 1293, 1294, 1295, 1296, 1297, 1298,\n",
              "        1299]),\n",
              " 13: array([1300, 1301, 1302, 1303, 1304, 1305, 1306, 1307, 1308, 1309, 1310,\n",
              "        1311, 1312, 1313, 1314, 1315, 1316, 1317, 1318, 1319, 1320, 1321,\n",
              "        1322, 1323, 1324, 1325, 1326, 1327, 1328, 1329, 1330, 1331, 1332,\n",
              "        1333, 1334, 1335, 1336, 1337, 1338, 1339, 1340, 1341, 1342, 1343,\n",
              "        1344, 1345, 1346, 1347, 1348, 1349, 1350, 1351, 1352, 1353, 1354,\n",
              "        1355, 1356, 1357, 1358, 1359, 1360, 1361, 1362, 1363, 1364, 1365,\n",
              "        1366, 1367, 1368, 1369, 1370, 1371, 1372, 1373, 1374, 1375, 1376,\n",
              "        1377, 1378, 1379, 1380, 1381, 1382, 1383, 1384, 1385, 1386, 1387,\n",
              "        1388, 1389, 1390, 1391, 1392, 1393, 1394, 1395, 1396, 1397, 1398,\n",
              "        1399]),\n",
              " 14: array([1400, 1401, 1402, 1403, 1404, 1405, 1406, 1407, 1408, 1409, 1410,\n",
              "        1411, 1412, 1413, 1414, 1415, 1416, 1417, 1418, 1419, 1420, 1421,\n",
              "        1422, 1423, 1424, 1425, 1426, 1427, 1428, 1429, 1430, 1431, 1432,\n",
              "        1433, 1434, 1435, 1436, 1437, 1438, 1439, 1440, 1441, 1442, 1443,\n",
              "        1444, 1445, 1446, 1447, 1448, 1449, 1450, 1451, 1452, 1453, 1454,\n",
              "        1455, 1456, 1457, 1458, 1459, 1460, 1461, 1462, 1463, 1464, 1465,\n",
              "        1466, 1467, 1468, 1469, 1470, 1471, 1472, 1473, 1474, 1475, 1476,\n",
              "        1477, 1478, 1479, 1480, 1481, 1482, 1483, 1484, 1485, 1486, 1487,\n",
              "        1488, 1489, 1490, 1491, 1492, 1493, 1494, 1495, 1496, 1497, 1498,\n",
              "        1499]),\n",
              " 15: array([1500, 1501, 1502, 1503, 1504, 1505, 1506, 1507, 1508, 1509, 1510,\n",
              "        1511, 1512, 1513, 1514, 1515, 1516, 1517, 1518, 1519, 1520, 1521,\n",
              "        1522, 1523, 1524, 1525, 1526, 1527, 1528, 1529, 1530, 1531, 1532,\n",
              "        1533, 1534, 1535, 1536, 1537, 1538, 1539, 1540, 1541, 1542, 1543,\n",
              "        1544, 1545, 1546, 1547, 1548, 1549, 1550, 1551, 1552, 1553, 1554,\n",
              "        1555, 1556, 1557, 1558, 1559, 1560, 1561, 1562, 1563, 1564, 1565,\n",
              "        1566, 1567, 1568, 1569, 1570, 1571, 1572, 1573, 1574, 1575, 1576,\n",
              "        1577, 1578, 1579, 1580, 1581, 1582, 1583, 1584, 1585, 1586, 1587,\n",
              "        1588, 1589, 1590, 1591, 1592, 1593, 1594, 1595, 1596, 1597, 1598,\n",
              "        1599]),\n",
              " 16: array([1600, 1601, 1602, 1603, 1604, 1605, 1606, 1607, 1608, 1609, 1610,\n",
              "        1611, 1612, 1613, 1614, 1615, 1616, 1617, 1618, 1619, 1620, 1621,\n",
              "        1622, 1623, 1624, 1625, 1626, 1627, 1628, 1629, 1630, 1631, 1632,\n",
              "        1633, 1634, 1635, 1636, 1637, 1638, 1639, 1640, 1641, 1642, 1643,\n",
              "        1644, 1645, 1646, 1647, 1648, 1649, 1650, 1651, 1652, 1653, 1654,\n",
              "        1655, 1656, 1657, 1658, 1659, 1660, 1661, 1662, 1663, 1664, 1665,\n",
              "        1666, 1667, 1668, 1669, 1670, 1671, 1672, 1673, 1674, 1675, 1676,\n",
              "        1677, 1678, 1679, 1680, 1681, 1682, 1683, 1684, 1685, 1686, 1687,\n",
              "        1688, 1689, 1690, 1691, 1692, 1693, 1694, 1695, 1696, 1697, 1698,\n",
              "        1699]),\n",
              " 17: array([1700, 1701, 1702, 1703, 1704, 1705, 1706, 1707, 1708, 1709, 1710,\n",
              "        1711, 1712, 1713, 1714, 1715, 1716, 1717, 1718, 1719, 1720, 1721,\n",
              "        1722, 1723, 1724, 1725, 1726, 1727, 1728, 1729, 1730, 1731, 1732,\n",
              "        1733, 1734, 1735, 1736, 1737, 1738, 1739, 1740, 1741, 1742, 1743,\n",
              "        1744, 1745, 1746, 1747, 1748, 1749, 1750, 1751, 1752, 1753, 1754,\n",
              "        1755, 1756, 1757, 1758, 1759, 1760, 1761, 1762, 1763, 1764, 1765,\n",
              "        1766, 1767, 1768, 1769, 1770, 1771, 1772, 1773, 1774, 1775, 1776,\n",
              "        1777, 1778, 1779, 1780, 1781, 1782, 1783, 1784, 1785, 1786, 1787,\n",
              "        1788, 1789, 1790, 1791, 1792, 1793, 1794, 1795, 1796, 1797, 1798,\n",
              "        1799]),\n",
              " 18: array([1800, 1801, 1802, 1803, 1804, 1805, 1806, 1807, 1808, 1809, 1810,\n",
              "        1811, 1812, 1813, 1814, 1815, 1816, 1817, 1818, 1819, 1820, 1821,\n",
              "        1822, 1823, 1824, 1825, 1826, 1827, 1828, 1829, 1830, 1831, 1832,\n",
              "        1833, 1834, 1835, 1836, 1837, 1838, 1839, 1840, 1841, 1842, 1843,\n",
              "        1844, 1845, 1846, 1847, 1848, 1849, 1850, 1851, 1852, 1853, 1854,\n",
              "        1855, 1856, 1857, 1858, 1859, 1860, 1861, 1862, 1863, 1864, 1865,\n",
              "        1866, 1867, 1868, 1869, 1870, 1871, 1872, 1873, 1874, 1875, 1876,\n",
              "        1877, 1878, 1879, 1880, 1881, 1882, 1883, 1884, 1885, 1886, 1887,\n",
              "        1888, 1889, 1890, 1891, 1892, 1893, 1894, 1895, 1896, 1897, 1898,\n",
              "        1899]),\n",
              " 19: array([1900, 1901, 1902, 1903, 1904, 1905, 1906, 1907, 1908, 1909, 1910,\n",
              "        1911, 1912, 1913, 1914, 1915, 1916, 1917, 1918, 1919, 1920, 1921,\n",
              "        1922, 1923, 1924, 1925, 1926, 1927, 1928, 1929, 1930, 1931, 1932,\n",
              "        1933, 1934, 1935, 1936, 1937, 1938, 1939, 1940, 1941, 1942, 1943,\n",
              "        1944, 1945, 1946, 1947, 1948, 1949, 1950, 1951, 1952, 1953, 1954,\n",
              "        1955, 1956, 1957, 1958, 1959, 1960, 1961, 1962, 1963, 1964, 1965,\n",
              "        1966, 1967, 1968, 1969, 1970, 1971, 1972, 1973, 1974, 1975, 1976,\n",
              "        1977, 1978, 1979, 1980, 1981, 1982, 1983, 1984, 1985, 1986, 1987,\n",
              "        1988, 1989, 1990, 1991, 1992, 1993, 1994, 1995, 1996, 1997, 1998,\n",
              "        1999]),\n",
              " 20: array([2000, 2001, 2002, 2003, 2004, 2005, 2006, 2007, 2008, 2009, 2010,\n",
              "        2011, 2012, 2013])}"
            ]
          },
          "metadata": {},
          "execution_count": 15
        }
      ]
    },
    {
      "cell_type": "code",
      "metadata": {
        "colab": {
          "base_uri": "https://localhost:8080/"
        },
        "id": "zJ-MYjZwa2Mt",
        "outputId": "9172efa5-4f30-4de4-f0c9-48739e4f77aa"
      },
      "source": [
        "num_test"
      ],
      "execution_count": null,
      "outputs": [
        {
          "output_type": "execute_result",
          "data": {
            "text/plain": [
              "1007"
            ]
          },
          "metadata": {},
          "execution_count": 41
        }
      ]
    },
    {
      "cell_type": "code",
      "metadata": {
        "id": "eoVJXxEDYXdw",
        "colab": {
          "base_uri": "https://localhost:8080/"
        },
        "outputId": "7c73d64e-18ce-49e4-a72a-d56b0fb7a7b9"
      },
      "source": [
        "X, y = train_X.copy(), train_y.copy()\n",
        "X_test, y_test = test_X.copy(), test_y.copy()\n",
        "model = 'RandomForest'\n",
        "problem = 'classification'\n",
        "directory = './temp'\n",
        "dshap = DShap(X, y, X_test, y_test, num_test, \n",
        "              sources=sources, \n",
        "              sample_weight=None,\n",
        "              model_family=model, \n",
        "              metric='accuracy',\n",
        "              overwrite=True,\n",
        "              directory=directory, seed=0)\n",
        "s = time.time()\n",
        "dshap.run(group_num*3, 0.1)\n",
        "print(time.time() - s)"
      ],
      "execution_count": null,
      "outputs": [
        {
          "output_type": "stream",
          "name": "stdout",
          "text": [
            "WARNING:tensorflow:From /content/DataShapley/DShap.py:54: The name tf.random.set_random_seed is deprecated. Please use tf.compat.v1.random.set_random_seed instead.\n",
            "\n",
            "Starting LOO score calculations!\n",
            "LOO values calculated!\n",
            "6 out of 60 TMC_Shapley iterations.\n",
            "12 out of 60 TMC_Shapley iterations.\n",
            "18 out of 60 TMC_Shapley iterations.\n",
            "24 out of 60 TMC_Shapley iterations.\n",
            "30 out of 60 TMC_Shapley iterations.\n",
            "36 out of 60 TMC_Shapley iterations.\n",
            "42 out of 60 TMC_Shapley iterations.\n",
            "48 out of 60 TMC_Shapley iterations.\n",
            "54 out of 60 TMC_Shapley iterations.\n",
            "60 out of 60 TMC_Shapley iterations.\n",
            "6 out of 60 TMC_Shapley iterations.\n",
            "12 out of 60 TMC_Shapley iterations.\n",
            "18 out of 60 TMC_Shapley iterations.\n",
            "24 out of 60 TMC_Shapley iterations.\n",
            "30 out of 60 TMC_Shapley iterations.\n",
            "36 out of 60 TMC_Shapley iterations.\n",
            "42 out of 60 TMC_Shapley iterations.\n",
            "48 out of 60 TMC_Shapley iterations.\n",
            "54 out of 60 TMC_Shapley iterations.\n",
            "60 out of 60 TMC_Shapley iterations.\n",
            "6 out of 60 TMC_Shapley iterations.\n",
            "12 out of 60 TMC_Shapley iterations.\n",
            "18 out of 60 TMC_Shapley iterations.\n",
            "24 out of 60 TMC_Shapley iterations.\n",
            "30 out of 60 TMC_Shapley iterations.\n",
            "36 out of 60 TMC_Shapley iterations.\n",
            "42 out of 60 TMC_Shapley iterations.\n",
            "48 out of 60 TMC_Shapley iterations.\n",
            "54 out of 60 TMC_Shapley iterations.\n",
            "60 out of 60 TMC_Shapley iterations.\n",
            "6 out of 60 TMC_Shapley iterations.\n",
            "12 out of 60 TMC_Shapley iterations.\n",
            "18 out of 60 TMC_Shapley iterations.\n",
            "24 out of 60 TMC_Shapley iterations.\n",
            "30 out of 60 TMC_Shapley iterations.\n",
            "36 out of 60 TMC_Shapley iterations.\n",
            "42 out of 60 TMC_Shapley iterations.\n",
            "48 out of 60 TMC_Shapley iterations.\n",
            "54 out of 60 TMC_Shapley iterations.\n",
            "60 out of 60 TMC_Shapley iterations.\n",
            "6 out of 60 TMC_Shapley iterations.\n",
            "12 out of 60 TMC_Shapley iterations.\n",
            "18 out of 60 TMC_Shapley iterations.\n",
            "24 out of 60 TMC_Shapley iterations.\n",
            "30 out of 60 TMC_Shapley iterations.\n",
            "36 out of 60 TMC_Shapley iterations.\n",
            "42 out of 60 TMC_Shapley iterations.\n",
            "48 out of 60 TMC_Shapley iterations.\n",
            "54 out of 60 TMC_Shapley iterations.\n",
            "60 out of 60 TMC_Shapley iterations.\n",
            "6 out of 60 TMC_Shapley iterations.\n",
            "12 out of 60 TMC_Shapley iterations.\n",
            "18 out of 60 TMC_Shapley iterations.\n",
            "24 out of 60 TMC_Shapley iterations.\n",
            "30 out of 60 TMC_Shapley iterations.\n",
            "36 out of 60 TMC_Shapley iterations.\n",
            "42 out of 60 TMC_Shapley iterations.\n",
            "48 out of 60 TMC_Shapley iterations.\n",
            "54 out of 60 TMC_Shapley iterations.\n",
            "60 out of 60 TMC_Shapley iterations.\n",
            "6 out of 60 TMC_Shapley iterations.\n",
            "12 out of 60 TMC_Shapley iterations.\n",
            "18 out of 60 TMC_Shapley iterations.\n",
            "24 out of 60 TMC_Shapley iterations.\n",
            "30 out of 60 TMC_Shapley iterations.\n",
            "36 out of 60 TMC_Shapley iterations.\n",
            "42 out of 60 TMC_Shapley iterations.\n",
            "48 out of 60 TMC_Shapley iterations.\n",
            "54 out of 60 TMC_Shapley iterations.\n",
            "60 out of 60 TMC_Shapley iterations.\n",
            "6 out of 60 TMC_Shapley iterations.\n",
            "12 out of 60 TMC_Shapley iterations.\n",
            "18 out of 60 TMC_Shapley iterations.\n",
            "24 out of 60 TMC_Shapley iterations.\n",
            "30 out of 60 TMC_Shapley iterations.\n",
            "36 out of 60 TMC_Shapley iterations.\n",
            "42 out of 60 TMC_Shapley iterations.\n",
            "48 out of 60 TMC_Shapley iterations.\n",
            "54 out of 60 TMC_Shapley iterations.\n",
            "60 out of 60 TMC_Shapley iterations.\n",
            "6 out of 60 TMC_Shapley iterations.\n",
            "12 out of 60 TMC_Shapley iterations.\n",
            "18 out of 60 TMC_Shapley iterations.\n",
            "24 out of 60 TMC_Shapley iterations.\n",
            "30 out of 60 TMC_Shapley iterations.\n",
            "36 out of 60 TMC_Shapley iterations.\n",
            "42 out of 60 TMC_Shapley iterations.\n",
            "48 out of 60 TMC_Shapley iterations.\n",
            "54 out of 60 TMC_Shapley iterations.\n",
            "60 out of 60 TMC_Shapley iterations.\n",
            "6 out of 60 TMC_Shapley iterations.\n",
            "12 out of 60 TMC_Shapley iterations.\n",
            "18 out of 60 TMC_Shapley iterations.\n",
            "24 out of 60 TMC_Shapley iterations.\n",
            "30 out of 60 TMC_Shapley iterations.\n",
            "36 out of 60 TMC_Shapley iterations.\n",
            "42 out of 60 TMC_Shapley iterations.\n",
            "48 out of 60 TMC_Shapley iterations.\n",
            "54 out of 60 TMC_Shapley iterations.\n",
            "60 out of 60 TMC_Shapley iterations.\n",
            "6 out of 60 TMC_Shapley iterations.\n",
            "12 out of 60 TMC_Shapley iterations.\n",
            "18 out of 60 TMC_Shapley iterations.\n",
            "24 out of 60 TMC_Shapley iterations.\n",
            "30 out of 60 TMC_Shapley iterations.\n",
            "36 out of 60 TMC_Shapley iterations.\n",
            "42 out of 60 TMC_Shapley iterations.\n",
            "48 out of 60 TMC_Shapley iterations.\n",
            "54 out of 60 TMC_Shapley iterations.\n",
            "60 out of 60 TMC_Shapley iterations.\n",
            "6 out of 60 TMC_Shapley iterations.\n",
            "12 out of 60 TMC_Shapley iterations.\n",
            "18 out of 60 TMC_Shapley iterations.\n",
            "24 out of 60 TMC_Shapley iterations.\n",
            "30 out of 60 TMC_Shapley iterations.\n",
            "36 out of 60 TMC_Shapley iterations.\n",
            "42 out of 60 TMC_Shapley iterations.\n",
            "48 out of 60 TMC_Shapley iterations.\n",
            "54 out of 60 TMC_Shapley iterations.\n",
            "60 out of 60 TMC_Shapley iterations.\n",
            "6 out of 60 TMC_Shapley iterations.\n",
            "12 out of 60 TMC_Shapley iterations.\n",
            "18 out of 60 TMC_Shapley iterations.\n",
            "24 out of 60 TMC_Shapley iterations.\n",
            "30 out of 60 TMC_Shapley iterations.\n",
            "36 out of 60 TMC_Shapley iterations.\n",
            "42 out of 60 TMC_Shapley iterations.\n",
            "48 out of 60 TMC_Shapley iterations.\n",
            "54 out of 60 TMC_Shapley iterations.\n",
            "60 out of 60 TMC_Shapley iterations.\n",
            "30.377102613449097\n"
          ]
        }
      ]
    },
    {
      "cell_type": "code",
      "metadata": {
        "colab": {
          "base_uri": "https://localhost:8080/"
        },
        "id": "VjMVB6LSdvT9",
        "outputId": "e489b58e-a853-4b5d-b401-f82ad86a224b"
      },
      "source": [
        "dshap.merge_results()"
      ],
      "execution_count": null,
      "outputs": [
        {
          "output_type": "stream",
          "name": "stdout",
          "text": [
            "./temp/mem_tmc_0000.pkl\n"
          ]
        }
      ]
    },
    {
      "cell_type": "code",
      "metadata": {
        "id": "VN63Fvm7qiFj",
        "colab": {
          "base_uri": "https://localhost:8080/"
        },
        "outputId": "f296e2d9-9c0e-4b02-bc54-6da6df842fb4"
      },
      "source": [
        "min(dshap.vals_tmc)"
      ],
      "execution_count": null,
      "outputs": [
        {
          "output_type": "execute_result",
          "data": {
            "text/plain": [
              "0.0"
            ]
          },
          "metadata": {},
          "execution_count": 18
        }
      ]
    },
    {
      "cell_type": "code",
      "metadata": {
        "id": "Le1MFVHBez1p"
      },
      "source": [
        "detect_g = []\n",
        "for i in range(len(dshap.vals_tmc)):\n",
        "  if dshap.vals_tmc[i]== min(dshap.vals_tmc):\n",
        "    detect_g.append(i)"
      ],
      "execution_count": null,
      "outputs": []
    },
    {
      "cell_type": "code",
      "metadata": {
        "colab": {
          "base_uri": "https://localhost:8080/"
        },
        "id": "3ZQfHf4_nIdW",
        "outputId": "908514ea-ca16-4447-e00a-1507b777670b"
      },
      "source": [
        "detect_g "
      ],
      "execution_count": null,
      "outputs": [
        {
          "output_type": "execute_result",
          "data": {
            "text/plain": [
              "[300,\n",
              " 301,\n",
              " 302,\n",
              " 303,\n",
              " 304,\n",
              " 305,\n",
              " 306,\n",
              " 307,\n",
              " 308,\n",
              " 309,\n",
              " 310,\n",
              " 311,\n",
              " 312,\n",
              " 313,\n",
              " 314,\n",
              " 315,\n",
              " 316,\n",
              " 317,\n",
              " 318,\n",
              " 319,\n",
              " 320,\n",
              " 321,\n",
              " 322,\n",
              " 323,\n",
              " 324,\n",
              " 325,\n",
              " 326,\n",
              " 327,\n",
              " 328,\n",
              " 329,\n",
              " 330,\n",
              " 331,\n",
              " 332,\n",
              " 333,\n",
              " 334,\n",
              " 335,\n",
              " 336,\n",
              " 337,\n",
              " 338,\n",
              " 339,\n",
              " 340,\n",
              " 341,\n",
              " 342,\n",
              " 343,\n",
              " 344,\n",
              " 345,\n",
              " 346,\n",
              " 347,\n",
              " 348,\n",
              " 349,\n",
              " 350,\n",
              " 351,\n",
              " 352,\n",
              " 353,\n",
              " 354,\n",
              " 355,\n",
              " 356,\n",
              " 357,\n",
              " 358,\n",
              " 359,\n",
              " 360,\n",
              " 361,\n",
              " 362,\n",
              " 363,\n",
              " 364,\n",
              " 365,\n",
              " 366,\n",
              " 367,\n",
              " 368,\n",
              " 369,\n",
              " 370,\n",
              " 371,\n",
              " 372,\n",
              " 373,\n",
              " 374,\n",
              " 375,\n",
              " 376,\n",
              " 377,\n",
              " 378,\n",
              " 379,\n",
              " 380,\n",
              " 381,\n",
              " 382,\n",
              " 383,\n",
              " 384,\n",
              " 385,\n",
              " 386,\n",
              " 387,\n",
              " 388,\n",
              " 389,\n",
              " 390,\n",
              " 391,\n",
              " 392,\n",
              " 393,\n",
              " 394,\n",
              " 395,\n",
              " 396,\n",
              " 397,\n",
              " 398,\n",
              " 399,\n",
              " 400,\n",
              " 401,\n",
              " 402,\n",
              " 403,\n",
              " 404,\n",
              " 405,\n",
              " 406,\n",
              " 407,\n",
              " 408,\n",
              " 409,\n",
              " 410,\n",
              " 411,\n",
              " 412,\n",
              " 413,\n",
              " 414,\n",
              " 415,\n",
              " 416,\n",
              " 417,\n",
              " 418,\n",
              " 419,\n",
              " 420,\n",
              " 421,\n",
              " 422,\n",
              " 423,\n",
              " 424,\n",
              " 425,\n",
              " 426,\n",
              " 427,\n",
              " 428,\n",
              " 429,\n",
              " 430,\n",
              " 431,\n",
              " 432,\n",
              " 433,\n",
              " 434,\n",
              " 435,\n",
              " 436,\n",
              " 437,\n",
              " 438,\n",
              " 439,\n",
              " 440,\n",
              " 441,\n",
              " 442,\n",
              " 443,\n",
              " 444,\n",
              " 445,\n",
              " 446,\n",
              " 447,\n",
              " 448,\n",
              " 449,\n",
              " 450,\n",
              " 451,\n",
              " 452,\n",
              " 453,\n",
              " 454,\n",
              " 455,\n",
              " 456,\n",
              " 457,\n",
              " 458,\n",
              " 459,\n",
              " 460,\n",
              " 461,\n",
              " 462,\n",
              " 463,\n",
              " 464,\n",
              " 465,\n",
              " 466,\n",
              " 467,\n",
              " 468,\n",
              " 469,\n",
              " 470,\n",
              " 471,\n",
              " 472,\n",
              " 473,\n",
              " 474,\n",
              " 475,\n",
              " 476,\n",
              " 477,\n",
              " 478,\n",
              " 479,\n",
              " 480,\n",
              " 481,\n",
              " 482,\n",
              " 483,\n",
              " 484,\n",
              " 485,\n",
              " 486,\n",
              " 487,\n",
              " 488,\n",
              " 489,\n",
              " 490,\n",
              " 491,\n",
              " 492,\n",
              " 493,\n",
              " 494,\n",
              " 495,\n",
              " 496,\n",
              " 497,\n",
              " 498,\n",
              " 499,\n",
              " 500,\n",
              " 501,\n",
              " 502,\n",
              " 503,\n",
              " 504,\n",
              " 505,\n",
              " 506,\n",
              " 507,\n",
              " 508,\n",
              " 509,\n",
              " 510,\n",
              " 511,\n",
              " 512,\n",
              " 513,\n",
              " 514,\n",
              " 515,\n",
              " 516,\n",
              " 517,\n",
              " 518,\n",
              " 519,\n",
              " 520,\n",
              " 521,\n",
              " 522,\n",
              " 523,\n",
              " 524,\n",
              " 525,\n",
              " 526,\n",
              " 527,\n",
              " 528,\n",
              " 529,\n",
              " 530,\n",
              " 531,\n",
              " 532,\n",
              " 533,\n",
              " 534,\n",
              " 535,\n",
              " 536,\n",
              " 537,\n",
              " 538,\n",
              " 539,\n",
              " 540,\n",
              " 541,\n",
              " 542,\n",
              " 543,\n",
              " 544,\n",
              " 545,\n",
              " 546,\n",
              " 547,\n",
              " 548,\n",
              " 549,\n",
              " 550,\n",
              " 551,\n",
              " 552,\n",
              " 553,\n",
              " 554,\n",
              " 555,\n",
              " 556,\n",
              " 557,\n",
              " 558,\n",
              " 559,\n",
              " 560,\n",
              " 561,\n",
              " 562,\n",
              " 563,\n",
              " 564,\n",
              " 565,\n",
              " 566,\n",
              " 567,\n",
              " 568,\n",
              " 569,\n",
              " 570,\n",
              " 571,\n",
              " 572,\n",
              " 573,\n",
              " 574,\n",
              " 575,\n",
              " 576,\n",
              " 577,\n",
              " 578,\n",
              " 579,\n",
              " 580,\n",
              " 581,\n",
              " 582,\n",
              " 583,\n",
              " 584,\n",
              " 585,\n",
              " 586,\n",
              " 587,\n",
              " 588,\n",
              " 589,\n",
              " 590,\n",
              " 591,\n",
              " 592,\n",
              " 593,\n",
              " 594,\n",
              " 595,\n",
              " 596,\n",
              " 597,\n",
              " 598,\n",
              " 599,\n",
              " 600,\n",
              " 601,\n",
              " 602,\n",
              " 603,\n",
              " 604,\n",
              " 605,\n",
              " 606,\n",
              " 607,\n",
              " 608,\n",
              " 609,\n",
              " 610,\n",
              " 611,\n",
              " 612,\n",
              " 613,\n",
              " 614,\n",
              " 615,\n",
              " 616,\n",
              " 617,\n",
              " 618,\n",
              " 619,\n",
              " 620,\n",
              " 621,\n",
              " 622,\n",
              " 623,\n",
              " 624,\n",
              " 625,\n",
              " 626,\n",
              " 627,\n",
              " 628,\n",
              " 629,\n",
              " 630,\n",
              " 631,\n",
              " 632,\n",
              " 633,\n",
              " 634,\n",
              " 635,\n",
              " 636,\n",
              " 637,\n",
              " 638,\n",
              " 639,\n",
              " 640,\n",
              " 641,\n",
              " 642,\n",
              " 643,\n",
              " 644,\n",
              " 645,\n",
              " 646,\n",
              " 647,\n",
              " 648,\n",
              " 649,\n",
              " 650,\n",
              " 651,\n",
              " 652,\n",
              " 653,\n",
              " 654,\n",
              " 655,\n",
              " 656,\n",
              " 657,\n",
              " 658,\n",
              " 659,\n",
              " 660,\n",
              " 661,\n",
              " 662,\n",
              " 663,\n",
              " 664,\n",
              " 665,\n",
              " 666,\n",
              " 667,\n",
              " 668,\n",
              " 669,\n",
              " 670,\n",
              " 671,\n",
              " 672,\n",
              " 673,\n",
              " 674,\n",
              " 675,\n",
              " 676,\n",
              " 677,\n",
              " 678,\n",
              " 679,\n",
              " 680,\n",
              " 681,\n",
              " 682,\n",
              " 683,\n",
              " 684,\n",
              " 685,\n",
              " 686,\n",
              " 687,\n",
              " 688,\n",
              " 689,\n",
              " 690,\n",
              " 691,\n",
              " 692,\n",
              " 693,\n",
              " 694,\n",
              " 695,\n",
              " 696,\n",
              " 697,\n",
              " 698,\n",
              " 699]"
            ]
          },
          "metadata": {},
          "execution_count": 20
        }
      ]
    },
    {
      "cell_type": "code",
      "metadata": {
        "id": "Q723VQ5wfx3N"
      },
      "source": [
        "sources = {}\n",
        "group_num = 20\n",
        "old_num_group = num_group\n",
        "new_num_group = int(num_group/group_num)*2\n",
        "i = 0\n",
        "s_begin = 0\n",
        "while True:\n",
        "  if s_begin + num_group > len(train_X):\n",
        "    sources[i] = np.array(list(range(s_begin, len(train_X))))\n",
        "    break\n",
        "  if s_begin in detect_g:\n",
        "    sources[i] = np.array(list(range(s_begin, s_begin+new_num_group)))\n",
        "    s_begin += new_num_group\n",
        "  else:\n",
        "    sources[i] = np.array(list(range(s_begin, s_begin+old_num_group)))\n",
        "    s_begin += old_num_group\n",
        "  i += 1\n",
        "# while True:\n",
        "#     if i in detect_g:\n",
        "#       num_group = new_num_group \n",
        "#     else:\n",
        "#       num_group = old_num_group\n",
        "#     if s_begin + num_group > len(train_X):\n",
        "#       sources[i] = np.array(list(range(s_begin, len(train_X))))\n",
        "#       break\n",
        "#     sources[i] = np.array(list(range(s_begin, s_begin+num_group)))\n",
        "#     s_begin += num_group\n",
        "#     i += 1\n",
        "#sources[int(i/num_group)] = sources[int(i/num_group)][sources[int(i/num_group)] < len(train_X)]"
      ],
      "execution_count": null,
      "outputs": []
    },
    {
      "cell_type": "code",
      "metadata": {
        "colab": {
          "base_uri": "https://localhost:8080/"
        },
        "id": "XKEssSP1kZZo",
        "outputId": "96f6eb00-23ff-485a-85dc-46c3dcb4adbb"
      },
      "source": [
        "sources"
      ],
      "execution_count": null,
      "outputs": [
        {
          "output_type": "execute_result",
          "data": {
            "text/plain": [
              "{0: array([ 0,  1,  2,  3,  4,  5,  6,  7,  8,  9, 10, 11, 12, 13, 14, 15, 16,\n",
              "        17, 18, 19, 20, 21, 22, 23, 24, 25, 26, 27, 28, 29, 30, 31, 32, 33,\n",
              "        34, 35, 36, 37, 38, 39, 40, 41, 42, 43, 44, 45, 46, 47, 48, 49, 50,\n",
              "        51, 52, 53, 54, 55, 56, 57, 58, 59, 60, 61, 62, 63, 64, 65, 66, 67,\n",
              "        68, 69, 70, 71, 72, 73, 74, 75, 76, 77, 78, 79, 80, 81, 82, 83, 84,\n",
              "        85, 86, 87, 88, 89, 90, 91, 92, 93, 94, 95, 96, 97, 98, 99]),\n",
              " 1: array([100, 101, 102, 103, 104, 105, 106, 107, 108, 109, 110, 111, 112,\n",
              "        113, 114, 115, 116, 117, 118, 119, 120, 121, 122, 123, 124, 125,\n",
              "        126, 127, 128, 129, 130, 131, 132, 133, 134, 135, 136, 137, 138,\n",
              "        139, 140, 141, 142, 143, 144, 145, 146, 147, 148, 149, 150, 151,\n",
              "        152, 153, 154, 155, 156, 157, 158, 159, 160, 161, 162, 163, 164,\n",
              "        165, 166, 167, 168, 169, 170, 171, 172, 173, 174, 175, 176, 177,\n",
              "        178, 179, 180, 181, 182, 183, 184, 185, 186, 187, 188, 189, 190,\n",
              "        191, 192, 193, 194, 195, 196, 197, 198, 199]),\n",
              " 2: array([200, 201, 202, 203, 204, 205, 206, 207, 208, 209, 210, 211, 212,\n",
              "        213, 214, 215, 216, 217, 218, 219, 220, 221, 222, 223, 224, 225,\n",
              "        226, 227, 228, 229, 230, 231, 232, 233, 234, 235, 236, 237, 238,\n",
              "        239, 240, 241, 242, 243, 244, 245, 246, 247, 248, 249, 250, 251,\n",
              "        252, 253, 254, 255, 256, 257, 258, 259, 260, 261, 262, 263, 264,\n",
              "        265, 266, 267, 268, 269, 270, 271, 272, 273, 274, 275, 276, 277,\n",
              "        278, 279, 280, 281, 282, 283, 284, 285, 286, 287, 288, 289, 290,\n",
              "        291, 292, 293, 294, 295, 296, 297, 298, 299]),\n",
              " 3: array([300, 301, 302, 303, 304, 305, 306, 307, 308, 309]),\n",
              " 4: array([310, 311, 312, 313, 314, 315, 316, 317, 318, 319]),\n",
              " 5: array([320, 321, 322, 323, 324, 325, 326, 327, 328, 329]),\n",
              " 6: array([330, 331, 332, 333, 334, 335, 336, 337, 338, 339]),\n",
              " 7: array([340, 341, 342, 343, 344, 345, 346, 347, 348, 349]),\n",
              " 8: array([350, 351, 352, 353, 354, 355, 356, 357, 358, 359]),\n",
              " 9: array([360, 361, 362, 363, 364, 365, 366, 367, 368, 369]),\n",
              " 10: array([370, 371, 372, 373, 374, 375, 376, 377, 378, 379]),\n",
              " 11: array([380, 381, 382, 383, 384, 385, 386, 387, 388, 389]),\n",
              " 12: array([390, 391, 392, 393, 394, 395, 396, 397, 398, 399]),\n",
              " 13: array([400, 401, 402, 403, 404, 405, 406, 407, 408, 409]),\n",
              " 14: array([410, 411, 412, 413, 414, 415, 416, 417, 418, 419]),\n",
              " 15: array([420, 421, 422, 423, 424, 425, 426, 427, 428, 429]),\n",
              " 16: array([430, 431, 432, 433, 434, 435, 436, 437, 438, 439]),\n",
              " 17: array([440, 441, 442, 443, 444, 445, 446, 447, 448, 449]),\n",
              " 18: array([450, 451, 452, 453, 454, 455, 456, 457, 458, 459]),\n",
              " 19: array([460, 461, 462, 463, 464, 465, 466, 467, 468, 469]),\n",
              " 20: array([470, 471, 472, 473, 474, 475, 476, 477, 478, 479]),\n",
              " 21: array([480, 481, 482, 483, 484, 485, 486, 487, 488, 489]),\n",
              " 22: array([490, 491, 492, 493, 494, 495, 496, 497, 498, 499]),\n",
              " 23: array([500, 501, 502, 503, 504, 505, 506, 507, 508, 509]),\n",
              " 24: array([510, 511, 512, 513, 514, 515, 516, 517, 518, 519]),\n",
              " 25: array([520, 521, 522, 523, 524, 525, 526, 527, 528, 529]),\n",
              " 26: array([530, 531, 532, 533, 534, 535, 536, 537, 538, 539]),\n",
              " 27: array([540, 541, 542, 543, 544, 545, 546, 547, 548, 549]),\n",
              " 28: array([550, 551, 552, 553, 554, 555, 556, 557, 558, 559]),\n",
              " 29: array([560, 561, 562, 563, 564, 565, 566, 567, 568, 569]),\n",
              " 30: array([570, 571, 572, 573, 574, 575, 576, 577, 578, 579]),\n",
              " 31: array([580, 581, 582, 583, 584, 585, 586, 587, 588, 589]),\n",
              " 32: array([590, 591, 592, 593, 594, 595, 596, 597, 598, 599]),\n",
              " 33: array([600, 601, 602, 603, 604, 605, 606, 607, 608, 609]),\n",
              " 34: array([610, 611, 612, 613, 614, 615, 616, 617, 618, 619]),\n",
              " 35: array([620, 621, 622, 623, 624, 625, 626, 627, 628, 629]),\n",
              " 36: array([630, 631, 632, 633, 634, 635, 636, 637, 638, 639]),\n",
              " 37: array([640, 641, 642, 643, 644, 645, 646, 647, 648, 649]),\n",
              " 38: array([650, 651, 652, 653, 654, 655, 656, 657, 658, 659]),\n",
              " 39: array([660, 661, 662, 663, 664, 665, 666, 667, 668, 669]),\n",
              " 40: array([670, 671, 672, 673, 674, 675, 676, 677, 678, 679]),\n",
              " 41: array([680, 681, 682, 683, 684, 685, 686, 687, 688, 689]),\n",
              " 42: array([690, 691, 692, 693, 694, 695, 696, 697, 698, 699]),\n",
              " 43: array([700, 701, 702, 703, 704, 705, 706, 707, 708, 709, 710, 711, 712,\n",
              "        713, 714, 715, 716, 717, 718, 719, 720, 721, 722, 723, 724, 725,\n",
              "        726, 727, 728, 729, 730, 731, 732, 733, 734, 735, 736, 737, 738,\n",
              "        739, 740, 741, 742, 743, 744, 745, 746, 747, 748, 749, 750, 751,\n",
              "        752, 753, 754, 755, 756, 757, 758, 759, 760, 761, 762, 763, 764,\n",
              "        765, 766, 767, 768, 769, 770, 771, 772, 773, 774, 775, 776, 777,\n",
              "        778, 779, 780, 781, 782, 783, 784, 785, 786, 787, 788, 789, 790,\n",
              "        791, 792, 793, 794, 795, 796, 797, 798, 799]),\n",
              " 44: array([800, 801, 802, 803, 804, 805, 806, 807, 808, 809, 810, 811, 812,\n",
              "        813, 814, 815, 816, 817, 818, 819, 820, 821, 822, 823, 824, 825,\n",
              "        826, 827, 828, 829, 830, 831, 832, 833, 834, 835, 836, 837, 838,\n",
              "        839, 840, 841, 842, 843, 844, 845, 846, 847, 848, 849, 850, 851,\n",
              "        852, 853, 854, 855, 856, 857, 858, 859, 860, 861, 862, 863, 864,\n",
              "        865, 866, 867, 868, 869, 870, 871, 872, 873, 874, 875, 876, 877,\n",
              "        878, 879, 880, 881, 882, 883, 884, 885, 886, 887, 888, 889, 890,\n",
              "        891, 892, 893, 894, 895, 896, 897, 898, 899]),\n",
              " 45: array([900, 901, 902, 903, 904, 905, 906, 907, 908, 909, 910, 911, 912,\n",
              "        913, 914, 915, 916, 917, 918, 919, 920, 921, 922, 923, 924, 925,\n",
              "        926, 927, 928, 929, 930, 931, 932, 933, 934, 935, 936, 937, 938,\n",
              "        939, 940, 941, 942, 943, 944, 945, 946, 947, 948, 949, 950, 951,\n",
              "        952, 953, 954, 955, 956, 957, 958, 959, 960, 961, 962, 963, 964,\n",
              "        965, 966, 967, 968, 969, 970, 971, 972, 973, 974, 975, 976, 977,\n",
              "        978, 979, 980, 981, 982, 983, 984, 985, 986, 987, 988, 989, 990,\n",
              "        991, 992, 993, 994, 995, 996, 997, 998, 999]),\n",
              " 46: array([1000, 1001, 1002, 1003, 1004, 1005, 1006, 1007, 1008, 1009, 1010,\n",
              "        1011, 1012, 1013, 1014, 1015, 1016, 1017, 1018, 1019, 1020, 1021,\n",
              "        1022, 1023, 1024, 1025, 1026, 1027, 1028, 1029, 1030, 1031, 1032,\n",
              "        1033, 1034, 1035, 1036, 1037, 1038, 1039, 1040, 1041, 1042, 1043,\n",
              "        1044, 1045, 1046, 1047, 1048, 1049, 1050, 1051, 1052, 1053, 1054,\n",
              "        1055, 1056, 1057, 1058, 1059, 1060, 1061, 1062, 1063, 1064, 1065,\n",
              "        1066, 1067, 1068, 1069, 1070, 1071, 1072, 1073, 1074, 1075, 1076,\n",
              "        1077, 1078, 1079, 1080, 1081, 1082, 1083, 1084, 1085, 1086, 1087,\n",
              "        1088, 1089, 1090, 1091, 1092, 1093, 1094, 1095, 1096, 1097, 1098,\n",
              "        1099]),\n",
              " 47: array([1100, 1101, 1102, 1103, 1104, 1105, 1106, 1107, 1108, 1109, 1110,\n",
              "        1111, 1112, 1113, 1114, 1115, 1116, 1117, 1118, 1119, 1120, 1121,\n",
              "        1122, 1123, 1124, 1125, 1126, 1127, 1128, 1129, 1130, 1131, 1132,\n",
              "        1133, 1134, 1135, 1136, 1137, 1138, 1139, 1140, 1141, 1142, 1143,\n",
              "        1144, 1145, 1146, 1147, 1148, 1149, 1150, 1151, 1152, 1153, 1154,\n",
              "        1155, 1156, 1157, 1158, 1159, 1160, 1161, 1162, 1163, 1164, 1165,\n",
              "        1166, 1167, 1168, 1169, 1170, 1171, 1172, 1173, 1174, 1175, 1176,\n",
              "        1177, 1178, 1179, 1180, 1181, 1182, 1183, 1184, 1185, 1186, 1187,\n",
              "        1188, 1189, 1190, 1191, 1192, 1193, 1194, 1195, 1196, 1197, 1198,\n",
              "        1199]),\n",
              " 48: array([1200, 1201, 1202, 1203, 1204, 1205, 1206, 1207, 1208, 1209, 1210,\n",
              "        1211, 1212, 1213, 1214, 1215, 1216, 1217, 1218, 1219, 1220, 1221,\n",
              "        1222, 1223, 1224, 1225, 1226, 1227, 1228, 1229, 1230, 1231, 1232,\n",
              "        1233, 1234, 1235, 1236, 1237, 1238, 1239, 1240, 1241, 1242, 1243,\n",
              "        1244, 1245, 1246, 1247, 1248, 1249, 1250, 1251, 1252, 1253, 1254,\n",
              "        1255, 1256, 1257, 1258, 1259, 1260, 1261, 1262, 1263, 1264, 1265,\n",
              "        1266, 1267, 1268, 1269, 1270, 1271, 1272, 1273, 1274, 1275, 1276,\n",
              "        1277, 1278, 1279, 1280, 1281, 1282, 1283, 1284, 1285, 1286, 1287,\n",
              "        1288, 1289, 1290, 1291, 1292, 1293, 1294, 1295, 1296, 1297, 1298,\n",
              "        1299]),\n",
              " 49: array([1300, 1301, 1302, 1303, 1304, 1305, 1306, 1307, 1308, 1309, 1310,\n",
              "        1311, 1312, 1313, 1314, 1315, 1316, 1317, 1318, 1319, 1320, 1321,\n",
              "        1322, 1323, 1324, 1325, 1326, 1327, 1328, 1329, 1330, 1331, 1332,\n",
              "        1333, 1334, 1335, 1336, 1337, 1338, 1339, 1340, 1341, 1342, 1343,\n",
              "        1344, 1345, 1346, 1347, 1348, 1349, 1350, 1351, 1352, 1353, 1354,\n",
              "        1355, 1356, 1357, 1358, 1359, 1360, 1361, 1362, 1363, 1364, 1365,\n",
              "        1366, 1367, 1368, 1369, 1370, 1371, 1372, 1373, 1374, 1375, 1376,\n",
              "        1377, 1378, 1379, 1380, 1381, 1382, 1383, 1384, 1385, 1386, 1387,\n",
              "        1388, 1389, 1390, 1391, 1392, 1393, 1394, 1395, 1396, 1397, 1398,\n",
              "        1399]),\n",
              " 50: array([1400, 1401, 1402, 1403, 1404, 1405, 1406, 1407, 1408, 1409, 1410,\n",
              "        1411, 1412, 1413, 1414, 1415, 1416, 1417, 1418, 1419, 1420, 1421,\n",
              "        1422, 1423, 1424, 1425, 1426, 1427, 1428, 1429, 1430, 1431, 1432,\n",
              "        1433, 1434, 1435, 1436, 1437, 1438, 1439, 1440, 1441, 1442, 1443,\n",
              "        1444, 1445, 1446, 1447, 1448, 1449, 1450, 1451, 1452, 1453, 1454,\n",
              "        1455, 1456, 1457, 1458, 1459, 1460, 1461, 1462, 1463, 1464, 1465,\n",
              "        1466, 1467, 1468, 1469, 1470, 1471, 1472, 1473, 1474, 1475, 1476,\n",
              "        1477, 1478, 1479, 1480, 1481, 1482, 1483, 1484, 1485, 1486, 1487,\n",
              "        1488, 1489, 1490, 1491, 1492, 1493, 1494, 1495, 1496, 1497, 1498,\n",
              "        1499]),\n",
              " 51: array([1500, 1501, 1502, 1503, 1504, 1505, 1506, 1507, 1508, 1509, 1510,\n",
              "        1511, 1512, 1513, 1514, 1515, 1516, 1517, 1518, 1519, 1520, 1521,\n",
              "        1522, 1523, 1524, 1525, 1526, 1527, 1528, 1529, 1530, 1531, 1532,\n",
              "        1533, 1534, 1535, 1536, 1537, 1538, 1539, 1540, 1541, 1542, 1543,\n",
              "        1544, 1545, 1546, 1547, 1548, 1549, 1550, 1551, 1552, 1553, 1554,\n",
              "        1555, 1556, 1557, 1558, 1559, 1560, 1561, 1562, 1563, 1564, 1565,\n",
              "        1566, 1567, 1568, 1569, 1570, 1571, 1572, 1573, 1574, 1575, 1576,\n",
              "        1577, 1578, 1579, 1580, 1581, 1582, 1583, 1584, 1585, 1586, 1587,\n",
              "        1588, 1589, 1590, 1591, 1592, 1593, 1594, 1595, 1596, 1597, 1598,\n",
              "        1599]),\n",
              " 52: array([1600, 1601, 1602, 1603, 1604, 1605, 1606, 1607, 1608, 1609, 1610,\n",
              "        1611, 1612, 1613, 1614, 1615, 1616, 1617, 1618, 1619, 1620, 1621,\n",
              "        1622, 1623, 1624, 1625, 1626, 1627, 1628, 1629, 1630, 1631, 1632,\n",
              "        1633, 1634, 1635, 1636, 1637, 1638, 1639, 1640, 1641, 1642, 1643,\n",
              "        1644, 1645, 1646, 1647, 1648, 1649, 1650, 1651, 1652, 1653, 1654,\n",
              "        1655, 1656, 1657, 1658, 1659, 1660, 1661, 1662, 1663, 1664, 1665,\n",
              "        1666, 1667, 1668, 1669, 1670, 1671, 1672, 1673, 1674, 1675, 1676,\n",
              "        1677, 1678, 1679, 1680, 1681, 1682, 1683, 1684, 1685, 1686, 1687,\n",
              "        1688, 1689, 1690, 1691, 1692, 1693, 1694, 1695, 1696, 1697, 1698,\n",
              "        1699]),\n",
              " 53: array([1700, 1701, 1702, 1703, 1704, 1705, 1706, 1707, 1708, 1709, 1710,\n",
              "        1711, 1712, 1713, 1714, 1715, 1716, 1717, 1718, 1719, 1720, 1721,\n",
              "        1722, 1723, 1724, 1725, 1726, 1727, 1728, 1729, 1730, 1731, 1732,\n",
              "        1733, 1734, 1735, 1736, 1737, 1738, 1739, 1740, 1741, 1742, 1743,\n",
              "        1744, 1745, 1746, 1747, 1748, 1749, 1750, 1751, 1752, 1753, 1754,\n",
              "        1755, 1756, 1757, 1758, 1759, 1760, 1761, 1762, 1763, 1764, 1765,\n",
              "        1766, 1767, 1768, 1769, 1770, 1771, 1772, 1773, 1774, 1775, 1776,\n",
              "        1777, 1778, 1779, 1780, 1781, 1782, 1783, 1784, 1785, 1786, 1787,\n",
              "        1788, 1789, 1790, 1791, 1792, 1793, 1794, 1795, 1796, 1797, 1798,\n",
              "        1799]),\n",
              " 54: array([1800, 1801, 1802, 1803, 1804, 1805, 1806, 1807, 1808, 1809, 1810,\n",
              "        1811, 1812, 1813, 1814, 1815, 1816, 1817, 1818, 1819, 1820, 1821,\n",
              "        1822, 1823, 1824, 1825, 1826, 1827, 1828, 1829, 1830, 1831, 1832,\n",
              "        1833, 1834, 1835, 1836, 1837, 1838, 1839, 1840, 1841, 1842, 1843,\n",
              "        1844, 1845, 1846, 1847, 1848, 1849, 1850, 1851, 1852, 1853, 1854,\n",
              "        1855, 1856, 1857, 1858, 1859, 1860, 1861, 1862, 1863, 1864, 1865,\n",
              "        1866, 1867, 1868, 1869, 1870, 1871, 1872, 1873, 1874, 1875, 1876,\n",
              "        1877, 1878, 1879, 1880, 1881, 1882, 1883, 1884, 1885, 1886, 1887,\n",
              "        1888, 1889, 1890, 1891, 1892, 1893, 1894, 1895, 1896, 1897, 1898,\n",
              "        1899]),\n",
              " 55: array([1900, 1901, 1902, 1903, 1904, 1905, 1906, 1907, 1908, 1909, 1910,\n",
              "        1911, 1912, 1913, 1914, 1915, 1916, 1917, 1918, 1919, 1920, 1921,\n",
              "        1922, 1923, 1924, 1925, 1926, 1927, 1928, 1929, 1930, 1931, 1932,\n",
              "        1933, 1934, 1935, 1936, 1937, 1938, 1939, 1940, 1941, 1942, 1943,\n",
              "        1944, 1945, 1946, 1947, 1948, 1949, 1950, 1951, 1952, 1953, 1954,\n",
              "        1955, 1956, 1957, 1958, 1959, 1960, 1961, 1962, 1963, 1964, 1965,\n",
              "        1966, 1967, 1968, 1969, 1970, 1971, 1972, 1973, 1974, 1975, 1976,\n",
              "        1977, 1978, 1979, 1980, 1981, 1982, 1983, 1984, 1985, 1986, 1987,\n",
              "        1988, 1989, 1990, 1991, 1992, 1993, 1994, 1995, 1996, 1997, 1998,\n",
              "        1999]),\n",
              " 56: array([2000, 2001, 2002, 2003, 2004, 2005, 2006, 2007, 2008, 2009, 2010,\n",
              "        2011, 2012, 2013])}"
            ]
          },
          "metadata": {},
          "execution_count": 22
        }
      ]
    },
    {
      "cell_type": "code",
      "metadata": {
        "colab": {
          "base_uri": "https://localhost:8080/"
        },
        "id": "-fADOkcetyEK",
        "outputId": "199a8a89-fec9-40ab-ea52-3367c56ebca7"
      },
      "source": [
        "X, y = train_X.copy(), train_y.copy()\n",
        "X_test, y_test = test_X.copy(), test_y.copy()\n",
        "model = 'RandomForest'\n",
        "problem = 'classification'\n",
        "directory = './temp'\n",
        "dshap = DShap(X, y, X_test, y_test, num_test, \n",
        "              sources=sources, \n",
        "              sample_weight=None,\n",
        "              model_family=model, \n",
        "              metric='accuracy',\n",
        "              overwrite=True,\n",
        "              directory=directory, seed=0)\n",
        "s = time.time()\n",
        "dshap.run(group_num*3, 0.1)\n",
        "print(time.time() - s)"
      ],
      "execution_count": null,
      "outputs": [
        {
          "output_type": "stream",
          "name": "stdout",
          "text": [
            "WARNING:tensorflow:From /content/DataShapley/DShap.py:64: The name tf.gfile.DeleteRecursively is deprecated. Please use tf.io.gfile.rmtree instead.\n",
            "\n",
            "Starting LOO score calculations!\n",
            "LOO values calculated!\n",
            "6 out of 60 TMC_Shapley iterations.\n",
            "12 out of 60 TMC_Shapley iterations.\n",
            "18 out of 60 TMC_Shapley iterations.\n",
            "24 out of 60 TMC_Shapley iterations.\n",
            "30 out of 60 TMC_Shapley iterations.\n",
            "36 out of 60 TMC_Shapley iterations.\n",
            "42 out of 60 TMC_Shapley iterations.\n",
            "48 out of 60 TMC_Shapley iterations.\n",
            "54 out of 60 TMC_Shapley iterations.\n",
            "60 out of 60 TMC_Shapley iterations.\n",
            "6 out of 60 TMC_Shapley iterations.\n",
            "12 out of 60 TMC_Shapley iterations.\n",
            "18 out of 60 TMC_Shapley iterations.\n",
            "24 out of 60 TMC_Shapley iterations.\n",
            "30 out of 60 TMC_Shapley iterations.\n",
            "36 out of 60 TMC_Shapley iterations.\n",
            "42 out of 60 TMC_Shapley iterations.\n",
            "48 out of 60 TMC_Shapley iterations.\n",
            "54 out of 60 TMC_Shapley iterations.\n",
            "60 out of 60 TMC_Shapley iterations.\n",
            "6 out of 60 TMC_Shapley iterations.\n",
            "12 out of 60 TMC_Shapley iterations.\n",
            "18 out of 60 TMC_Shapley iterations.\n",
            "24 out of 60 TMC_Shapley iterations.\n",
            "30 out of 60 TMC_Shapley iterations.\n",
            "36 out of 60 TMC_Shapley iterations.\n",
            "42 out of 60 TMC_Shapley iterations.\n",
            "48 out of 60 TMC_Shapley iterations.\n",
            "54 out of 60 TMC_Shapley iterations.\n",
            "60 out of 60 TMC_Shapley iterations.\n",
            "6 out of 60 TMC_Shapley iterations.\n",
            "12 out of 60 TMC_Shapley iterations.\n",
            "18 out of 60 TMC_Shapley iterations.\n",
            "24 out of 60 TMC_Shapley iterations.\n",
            "30 out of 60 TMC_Shapley iterations.\n",
            "36 out of 60 TMC_Shapley iterations.\n",
            "42 out of 60 TMC_Shapley iterations.\n",
            "48 out of 60 TMC_Shapley iterations.\n",
            "54 out of 60 TMC_Shapley iterations.\n",
            "60 out of 60 TMC_Shapley iterations.\n",
            "6 out of 60 TMC_Shapley iterations.\n",
            "12 out of 60 TMC_Shapley iterations.\n",
            "18 out of 60 TMC_Shapley iterations.\n",
            "24 out of 60 TMC_Shapley iterations.\n",
            "30 out of 60 TMC_Shapley iterations.\n",
            "36 out of 60 TMC_Shapley iterations.\n",
            "42 out of 60 TMC_Shapley iterations.\n",
            "48 out of 60 TMC_Shapley iterations.\n",
            "54 out of 60 TMC_Shapley iterations.\n",
            "60 out of 60 TMC_Shapley iterations.\n",
            "6 out of 60 TMC_Shapley iterations.\n",
            "12 out of 60 TMC_Shapley iterations.\n",
            "18 out of 60 TMC_Shapley iterations.\n",
            "24 out of 60 TMC_Shapley iterations.\n",
            "30 out of 60 TMC_Shapley iterations.\n",
            "36 out of 60 TMC_Shapley iterations.\n",
            "42 out of 60 TMC_Shapley iterations.\n",
            "48 out of 60 TMC_Shapley iterations.\n",
            "54 out of 60 TMC_Shapley iterations.\n",
            "60 out of 60 TMC_Shapley iterations.\n",
            "6 out of 60 TMC_Shapley iterations.\n",
            "12 out of 60 TMC_Shapley iterations.\n",
            "18 out of 60 TMC_Shapley iterations.\n",
            "24 out of 60 TMC_Shapley iterations.\n",
            "30 out of 60 TMC_Shapley iterations.\n",
            "36 out of 60 TMC_Shapley iterations.\n",
            "42 out of 60 TMC_Shapley iterations.\n",
            "48 out of 60 TMC_Shapley iterations.\n",
            "54 out of 60 TMC_Shapley iterations.\n",
            "60 out of 60 TMC_Shapley iterations.\n",
            "6 out of 60 TMC_Shapley iterations.\n",
            "12 out of 60 TMC_Shapley iterations.\n",
            "18 out of 60 TMC_Shapley iterations.\n",
            "24 out of 60 TMC_Shapley iterations.\n",
            "30 out of 60 TMC_Shapley iterations.\n",
            "36 out of 60 TMC_Shapley iterations.\n",
            "42 out of 60 TMC_Shapley iterations.\n",
            "48 out of 60 TMC_Shapley iterations.\n",
            "54 out of 60 TMC_Shapley iterations.\n",
            "60 out of 60 TMC_Shapley iterations.\n",
            "6 out of 60 TMC_Shapley iterations.\n",
            "12 out of 60 TMC_Shapley iterations.\n",
            "18 out of 60 TMC_Shapley iterations.\n",
            "24 out of 60 TMC_Shapley iterations.\n",
            "30 out of 60 TMC_Shapley iterations.\n",
            "36 out of 60 TMC_Shapley iterations.\n",
            "42 out of 60 TMC_Shapley iterations.\n",
            "48 out of 60 TMC_Shapley iterations.\n",
            "54 out of 60 TMC_Shapley iterations.\n",
            "60 out of 60 TMC_Shapley iterations.\n",
            "6 out of 60 TMC_Shapley iterations.\n",
            "12 out of 60 TMC_Shapley iterations.\n",
            "18 out of 60 TMC_Shapley iterations.\n",
            "24 out of 60 TMC_Shapley iterations.\n",
            "30 out of 60 TMC_Shapley iterations.\n",
            "36 out of 60 TMC_Shapley iterations.\n",
            "42 out of 60 TMC_Shapley iterations.\n",
            "48 out of 60 TMC_Shapley iterations.\n",
            "54 out of 60 TMC_Shapley iterations.\n",
            "60 out of 60 TMC_Shapley iterations.\n",
            "6 out of 60 TMC_Shapley iterations.\n",
            "12 out of 60 TMC_Shapley iterations.\n",
            "18 out of 60 TMC_Shapley iterations.\n",
            "24 out of 60 TMC_Shapley iterations.\n",
            "30 out of 60 TMC_Shapley iterations.\n",
            "36 out of 60 TMC_Shapley iterations.\n",
            "42 out of 60 TMC_Shapley iterations.\n",
            "48 out of 60 TMC_Shapley iterations.\n",
            "54 out of 60 TMC_Shapley iterations.\n",
            "60 out of 60 TMC_Shapley iterations.\n",
            "6 out of 60 TMC_Shapley iterations.\n",
            "12 out of 60 TMC_Shapley iterations.\n",
            "18 out of 60 TMC_Shapley iterations.\n",
            "24 out of 60 TMC_Shapley iterations.\n",
            "30 out of 60 TMC_Shapley iterations.\n",
            "36 out of 60 TMC_Shapley iterations.\n",
            "42 out of 60 TMC_Shapley iterations.\n",
            "48 out of 60 TMC_Shapley iterations.\n",
            "54 out of 60 TMC_Shapley iterations.\n",
            "60 out of 60 TMC_Shapley iterations.\n",
            "6 out of 60 TMC_Shapley iterations.\n",
            "12 out of 60 TMC_Shapley iterations.\n",
            "18 out of 60 TMC_Shapley iterations.\n",
            "24 out of 60 TMC_Shapley iterations.\n",
            "30 out of 60 TMC_Shapley iterations.\n",
            "36 out of 60 TMC_Shapley iterations.\n",
            "42 out of 60 TMC_Shapley iterations.\n",
            "48 out of 60 TMC_Shapley iterations.\n",
            "54 out of 60 TMC_Shapley iterations.\n",
            "60 out of 60 TMC_Shapley iterations.\n",
            "6 out of 60 TMC_Shapley iterations.\n",
            "12 out of 60 TMC_Shapley iterations.\n",
            "18 out of 60 TMC_Shapley iterations.\n",
            "24 out of 60 TMC_Shapley iterations.\n",
            "30 out of 60 TMC_Shapley iterations.\n",
            "36 out of 60 TMC_Shapley iterations.\n",
            "42 out of 60 TMC_Shapley iterations.\n",
            "48 out of 60 TMC_Shapley iterations.\n",
            "54 out of 60 TMC_Shapley iterations.\n",
            "60 out of 60 TMC_Shapley iterations.\n",
            "6 out of 60 TMC_Shapley iterations.\n",
            "12 out of 60 TMC_Shapley iterations.\n",
            "18 out of 60 TMC_Shapley iterations.\n",
            "24 out of 60 TMC_Shapley iterations.\n",
            "30 out of 60 TMC_Shapley iterations.\n",
            "36 out of 60 TMC_Shapley iterations.\n",
            "42 out of 60 TMC_Shapley iterations.\n",
            "48 out of 60 TMC_Shapley iterations.\n",
            "54 out of 60 TMC_Shapley iterations.\n",
            "60 out of 60 TMC_Shapley iterations.\n",
            "6 out of 60 TMC_Shapley iterations.\n",
            "12 out of 60 TMC_Shapley iterations.\n",
            "18 out of 60 TMC_Shapley iterations.\n",
            "24 out of 60 TMC_Shapley iterations.\n",
            "30 out of 60 TMC_Shapley iterations.\n",
            "36 out of 60 TMC_Shapley iterations.\n",
            "42 out of 60 TMC_Shapley iterations.\n",
            "48 out of 60 TMC_Shapley iterations.\n",
            "54 out of 60 TMC_Shapley iterations.\n",
            "60 out of 60 TMC_Shapley iterations.\n",
            "6 out of 60 TMC_Shapley iterations.\n",
            "12 out of 60 TMC_Shapley iterations.\n",
            "18 out of 60 TMC_Shapley iterations.\n",
            "24 out of 60 TMC_Shapley iterations.\n",
            "30 out of 60 TMC_Shapley iterations.\n",
            "36 out of 60 TMC_Shapley iterations.\n",
            "42 out of 60 TMC_Shapley iterations.\n",
            "48 out of 60 TMC_Shapley iterations.\n",
            "54 out of 60 TMC_Shapley iterations.\n",
            "60 out of 60 TMC_Shapley iterations.\n",
            "6 out of 60 TMC_Shapley iterations.\n",
            "12 out of 60 TMC_Shapley iterations.\n",
            "18 out of 60 TMC_Shapley iterations.\n",
            "24 out of 60 TMC_Shapley iterations.\n",
            "30 out of 60 TMC_Shapley iterations.\n",
            "36 out of 60 TMC_Shapley iterations.\n",
            "42 out of 60 TMC_Shapley iterations.\n",
            "48 out of 60 TMC_Shapley iterations.\n",
            "54 out of 60 TMC_Shapley iterations.\n",
            "60 out of 60 TMC_Shapley iterations.\n",
            "6 out of 60 TMC_Shapley iterations.\n",
            "12 out of 60 TMC_Shapley iterations.\n",
            "18 out of 60 TMC_Shapley iterations.\n",
            "24 out of 60 TMC_Shapley iterations.\n",
            "30 out of 60 TMC_Shapley iterations.\n",
            "36 out of 60 TMC_Shapley iterations.\n",
            "42 out of 60 TMC_Shapley iterations.\n",
            "48 out of 60 TMC_Shapley iterations.\n",
            "54 out of 60 TMC_Shapley iterations.\n",
            "60 out of 60 TMC_Shapley iterations.\n",
            "6 out of 60 TMC_Shapley iterations.\n",
            "12 out of 60 TMC_Shapley iterations.\n",
            "18 out of 60 TMC_Shapley iterations.\n",
            "24 out of 60 TMC_Shapley iterations.\n",
            "30 out of 60 TMC_Shapley iterations.\n",
            "36 out of 60 TMC_Shapley iterations.\n",
            "42 out of 60 TMC_Shapley iterations.\n",
            "48 out of 60 TMC_Shapley iterations.\n",
            "54 out of 60 TMC_Shapley iterations.\n",
            "60 out of 60 TMC_Shapley iterations.\n",
            "73.30191588401794\n"
          ]
        }
      ]
    },
    {
      "cell_type": "code",
      "metadata": {
        "colab": {
          "base_uri": "https://localhost:8080/"
        },
        "id": "1XxwRaBTtyBc",
        "outputId": "30e7ce29-e4ae-4c83-bbbe-7122a7e41431"
      },
      "source": [
        "dshap.merge_results()"
      ],
      "execution_count": null,
      "outputs": [
        {
          "output_type": "stream",
          "name": "stdout",
          "text": [
            "./temp/mem_tmc_0000.pkl\n"
          ]
        }
      ]
    },
    {
      "cell_type": "code",
      "metadata": {
        "colab": {
          "base_uri": "https://localhost:8080/"
        },
        "id": "6YlMzuDNz9d7",
        "outputId": "73c1d246-5ced-47e0-b184-579acd0e21a8"
      },
      "source": [
        "pd.Series(dshap.values_tmc).value_counts()"
      ],
      "execution_count": null,
      "outputs": [
        {
          "output_type": "execute_result",
          "data": {
            "text/plain": [
              " 0.000002    100\n",
              " 0.000005    100\n",
              " 0.000006    100\n",
              " 0.000003    100\n",
              " 0.000003    100\n",
              " 0.000009    100\n",
              " 0.000003    100\n",
              " 0.000010    100\n",
              " 0.000013    100\n",
              " 0.000006    100\n",
              " 0.000006    100\n",
              " 0.000011    100\n",
              " 0.000005    100\n",
              " 0.000004    100\n",
              " 0.000014    100\n",
              " 0.000006    100\n",
              "-0.000088     14\n",
              "-0.000378     10\n",
              "-0.000717     10\n",
              "-0.000447     10\n",
              "-0.000251     10\n",
              "-0.000301     10\n",
              "-0.000081     10\n",
              "-0.000242     10\n",
              "-0.000572     10\n",
              "-0.000284     10\n",
              "-0.000173     10\n",
              "-0.000124     10\n",
              "-0.000337     10\n",
              "-0.000088     10\n",
              "-0.000527     10\n",
              "-0.000238     10\n",
              "-0.000489     10\n",
              "-0.000457     10\n",
              "-0.000211     10\n",
              "-0.000187     10\n",
              "-0.000489     10\n",
              "-0.000337     10\n",
              "-0.000549     10\n",
              "-0.000566     10\n",
              "-0.000375     10\n",
              "-0.000061     10\n",
              "-0.000019     10\n",
              "-0.000182     10\n",
              "-0.000040     10\n",
              "-0.000277     10\n",
              "-0.000511     10\n",
              "-0.000289     10\n",
              "-0.000448     10\n",
              "-0.000474     10\n",
              "-0.000084     10\n",
              "-0.000303     10\n",
              "-0.000158     10\n",
              "-0.000672     10\n",
              "-0.000547     10\n",
              "-0.000322     10\n",
              "-0.000239     10\n",
              "dtype: int64"
            ]
          },
          "metadata": {},
          "execution_count": 25
        }
      ]
    },
    {
      "cell_type": "code",
      "metadata": {
        "id": "pjZSzcP6tx_S"
      },
      "source": [
        "result_df = pd.Series(dshap.values_tmc)[pd.Series(dshap.values_tmc)<-0.0001]"
      ],
      "execution_count": null,
      "outputs": []
    },
    {
      "cell_type": "code",
      "metadata": {
        "id": "RHHAHqBA6p0B"
      },
      "source": [
        "pd.set_option('display.max_columns', None)\n",
        "pd.set_option('display.max_rows', None)"
      ],
      "execution_count": null,
      "outputs": []
    },
    {
      "cell_type": "code",
      "metadata": {
        "colab": {
          "base_uri": "https://localhost:8080/"
        },
        "id": "6B7p-Qz-0WRS",
        "outputId": "95f40b96-655b-4a5d-c085-02fa1b1280e7"
      },
      "source": [
        "result_df"
      ],
      "execution_count": null,
      "outputs": [
        {
          "output_type": "execute_result",
          "data": {
            "text/plain": [
              "300   -0.000187\n",
              "301   -0.000187\n",
              "302   -0.000187\n",
              "303   -0.000187\n",
              "304   -0.000187\n",
              "305   -0.000187\n",
              "306   -0.000187\n",
              "307   -0.000187\n",
              "308   -0.000187\n",
              "309   -0.000187\n",
              "310   -0.000158\n",
              "311   -0.000158\n",
              "312   -0.000158\n",
              "313   -0.000158\n",
              "314   -0.000158\n",
              "315   -0.000158\n",
              "316   -0.000158\n",
              "317   -0.000158\n",
              "318   -0.000158\n",
              "319   -0.000158\n",
              "320   -0.000284\n",
              "321   -0.000284\n",
              "322   -0.000284\n",
              "323   -0.000284\n",
              "324   -0.000284\n",
              "325   -0.000284\n",
              "326   -0.000284\n",
              "327   -0.000284\n",
              "328   -0.000284\n",
              "329   -0.000284\n",
              "330   -0.000547\n",
              "331   -0.000547\n",
              "332   -0.000547\n",
              "333   -0.000547\n",
              "334   -0.000547\n",
              "335   -0.000547\n",
              "336   -0.000547\n",
              "337   -0.000547\n",
              "338   -0.000547\n",
              "339   -0.000547\n",
              "340   -0.000301\n",
              "341   -0.000301\n",
              "342   -0.000301\n",
              "343   -0.000301\n",
              "344   -0.000301\n",
              "345   -0.000301\n",
              "346   -0.000301\n",
              "347   -0.000301\n",
              "348   -0.000301\n",
              "349   -0.000301\n",
              "350   -0.000277\n",
              "351   -0.000277\n",
              "352   -0.000277\n",
              "353   -0.000277\n",
              "354   -0.000277\n",
              "355   -0.000277\n",
              "356   -0.000277\n",
              "357   -0.000277\n",
              "358   -0.000277\n",
              "359   -0.000277\n",
              "370   -0.000672\n",
              "371   -0.000672\n",
              "372   -0.000672\n",
              "373   -0.000672\n",
              "374   -0.000672\n",
              "375   -0.000672\n",
              "376   -0.000672\n",
              "377   -0.000672\n",
              "378   -0.000672\n",
              "379   -0.000672\n",
              "380   -0.000322\n",
              "381   -0.000322\n",
              "382   -0.000322\n",
              "383   -0.000322\n",
              "384   -0.000322\n",
              "385   -0.000322\n",
              "386   -0.000322\n",
              "387   -0.000322\n",
              "388   -0.000322\n",
              "389   -0.000322\n",
              "390   -0.000457\n",
              "391   -0.000457\n",
              "392   -0.000457\n",
              "393   -0.000457\n",
              "394   -0.000457\n",
              "395   -0.000457\n",
              "396   -0.000457\n",
              "397   -0.000457\n",
              "398   -0.000457\n",
              "399   -0.000457\n",
              "400   -0.000489\n",
              "401   -0.000489\n",
              "402   -0.000489\n",
              "403   -0.000489\n",
              "404   -0.000489\n",
              "405   -0.000489\n",
              "406   -0.000489\n",
              "407   -0.000489\n",
              "408   -0.000489\n",
              "409   -0.000489\n",
              "420   -0.000447\n",
              "421   -0.000447\n",
              "422   -0.000447\n",
              "423   -0.000447\n",
              "424   -0.000447\n",
              "425   -0.000447\n",
              "426   -0.000447\n",
              "427   -0.000447\n",
              "428   -0.000447\n",
              "429   -0.000447\n",
              "430   -0.000337\n",
              "431   -0.000337\n",
              "432   -0.000337\n",
              "433   -0.000337\n",
              "434   -0.000337\n",
              "435   -0.000337\n",
              "436   -0.000337\n",
              "437   -0.000337\n",
              "438   -0.000337\n",
              "439   -0.000337\n",
              "440   -0.000511\n",
              "441   -0.000511\n",
              "442   -0.000511\n",
              "443   -0.000511\n",
              "444   -0.000511\n",
              "445   -0.000511\n",
              "446   -0.000511\n",
              "447   -0.000511\n",
              "448   -0.000511\n",
              "449   -0.000511\n",
              "450   -0.000289\n",
              "451   -0.000289\n",
              "452   -0.000289\n",
              "453   -0.000289\n",
              "454   -0.000289\n",
              "455   -0.000289\n",
              "456   -0.000289\n",
              "457   -0.000289\n",
              "458   -0.000289\n",
              "459   -0.000289\n",
              "460   -0.000238\n",
              "461   -0.000238\n",
              "462   -0.000238\n",
              "463   -0.000238\n",
              "464   -0.000238\n",
              "465   -0.000238\n",
              "466   -0.000238\n",
              "467   -0.000238\n",
              "468   -0.000238\n",
              "469   -0.000238\n",
              "470   -0.000239\n",
              "471   -0.000239\n",
              "472   -0.000239\n",
              "473   -0.000239\n",
              "474   -0.000239\n",
              "475   -0.000239\n",
              "476   -0.000239\n",
              "477   -0.000239\n",
              "478   -0.000239\n",
              "479   -0.000239\n",
              "480   -0.000303\n",
              "481   -0.000303\n",
              "482   -0.000303\n",
              "483   -0.000303\n",
              "484   -0.000303\n",
              "485   -0.000303\n",
              "486   -0.000303\n",
              "487   -0.000303\n",
              "488   -0.000303\n",
              "489   -0.000303\n",
              "490   -0.000124\n",
              "491   -0.000124\n",
              "492   -0.000124\n",
              "493   -0.000124\n",
              "494   -0.000124\n",
              "495   -0.000124\n",
              "496   -0.000124\n",
              "497   -0.000124\n",
              "498   -0.000124\n",
              "499   -0.000124\n",
              "500   -0.000717\n",
              "501   -0.000717\n",
              "502   -0.000717\n",
              "503   -0.000717\n",
              "504   -0.000717\n",
              "505   -0.000717\n",
              "506   -0.000717\n",
              "507   -0.000717\n",
              "508   -0.000717\n",
              "509   -0.000717\n",
              "510   -0.000173\n",
              "511   -0.000173\n",
              "512   -0.000173\n",
              "513   -0.000173\n",
              "514   -0.000173\n",
              "515   -0.000173\n",
              "516   -0.000173\n",
              "517   -0.000173\n",
              "518   -0.000173\n",
              "519   -0.000173\n",
              "520   -0.000566\n",
              "521   -0.000566\n",
              "522   -0.000566\n",
              "523   -0.000566\n",
              "524   -0.000566\n",
              "525   -0.000566\n",
              "526   -0.000566\n",
              "527   -0.000566\n",
              "528   -0.000566\n",
              "529   -0.000566\n",
              "530   -0.000337\n",
              "531   -0.000337\n",
              "532   -0.000337\n",
              "533   -0.000337\n",
              "534   -0.000337\n",
              "535   -0.000337\n",
              "536   -0.000337\n",
              "537   -0.000337\n",
              "538   -0.000337\n",
              "539   -0.000337\n",
              "540   -0.000448\n",
              "541   -0.000448\n",
              "542   -0.000448\n",
              "543   -0.000448\n",
              "544   -0.000448\n",
              "545   -0.000448\n",
              "546   -0.000448\n",
              "547   -0.000448\n",
              "548   -0.000448\n",
              "549   -0.000448\n",
              "560   -0.000572\n",
              "561   -0.000572\n",
              "562   -0.000572\n",
              "563   -0.000572\n",
              "564   -0.000572\n",
              "565   -0.000572\n",
              "566   -0.000572\n",
              "567   -0.000572\n",
              "568   -0.000572\n",
              "569   -0.000572\n",
              "570   -0.000182\n",
              "571   -0.000182\n",
              "572   -0.000182\n",
              "573   -0.000182\n",
              "574   -0.000182\n",
              "575   -0.000182\n",
              "576   -0.000182\n",
              "577   -0.000182\n",
              "578   -0.000182\n",
              "579   -0.000182\n",
              "580   -0.000242\n",
              "581   -0.000242\n",
              "582   -0.000242\n",
              "583   -0.000242\n",
              "584   -0.000242\n",
              "585   -0.000242\n",
              "586   -0.000242\n",
              "587   -0.000242\n",
              "588   -0.000242\n",
              "589   -0.000242\n",
              "590   -0.000375\n",
              "591   -0.000375\n",
              "592   -0.000375\n",
              "593   -0.000375\n",
              "594   -0.000375\n",
              "595   -0.000375\n",
              "596   -0.000375\n",
              "597   -0.000375\n",
              "598   -0.000375\n",
              "599   -0.000375\n",
              "600   -0.000251\n",
              "601   -0.000251\n",
              "602   -0.000251\n",
              "603   -0.000251\n",
              "604   -0.000251\n",
              "605   -0.000251\n",
              "606   -0.000251\n",
              "607   -0.000251\n",
              "608   -0.000251\n",
              "609   -0.000251\n",
              "610   -0.000527\n",
              "611   -0.000527\n",
              "612   -0.000527\n",
              "613   -0.000527\n",
              "614   -0.000527\n",
              "615   -0.000527\n",
              "616   -0.000527\n",
              "617   -0.000527\n",
              "618   -0.000527\n",
              "619   -0.000527\n",
              "620   -0.000489\n",
              "621   -0.000489\n",
              "622   -0.000489\n",
              "623   -0.000489\n",
              "624   -0.000489\n",
              "625   -0.000489\n",
              "626   -0.000489\n",
              "627   -0.000489\n",
              "628   -0.000489\n",
              "629   -0.000489\n",
              "630   -0.000474\n",
              "631   -0.000474\n",
              "632   -0.000474\n",
              "633   -0.000474\n",
              "634   -0.000474\n",
              "635   -0.000474\n",
              "636   -0.000474\n",
              "637   -0.000474\n",
              "638   -0.000474\n",
              "639   -0.000474\n",
              "640   -0.000549\n",
              "641   -0.000549\n",
              "642   -0.000549\n",
              "643   -0.000549\n",
              "644   -0.000549\n",
              "645   -0.000549\n",
              "646   -0.000549\n",
              "647   -0.000549\n",
              "648   -0.000549\n",
              "649   -0.000549\n",
              "660   -0.000211\n",
              "661   -0.000211\n",
              "662   -0.000211\n",
              "663   -0.000211\n",
              "664   -0.000211\n",
              "665   -0.000211\n",
              "666   -0.000211\n",
              "667   -0.000211\n",
              "668   -0.000211\n",
              "669   -0.000211\n",
              "670   -0.000378\n",
              "671   -0.000378\n",
              "672   -0.000378\n",
              "673   -0.000378\n",
              "674   -0.000378\n",
              "675   -0.000378\n",
              "676   -0.000378\n",
              "677   -0.000378\n",
              "678   -0.000378\n",
              "679   -0.000378\n",
              "dtype: float64"
            ]
          },
          "metadata": {},
          "execution_count": 28
        }
      ]
    },
    {
      "cell_type": "code",
      "metadata": {
        "colab": {
          "base_uri": "https://localhost:8080/"
        },
        "id": "2HavYVQctx9D",
        "outputId": "0b0eea30-b891-48cd-f0a6-1c9db7a4d397"
      },
      "source": [
        "t = 0\n",
        "for j in mislabel_index:\n",
        "  if j in list(result_df.index):\n",
        "    t += 1\n",
        "t"
      ],
      "execution_count": null,
      "outputs": [
        {
          "output_type": "execute_result",
          "data": {
            "text/plain": [
              "337"
            ]
          },
          "metadata": {},
          "execution_count": 29
        }
      ]
    },
    {
      "cell_type": "code",
      "metadata": {
        "colab": {
          "base_uri": "https://localhost:8080/"
        },
        "id": "GTM_r7Detx5y",
        "outputId": "0efad75a-ca50-4ba0-ea2c-16aee2738f63"
      },
      "source": [
        "t/len(mislabel_index)"
      ],
      "execution_count": null,
      "outputs": [
        {
          "output_type": "execute_result",
          "data": {
            "text/plain": [
              "0.8383084577114428"
            ]
          },
          "metadata": {},
          "execution_count": 30
        }
      ]
    },
    {
      "cell_type": "code",
      "metadata": {
        "colab": {
          "base_uri": "https://localhost:8080/"
        },
        "id": "d-G88LR0tx0v",
        "outputId": "5d27cf72-355c-4c2b-b8d0-7775d4ee5340"
      },
      "source": [
        "t = 0 \n",
        "for j in list(result_df.index):\n",
        "  if j in mislabel_index:\n",
        "      t += 1\n",
        "t/len(list(result_df.index))"
      ],
      "execution_count": null,
      "outputs": [
        {
          "output_type": "execute_result",
          "data": {
            "text/plain": [
              "0.9911764705882353"
            ]
          },
          "metadata": {},
          "execution_count": 31
        }
      ]
    },
    {
      "cell_type": "code",
      "metadata": {
        "colab": {
          "base_uri": "https://localhost:8080/"
        },
        "id": "euJVG9AsftdE",
        "outputId": "718fc5bf-22b4-4646-bba6-8d6266558f7f"
      },
      "source": [
        "detect_g "
      ],
      "execution_count": null,
      "outputs": [
        {
          "output_type": "execute_result",
          "data": {
            "text/plain": [
              "[3, 4, 5, 6]"
            ]
          },
          "metadata": {},
          "execution_count": 48
        }
      ]
    },
    {
      "cell_type": "code",
      "metadata": {
        "colab": {
          "base_uri": "https://localhost:8080/"
        },
        "id": "7rktWhWjdZH-",
        "outputId": "e566a347-d1d7-43f9-b3e4-2dcd68f33955"
      },
      "source": [
        "dshap.marginals_tmc"
      ],
      "execution_count": null,
      "outputs": [
        {
          "output_type": "execute_result",
          "data": {
            "text/plain": [
              "array([[0., 0., 0., ..., 0., 0., 0.],\n",
              "       [0., 0., 0., ..., 0., 0., 0.],\n",
              "       [0., 0., 0., ..., 0., 0., 0.],\n",
              "       ...,\n",
              "       [0., 0., 0., ..., 0., 0., 0.],\n",
              "       [0., 0., 0., ..., 0., 0., 0.],\n",
              "       [0., 0., 0., ..., 0., 0., 0.]])"
            ]
          },
          "metadata": {},
          "execution_count": 41
        }
      ]
    },
    {
      "cell_type": "code",
      "metadata": {
        "colab": {
          "base_uri": "https://localhost:8080/"
        },
        "id": "rQCmwHbjeRmj",
        "outputId": "d5ae26bb-1e3d-4d3c-9f68-a88cb0070c42"
      },
      "source": [
        "begin"
      ],
      "execution_count": null,
      "outputs": [
        {
          "output_type": "execute_result",
          "data": {
            "text/plain": [
              "275"
            ]
          },
          "metadata": {},
          "execution_count": 15
        }
      ]
    },
    {
      "cell_type": "code",
      "metadata": {
        "colab": {
          "base_uri": "https://localhost:8080/"
        },
        "id": "I01uK9RFoLoh",
        "outputId": "4ec36c14-310d-4e2e-8736-028fd6a977f8"
      },
      "source": [
        "end"
      ],
      "execution_count": null,
      "outputs": [
        {
          "output_type": "execute_result",
          "data": {
            "text/plain": [
              "675"
            ]
          },
          "metadata": {},
          "execution_count": 53
        }
      ]
    },
    {
      "cell_type": "code",
      "metadata": {
        "id": "r45Y1l0gySDE"
      },
      "source": [
        "origin_mark"
      ],
      "execution_count": null,
      "outputs": []
    },
    {
      "cell_type": "code",
      "metadata": {
        "id": "jhJEX8HAt3CA"
      },
      "source": [
        "def one_train_perfor(a,b,c,d):\n",
        "  model = RandomForestClassifier(n_estimators=50, random_state=0)\n",
        "  model.fit(a, c)\n",
        "  pred_y = model.predict(b)\n",
        "  return accuracy_score(d, pred_y)"
      ],
      "execution_count": null,
      "outputs": []
    },
    {
      "cell_type": "code",
      "metadata": {
        "colab": {
          "base_uri": "https://localhost:8080/"
        },
        "id": "fGFtkwq6uUs6",
        "outputId": "ab0a12b8-d45a-4d96-9b2a-895ff4d66b35"
      },
      "source": [
        "print(one_train_perfor(train_X, test_X, train_y, test_y))"
      ],
      "execution_count": null,
      "outputs": [
        {
          "output_type": "stream",
          "name": "stdout",
          "text": [
            "0.978\n"
          ]
        }
      ]
    },
    {
      "cell_type": "code",
      "metadata": {
        "id": "dbG9-iufqqEu"
      },
      "source": [
        "#according to performance, estimate ratio.\n",
        "#es_ratio = 0.15\n",
        "sources = {}\n",
        "group_num = 15\n",
        "num_group = int(len(train_X)/13)\n",
        "for i in range(0, len(train_X), num_group):\n",
        "    sources[int(i/num_group)] = np.array(list(range(i,i+num_group,1)))"
      ],
      "execution_count": null,
      "outputs": []
    },
    {
      "cell_type": "code",
      "metadata": {
        "id": "oe8ZyUf-V0NE"
      },
      "source": [
        "sources[int(i/num_group)] = sources[int(i/num_group)][sources[int(i/num_group)] < len(train_X)]"
      ],
      "execution_count": null,
      "outputs": []
    },
    {
      "cell_type": "code",
      "metadata": {
        "id": "wErq1R-JXdWW",
        "colab": {
          "base_uri": "https://localhost:8080/"
        },
        "outputId": "95237ef7-a5c4-4722-e256-979eb840b55a"
      },
      "source": [
        "sources"
      ],
      "execution_count": null,
      "outputs": [
        {
          "output_type": "execute_result",
          "data": {
            "text/plain": [
              "{0: array([  0,   1,   2,   3,   4,   5,   6,   7,   8,   9,  10,  11,  12,\n",
              "         13,  14,  15,  16,  17,  18,  19,  20,  21,  22,  23,  24,  25,\n",
              "         26,  27,  28,  29,  30,  31,  32,  33,  34,  35,  36,  37,  38,\n",
              "         39,  40,  41,  42,  43,  44,  45,  46,  47,  48,  49,  50,  51,\n",
              "         52,  53,  54,  55,  56,  57,  58,  59,  60,  61,  62,  63,  64,\n",
              "         65,  66,  67,  68,  69,  70,  71,  72,  73,  74,  75,  76,  77,\n",
              "         78,  79,  80,  81,  82,  83,  84,  85,  86,  87,  88,  89,  90,\n",
              "         91,  92,  93,  94,  95,  96,  97,  98,  99, 100, 101, 102, 103,\n",
              "        104, 105, 106, 107, 108, 109, 110, 111, 112, 113, 114, 115, 116,\n",
              "        117, 118, 119, 120, 121, 122, 123, 124, 125, 126, 127, 128, 129,\n",
              "        130, 131, 132, 133, 134, 135, 136, 137, 138, 139, 140, 141, 142,\n",
              "        143, 144, 145, 146, 147, 148, 149, 150, 151, 152, 153]),\n",
              " 1: array([154, 155, 156, 157, 158, 159, 160, 161, 162, 163, 164, 165, 166,\n",
              "        167, 168, 169, 170, 171, 172, 173, 174, 175, 176, 177, 178, 179,\n",
              "        180, 181, 182, 183, 184, 185, 186, 187, 188, 189, 190, 191, 192,\n",
              "        193, 194, 195, 196, 197, 198, 199, 200, 201, 202, 203, 204, 205,\n",
              "        206, 207, 208, 209, 210, 211, 212, 213, 214, 215, 216, 217, 218,\n",
              "        219, 220, 221, 222, 223, 224, 225, 226, 227, 228, 229, 230, 231,\n",
              "        232, 233, 234, 235, 236, 237, 238, 239, 240, 241, 242, 243, 244,\n",
              "        245, 246, 247, 248, 249, 250, 251, 252, 253, 254, 255, 256, 257,\n",
              "        258, 259, 260, 261, 262, 263, 264, 265, 266, 267, 268, 269, 270,\n",
              "        271, 272, 273, 274, 275, 276, 277, 278, 279, 280, 281, 282, 283,\n",
              "        284, 285, 286, 287, 288, 289, 290, 291, 292, 293, 294, 295, 296,\n",
              "        297, 298, 299, 300, 301, 302, 303, 304, 305, 306, 307]),\n",
              " 2: array([308, 309, 310, 311, 312, 313, 314, 315, 316, 317, 318, 319, 320,\n",
              "        321, 322, 323, 324, 325, 326, 327, 328, 329, 330, 331, 332, 333,\n",
              "        334, 335, 336, 337, 338, 339, 340, 341, 342, 343, 344, 345, 346,\n",
              "        347, 348, 349, 350, 351, 352, 353, 354, 355, 356, 357, 358, 359,\n",
              "        360, 361, 362, 363, 364, 365, 366, 367, 368, 369, 370, 371, 372,\n",
              "        373, 374, 375, 376, 377, 378, 379, 380, 381, 382, 383, 384, 385,\n",
              "        386, 387, 388, 389, 390, 391, 392, 393, 394, 395, 396, 397, 398,\n",
              "        399, 400, 401, 402, 403, 404, 405, 406, 407, 408, 409, 410, 411,\n",
              "        412, 413, 414, 415, 416, 417, 418, 419, 420, 421, 422, 423, 424,\n",
              "        425, 426, 427, 428, 429, 430, 431, 432, 433, 434, 435, 436, 437,\n",
              "        438, 439, 440, 441, 442, 443, 444, 445, 446, 447, 448, 449, 450,\n",
              "        451, 452, 453, 454, 455, 456, 457, 458, 459, 460, 461]),\n",
              " 3: array([462, 463, 464, 465, 466, 467, 468, 469, 470, 471, 472, 473, 474,\n",
              "        475, 476, 477, 478, 479, 480, 481, 482, 483, 484, 485, 486, 487,\n",
              "        488, 489, 490, 491, 492, 493, 494, 495, 496, 497, 498, 499, 500,\n",
              "        501, 502, 503, 504, 505, 506, 507, 508, 509, 510, 511, 512, 513,\n",
              "        514, 515, 516, 517, 518, 519, 520, 521, 522, 523, 524, 525, 526,\n",
              "        527, 528, 529, 530, 531, 532, 533, 534, 535, 536, 537, 538, 539,\n",
              "        540, 541, 542, 543, 544, 545, 546, 547, 548, 549, 550, 551, 552,\n",
              "        553, 554, 555, 556, 557, 558, 559, 560, 561, 562, 563, 564, 565,\n",
              "        566, 567, 568, 569, 570, 571, 572, 573, 574, 575, 576, 577, 578,\n",
              "        579, 580, 581, 582, 583, 584, 585, 586, 587, 588, 589, 590, 591,\n",
              "        592, 593, 594, 595, 596, 597, 598, 599, 600, 601, 602, 603, 604,\n",
              "        605, 606, 607, 608, 609, 610, 611, 612, 613, 614, 615]),\n",
              " 4: array([616, 617, 618, 619, 620, 621, 622, 623, 624, 625, 626, 627, 628,\n",
              "        629, 630, 631, 632, 633, 634, 635, 636, 637, 638, 639, 640, 641,\n",
              "        642, 643, 644, 645, 646, 647, 648, 649, 650, 651, 652, 653, 654,\n",
              "        655, 656, 657, 658, 659, 660, 661, 662, 663, 664, 665, 666, 667,\n",
              "        668, 669, 670, 671, 672, 673, 674, 675, 676, 677, 678, 679, 680,\n",
              "        681, 682, 683, 684, 685, 686, 687, 688, 689, 690, 691, 692, 693,\n",
              "        694, 695, 696, 697, 698, 699, 700, 701, 702, 703, 704, 705, 706,\n",
              "        707, 708, 709, 710, 711, 712, 713, 714, 715, 716, 717, 718, 719,\n",
              "        720, 721, 722, 723, 724, 725, 726, 727, 728, 729, 730, 731, 732,\n",
              "        733, 734, 735, 736, 737, 738, 739, 740, 741, 742, 743, 744, 745,\n",
              "        746, 747, 748, 749, 750, 751, 752, 753, 754, 755, 756, 757, 758,\n",
              "        759, 760, 761, 762, 763, 764, 765, 766, 767, 768, 769]),\n",
              " 5: array([770, 771, 772, 773, 774, 775, 776, 777, 778, 779, 780, 781, 782,\n",
              "        783, 784, 785, 786, 787, 788, 789, 790, 791, 792, 793, 794, 795,\n",
              "        796, 797, 798, 799, 800, 801, 802, 803, 804, 805, 806, 807, 808,\n",
              "        809, 810, 811, 812, 813, 814, 815, 816, 817, 818, 819, 820, 821,\n",
              "        822, 823, 824, 825, 826, 827, 828, 829, 830, 831, 832, 833, 834,\n",
              "        835, 836, 837, 838, 839, 840, 841, 842, 843, 844, 845, 846, 847,\n",
              "        848, 849, 850, 851, 852, 853, 854, 855, 856, 857, 858, 859, 860,\n",
              "        861, 862, 863, 864, 865, 866, 867, 868, 869, 870, 871, 872, 873,\n",
              "        874, 875, 876, 877, 878, 879, 880, 881, 882, 883, 884, 885, 886,\n",
              "        887, 888, 889, 890, 891, 892, 893, 894, 895, 896, 897, 898, 899,\n",
              "        900, 901, 902, 903, 904, 905, 906, 907, 908, 909, 910, 911, 912,\n",
              "        913, 914, 915, 916, 917, 918, 919, 920, 921, 922, 923]),\n",
              " 6: array([ 924,  925,  926,  927,  928,  929,  930,  931,  932,  933,  934,\n",
              "         935,  936,  937,  938,  939,  940,  941,  942,  943,  944,  945,\n",
              "         946,  947,  948,  949,  950,  951,  952,  953,  954,  955,  956,\n",
              "         957,  958,  959,  960,  961,  962,  963,  964,  965,  966,  967,\n",
              "         968,  969,  970,  971,  972,  973,  974,  975,  976,  977,  978,\n",
              "         979,  980,  981,  982,  983,  984,  985,  986,  987,  988,  989,\n",
              "         990,  991,  992,  993,  994,  995,  996,  997,  998,  999, 1000,\n",
              "        1001, 1002, 1003, 1004, 1005, 1006, 1007, 1008, 1009, 1010, 1011,\n",
              "        1012, 1013, 1014, 1015, 1016, 1017, 1018, 1019, 1020, 1021, 1022,\n",
              "        1023, 1024, 1025, 1026, 1027, 1028, 1029, 1030, 1031, 1032, 1033,\n",
              "        1034, 1035, 1036, 1037, 1038, 1039, 1040, 1041, 1042, 1043, 1044,\n",
              "        1045, 1046, 1047, 1048, 1049, 1050, 1051, 1052, 1053, 1054, 1055,\n",
              "        1056, 1057, 1058, 1059, 1060, 1061, 1062, 1063, 1064, 1065, 1066,\n",
              "        1067, 1068, 1069, 1070, 1071, 1072, 1073, 1074, 1075, 1076, 1077]),\n",
              " 7: array([1078, 1079, 1080, 1081, 1082, 1083, 1084, 1085, 1086, 1087, 1088,\n",
              "        1089, 1090, 1091, 1092, 1093, 1094, 1095, 1096, 1097, 1098, 1099,\n",
              "        1100, 1101, 1102, 1103, 1104, 1105, 1106, 1107, 1108, 1109, 1110,\n",
              "        1111, 1112, 1113, 1114, 1115, 1116, 1117, 1118, 1119, 1120, 1121,\n",
              "        1122, 1123, 1124, 1125, 1126, 1127, 1128, 1129, 1130, 1131, 1132,\n",
              "        1133, 1134, 1135, 1136, 1137, 1138, 1139, 1140, 1141, 1142, 1143,\n",
              "        1144, 1145, 1146, 1147, 1148, 1149, 1150, 1151, 1152, 1153, 1154,\n",
              "        1155, 1156, 1157, 1158, 1159, 1160, 1161, 1162, 1163, 1164, 1165,\n",
              "        1166, 1167, 1168, 1169, 1170, 1171, 1172, 1173, 1174, 1175, 1176,\n",
              "        1177, 1178, 1179, 1180, 1181, 1182, 1183, 1184, 1185, 1186, 1187,\n",
              "        1188, 1189, 1190, 1191, 1192, 1193, 1194, 1195, 1196, 1197, 1198,\n",
              "        1199, 1200, 1201, 1202, 1203, 1204, 1205, 1206, 1207, 1208, 1209,\n",
              "        1210, 1211, 1212, 1213, 1214, 1215, 1216, 1217, 1218, 1219, 1220,\n",
              "        1221, 1222, 1223, 1224, 1225, 1226, 1227, 1228, 1229, 1230, 1231]),\n",
              " 8: array([1232, 1233, 1234, 1235, 1236, 1237, 1238, 1239, 1240, 1241, 1242,\n",
              "        1243, 1244, 1245, 1246, 1247, 1248, 1249, 1250, 1251, 1252, 1253,\n",
              "        1254, 1255, 1256, 1257, 1258, 1259, 1260, 1261, 1262, 1263, 1264,\n",
              "        1265, 1266, 1267, 1268, 1269, 1270, 1271, 1272, 1273, 1274, 1275,\n",
              "        1276, 1277, 1278, 1279, 1280, 1281, 1282, 1283, 1284, 1285, 1286,\n",
              "        1287, 1288, 1289, 1290, 1291, 1292, 1293, 1294, 1295, 1296, 1297,\n",
              "        1298, 1299, 1300, 1301, 1302, 1303, 1304, 1305, 1306, 1307, 1308,\n",
              "        1309, 1310, 1311, 1312, 1313, 1314, 1315, 1316, 1317, 1318, 1319,\n",
              "        1320, 1321, 1322, 1323, 1324, 1325, 1326, 1327, 1328, 1329, 1330,\n",
              "        1331, 1332, 1333, 1334, 1335, 1336, 1337, 1338, 1339, 1340, 1341,\n",
              "        1342, 1343, 1344, 1345, 1346, 1347, 1348, 1349, 1350, 1351, 1352,\n",
              "        1353, 1354, 1355, 1356, 1357, 1358, 1359, 1360, 1361, 1362, 1363,\n",
              "        1364, 1365, 1366, 1367, 1368, 1369, 1370, 1371, 1372, 1373, 1374,\n",
              "        1375, 1376, 1377, 1378, 1379, 1380, 1381, 1382, 1383, 1384, 1385]),\n",
              " 9: array([1386, 1387, 1388, 1389, 1390, 1391, 1392, 1393, 1394, 1395, 1396,\n",
              "        1397, 1398, 1399, 1400, 1401, 1402, 1403, 1404, 1405, 1406, 1407,\n",
              "        1408, 1409, 1410, 1411, 1412, 1413, 1414, 1415, 1416, 1417, 1418,\n",
              "        1419, 1420, 1421, 1422, 1423, 1424, 1425, 1426, 1427, 1428, 1429,\n",
              "        1430, 1431, 1432, 1433, 1434, 1435, 1436, 1437, 1438, 1439, 1440,\n",
              "        1441, 1442, 1443, 1444, 1445, 1446, 1447, 1448, 1449, 1450, 1451,\n",
              "        1452, 1453, 1454, 1455, 1456, 1457, 1458, 1459, 1460, 1461, 1462,\n",
              "        1463, 1464, 1465, 1466, 1467, 1468, 1469, 1470, 1471, 1472, 1473,\n",
              "        1474, 1475, 1476, 1477, 1478, 1479, 1480, 1481, 1482, 1483, 1484,\n",
              "        1485, 1486, 1487, 1488, 1489, 1490, 1491, 1492, 1493, 1494, 1495,\n",
              "        1496, 1497, 1498, 1499, 1500, 1501, 1502, 1503, 1504, 1505, 1506,\n",
              "        1507, 1508, 1509, 1510, 1511, 1512, 1513, 1514, 1515, 1516, 1517,\n",
              "        1518, 1519, 1520, 1521, 1522, 1523, 1524, 1525, 1526, 1527, 1528,\n",
              "        1529, 1530, 1531, 1532, 1533, 1534, 1535, 1536, 1537, 1538, 1539]),\n",
              " 10: array([1540, 1541, 1542, 1543, 1544, 1545, 1546, 1547, 1548, 1549, 1550,\n",
              "        1551, 1552, 1553, 1554, 1555, 1556, 1557, 1558, 1559, 1560, 1561,\n",
              "        1562, 1563, 1564, 1565, 1566, 1567, 1568, 1569, 1570, 1571, 1572,\n",
              "        1573, 1574, 1575, 1576, 1577, 1578, 1579, 1580, 1581, 1582, 1583,\n",
              "        1584, 1585, 1586, 1587, 1588, 1589, 1590, 1591, 1592, 1593, 1594,\n",
              "        1595, 1596, 1597, 1598, 1599, 1600, 1601, 1602, 1603, 1604, 1605,\n",
              "        1606, 1607, 1608, 1609, 1610, 1611, 1612, 1613, 1614, 1615, 1616,\n",
              "        1617, 1618, 1619, 1620, 1621, 1622, 1623, 1624, 1625, 1626, 1627,\n",
              "        1628, 1629, 1630, 1631, 1632, 1633, 1634, 1635, 1636, 1637, 1638,\n",
              "        1639, 1640, 1641, 1642, 1643, 1644, 1645, 1646, 1647, 1648, 1649,\n",
              "        1650, 1651, 1652, 1653, 1654, 1655, 1656, 1657, 1658, 1659, 1660,\n",
              "        1661, 1662, 1663, 1664, 1665, 1666, 1667, 1668, 1669, 1670, 1671,\n",
              "        1672, 1673, 1674, 1675, 1676, 1677, 1678, 1679, 1680, 1681, 1682,\n",
              "        1683, 1684, 1685, 1686, 1687, 1688, 1689, 1690, 1691, 1692, 1693]),\n",
              " 11: array([1694, 1695, 1696, 1697, 1698, 1699, 1700, 1701, 1702, 1703, 1704,\n",
              "        1705, 1706, 1707, 1708, 1709, 1710, 1711, 1712, 1713, 1714, 1715,\n",
              "        1716, 1717, 1718, 1719, 1720, 1721, 1722, 1723, 1724, 1725, 1726,\n",
              "        1727, 1728, 1729, 1730, 1731, 1732, 1733, 1734, 1735, 1736, 1737,\n",
              "        1738, 1739, 1740, 1741, 1742, 1743, 1744, 1745, 1746, 1747, 1748,\n",
              "        1749, 1750, 1751, 1752, 1753, 1754, 1755, 1756, 1757, 1758, 1759,\n",
              "        1760, 1761, 1762, 1763, 1764, 1765, 1766, 1767, 1768, 1769, 1770,\n",
              "        1771, 1772, 1773, 1774, 1775, 1776, 1777, 1778, 1779, 1780, 1781,\n",
              "        1782, 1783, 1784, 1785, 1786, 1787, 1788, 1789, 1790, 1791, 1792,\n",
              "        1793, 1794, 1795, 1796, 1797, 1798, 1799, 1800, 1801, 1802, 1803,\n",
              "        1804, 1805, 1806, 1807, 1808, 1809, 1810, 1811, 1812, 1813, 1814,\n",
              "        1815, 1816, 1817, 1818, 1819, 1820, 1821, 1822, 1823, 1824, 1825,\n",
              "        1826, 1827, 1828, 1829, 1830, 1831, 1832, 1833, 1834, 1835, 1836,\n",
              "        1837, 1838, 1839, 1840, 1841, 1842, 1843, 1844, 1845, 1846, 1847]),\n",
              " 12: array([1848, 1849, 1850, 1851, 1852, 1853, 1854, 1855, 1856, 1857, 1858,\n",
              "        1859, 1860, 1861, 1862, 1863, 1864, 1865, 1866, 1867, 1868, 1869,\n",
              "        1870, 1871, 1872, 1873, 1874, 1875, 1876, 1877, 1878, 1879, 1880,\n",
              "        1881, 1882, 1883, 1884, 1885, 1886, 1887, 1888, 1889, 1890, 1891,\n",
              "        1892, 1893, 1894, 1895, 1896, 1897, 1898, 1899, 1900, 1901, 1902,\n",
              "        1903, 1904, 1905, 1906, 1907, 1908, 1909, 1910, 1911, 1912, 1913,\n",
              "        1914, 1915, 1916, 1917, 1918, 1919, 1920, 1921, 1922, 1923, 1924,\n",
              "        1925, 1926, 1927, 1928, 1929, 1930, 1931, 1932, 1933, 1934, 1935,\n",
              "        1936, 1937, 1938, 1939, 1940, 1941, 1942, 1943, 1944, 1945, 1946,\n",
              "        1947, 1948, 1949, 1950, 1951, 1952, 1953, 1954, 1955, 1956, 1957,\n",
              "        1958, 1959, 1960, 1961, 1962, 1963, 1964, 1965, 1966, 1967, 1968,\n",
              "        1969, 1970, 1971, 1972, 1973, 1974, 1975, 1976, 1977, 1978, 1979,\n",
              "        1980, 1981, 1982, 1983, 1984, 1985, 1986, 1987, 1988, 1989, 1990,\n",
              "        1991, 1992, 1993, 1994, 1995, 1996, 1997, 1998, 1999, 2000, 2001]),\n",
              " 13: array([2002, 2003, 2004, 2005, 2006, 2007, 2008, 2009, 2010, 2011, 2012,\n",
              "        2013])}"
            ]
          },
          "metadata": {},
          "execution_count": 31
        }
      ]
    },
    {
      "cell_type": "code",
      "metadata": {
        "colab": {
          "base_uri": "https://localhost:8080/"
        },
        "id": "ibyH9HwSq0Gx",
        "outputId": "b4ec364c-e5df-41e4-dcf5-7b38a9f2de82"
      },
      "source": [
        "#收敛最低iteration 100， 修改err \n",
        "# 50 个数据可以跑出来收敛的结果。\n",
        "X, y = train_X, train_y\n",
        "X_test, y_test = test_X, test_y\n",
        "model = 'RandomForest'\n",
        "problem = 'classification'\n",
        "num_test = int(num_test/2)\n",
        "directory = './temp'\n",
        "dshap = DShap(X, y, X_test, y_test, num_test, \n",
        "              sources=sources, \n",
        "              sample_weight=None,\n",
        "              model_family=model, \n",
        "              metric='accuracy',\n",
        "              overwrite=True,\n",
        "              directory=directory, seed=0)\n",
        "s = time.time()\n",
        "dshap.run(int(trainsize/num_group)*3, 0.2)\n",
        "print(time.time() - s)"
      ],
      "execution_count": null,
      "outputs": [
        {
          "output_type": "stream",
          "name": "stdout",
          "text": [
            "Starting LOO score calculations!\n",
            "LOO values calculated!\n",
            "39 out of 39 TMC_Shapley iterations.\n",
            "39 out of 39 TMC_Shapley iterations.\n",
            "39 out of 39 TMC_Shapley iterations.\n",
            "39 out of 39 TMC_Shapley iterations.\n",
            "4.9836530685424805\n"
          ]
        }
      ]
    },
    {
      "cell_type": "code",
      "metadata": {
        "colab": {
          "base_uri": "https://localhost:8080/"
        },
        "id": "LPT1XmVPiclr",
        "outputId": "c6b86bcc-fae8-4892-c14c-34062c40be1e"
      },
      "source": [
        "dshap.vals_tmc"
      ],
      "execution_count": null,
      "outputs": [
        {
          "output_type": "execute_result",
          "data": {
            "text/plain": [
              "array([0., 0., 0., ..., 0., 0., 0.])"
            ]
          },
          "metadata": {},
          "execution_count": 33
        }
      ]
    },
    {
      "cell_type": "code",
      "metadata": {
        "id": "M_MSaAINYquM"
      },
      "source": [
        "#find most low 3 shapley group. 是否连续.\n",
        "#连续的话，把数据再带入。"
      ],
      "execution_count": null,
      "outputs": []
    },
    {
      "cell_type": "code",
      "metadata": {
        "id": "BcuOOMBiY8I-"
      },
      "source": [
        "newpd = pd.array(dshap.vals_tmc)"
      ],
      "execution_count": null,
      "outputs": []
    },
    {
      "cell_type": "code",
      "metadata": {
        "colab": {
          "base_uri": "https://localhost:8080/"
        },
        "id": "AFAFQwYRaYZb",
        "outputId": "24936024-82ea-4849-a62e-3038db9e0507"
      },
      "source": [
        "newpd[newpd < 0]"
      ],
      "execution_count": null,
      "outputs": [
        {
          "output_type": "execute_result",
          "data": {
            "text/plain": [
              "<PandasArray>\n",
              "[ -0.0008586324786324787,  -0.0008586324786324787,  -0.0008586324786324787,\n",
              "  -0.0008586324786324787,  -0.0008586324786324787,  -0.0008586324786324787,\n",
              "  -0.0008586324786324787,  -0.0008586324786324787,  -0.0008586324786324787,\n",
              "  -0.0008586324786324787,\n",
              " ...\n",
              " -2.8803418803418806e-05, -2.8803418803418806e-05, -2.8803418803418806e-05,\n",
              " -2.8803418803418806e-05, -2.8803418803418806e-05, -2.8803418803418806e-05,\n",
              " -2.8803418803418806e-05, -2.8803418803418806e-05, -2.8803418803418806e-05,\n",
              " -2.8803418803418806e-05]\n",
              "Length: 450, dtype: float64"
            ]
          },
          "metadata": {},
          "execution_count": 34
        }
      ]
    },
    {
      "cell_type": "code",
      "metadata": {
        "id": "_VjiXsWjZeNB"
      },
      "source": [
        "def fin(v, num_group):\n",
        "  sort_index = np.argsort(v)[:num_group*3]\n",
        "  return sort_index\n",
        "new = fin(dshap.vals_tmc, num_group)"
      ],
      "execution_count": null,
      "outputs": []
    },
    {
      "cell_type": "code",
      "metadata": {
        "colab": {
          "base_uri": "https://localhost:8080/"
        },
        "id": "F3v9chgZzw0I",
        "outputId": "1ece466f-3e86-4b58-8480-7b3a06a1d6ad"
      },
      "source": [
        "new"
      ],
      "execution_count": null,
      "outputs": [
        {
          "output_type": "execute_result",
          "data": {
            "text/plain": [
              "array([306, 307, 308, 309, 310, 311, 312, 313, 314, 315, 316, 317, 318,\n",
              "       319, 320, 321, 322, 323, 324, 325, 326, 327, 328, 329, 330, 331,\n",
              "       332, 333, 334, 335, 336, 337, 338, 339, 340, 341, 342, 343, 344,\n",
              "       345, 346, 347, 348, 349, 350, 351, 352, 353, 354, 355, 356, 357,\n",
              "       358, 359, 360, 361, 362, 363, 364, 365, 366, 367, 368, 369, 370,\n",
              "       371, 372, 373, 374, 375, 376, 377, 378, 379, 380, 381, 382, 383,\n",
              "       384, 385, 386, 387, 388, 389, 390, 391, 392, 393, 394, 395, 396,\n",
              "       397, 398, 399, 400, 401, 402, 403, 404, 405, 406, 407, 408, 409,\n",
              "       410, 411, 412, 413, 414, 415, 416, 417, 418, 419, 420, 421, 422,\n",
              "       423, 424, 425, 426, 427, 428, 429, 430, 431, 432, 433, 434, 435,\n",
              "       436, 437, 438, 439, 440, 441, 442, 443, 444, 445, 446, 447, 448,\n",
              "       449, 450, 451, 452, 453, 454, 455, 456, 457, 458, 459, 460, 461,\n",
              "       462, 463, 464, 465, 466, 467, 468, 469, 470, 471, 472, 473, 474,\n",
              "       475, 476, 477, 478, 479, 480, 481, 482, 483, 484, 485, 486, 487,\n",
              "       488, 489, 490, 491, 492, 493, 494, 495, 496, 497, 498, 499, 500,\n",
              "       501, 502, 503, 504, 505, 506, 507, 508, 509, 510, 511, 512, 513,\n",
              "       514, 515, 516, 517, 518, 519, 520, 521, 522, 523, 524, 525, 526,\n",
              "       527, 528, 529, 530, 531, 532, 533, 534, 535, 536, 537, 538, 539,\n",
              "       540, 541, 542, 543, 544, 545, 546, 547, 548, 549, 550, 551, 552,\n",
              "       553, 554, 555, 556, 557, 558, 559, 560, 561, 562, 563, 564, 565,\n",
              "       566, 567, 568, 569, 570, 571, 572, 573, 574, 575, 576, 577, 578,\n",
              "       579, 580, 581, 582, 583, 584, 585, 586, 587, 588, 589, 590, 591,\n",
              "       592, 593, 594, 595, 596, 597, 598, 599, 600, 601, 602, 603, 604,\n",
              "       605, 606, 607, 608, 609, 610, 611, 612, 613, 614, 615, 616, 617,\n",
              "       618, 619, 620, 621, 622, 623, 624, 625, 626, 627, 628, 629, 630,\n",
              "       631, 632, 633, 634, 635, 636, 637, 638, 639, 640, 641, 642, 643,\n",
              "       644, 645, 646, 647, 648, 649, 650, 651, 652, 653, 654, 655, 656,\n",
              "       657, 658, 659, 660, 661, 662, 663, 664, 665, 666, 667, 668, 669,\n",
              "       670, 671, 672, 673, 674, 675, 676, 677, 678, 679, 680, 681, 682,\n",
              "       683, 684, 685, 686, 687, 688, 689, 690, 691, 692, 693, 694, 695,\n",
              "       696, 697, 698, 699, 700, 701, 702, 703, 704, 705, 706, 707, 708,\n",
              "       709, 710, 711, 712, 713, 714, 715, 716, 717, 718, 719, 720, 721,\n",
              "       722, 723, 724, 725, 726, 727, 728, 729, 730, 731, 732, 733, 734,\n",
              "       735, 736, 737, 738, 739, 740, 741, 742, 743, 744, 745, 746, 747,\n",
              "       748, 749, 750, 751, 752, 753, 754, 755, 756, 757, 758, 759, 760,\n",
              "       761, 762, 763, 764])"
            ]
          },
          "metadata": {},
          "execution_count": 50
        }
      ]
    },
    {
      "cell_type": "code",
      "metadata": {
        "id": "KtTJl1STgsDg"
      },
      "source": [
        "new = np.sort(new)"
      ],
      "execution_count": null,
      "outputs": []
    },
    {
      "cell_type": "code",
      "metadata": {
        "colab": {
          "base_uri": "https://localhost:8080/"
        },
        "id": "qzHXbZq0omJK",
        "outputId": "95126ee4-b2b5-4ee3-911d-b2694d01ec7d"
      },
      "source": [
        "len(new)"
      ],
      "execution_count": null,
      "outputs": [
        {
          "output_type": "execute_result",
          "data": {
            "text/plain": [
              "459"
            ]
          },
          "metadata": {},
          "execution_count": 44
        }
      ]
    },
    {
      "cell_type": "code",
      "metadata": {
        "colab": {
          "base_uri": "https://localhost:8080/"
        },
        "id": "t8mgw9QeZ20a",
        "outputId": "4823b2d5-d64a-4f66-f9c7-2cd794ccddca"
      },
      "source": [
        "X2, y2 = train_X[[new]], train_y[[new]]\n",
        "X_test, y_test = test_X, test_y\n",
        "model = 'RandomForest'\n",
        "problem = 'classification'\n",
        "num_test = int(num_test/2)\n",
        "directory = './temp'\n",
        "\n",
        "sources = {}\n",
        "group_num = 13\n",
        "num_group = int(len(X2)/13)\n",
        "for i in range(0, len(X2), num_group):\n",
        "    sources[int(i/num_group)] = np.array(list(range(i,i+num_group,1)))\n",
        "sources[int(i/num_group)] = sources[int(i/num_group)][sources[int(i/num_group)] < len(X2)]\n",
        "\n",
        "dshap = DShap(X2, y2, X_test, y_test, num_test, \n",
        "              sources=sources, \n",
        "              sample_weight=None,\n",
        "              model_family=model, \n",
        "              metric='accuracy',\n",
        "              overwrite=True,\n",
        "              directory=directory, seed=0)\n",
        "s = time.time()\n",
        "dshap.run(group_num*3, 0.2)\n",
        "print(time.time() - s)"
      ],
      "execution_count": null,
      "outputs": [
        {
          "output_type": "stream",
          "name": "stderr",
          "text": [
            "/usr/local/lib/python3.7/dist-packages/ipykernel_launcher.py:1: FutureWarning: Using a non-tuple sequence for multidimensional indexing is deprecated; use `arr[tuple(seq)]` instead of `arr[seq]`. In the future this will be interpreted as an array index, `arr[np.array(seq)]`, which will result either in an error or a different result.\n",
            "  \"\"\"Entry point for launching an IPython kernel.\n"
          ]
        },
        {
          "output_type": "stream",
          "name": "stdout",
          "text": [
            "Starting LOO score calculations!\n",
            "LOO values calculated!\n",
            "39 out of 39 TMC_Shapley iterations.\n",
            "39 out of 39 TMC_Shapley iterations.\n",
            "39 out of 39 TMC_Shapley iterations.\n",
            "39 out of 39 TMC_Shapley iterations.\n",
            "39 out of 39 TMC_Shapley iterations.\n",
            "170.01780915260315\n"
          ]
        }
      ]
    },
    {
      "cell_type": "code",
      "metadata": {
        "colab": {
          "base_uri": "https://localhost:8080/"
        },
        "id": "wWG3TRxNfzsz",
        "outputId": "cb0435a5-df6f-4a16-c796-463003477f42"
      },
      "source": [
        "dshap.vals_tmc"
      ],
      "execution_count": null,
      "outputs": [
        {
          "output_type": "execute_result",
          "data": {
            "text/plain": [
              "array([-0.00198511, -0.00198511, -0.00198511, -0.00198511, -0.00198511,\n",
              "       -0.00198511, -0.00198511, -0.00198511, -0.00198511, -0.00198511,\n",
              "       -0.00198511, -0.00198511, -0.00198511, -0.00198511, -0.00198511,\n",
              "       -0.00198511, -0.00198511, -0.00198511, -0.00198511, -0.00198511,\n",
              "       -0.00198511, -0.00198511, -0.00198511, -0.00198511, -0.00198511,\n",
              "       -0.00198511, -0.00198511, -0.00198511, -0.00198511, -0.00198511,\n",
              "       -0.00198511, -0.00198511, -0.00198511, -0.00198511, -0.00198511,\n",
              "       -0.00229706, -0.00229706, -0.00229706, -0.00229706, -0.00229706,\n",
              "       -0.00229706, -0.00229706, -0.00229706, -0.00229706, -0.00229706,\n",
              "       -0.00229706, -0.00229706, -0.00229706, -0.00229706, -0.00229706,\n",
              "       -0.00229706, -0.00229706, -0.00229706, -0.00229706, -0.00229706,\n",
              "       -0.00229706, -0.00229706, -0.00229706, -0.00229706, -0.00229706,\n",
              "       -0.00229706, -0.00229706, -0.00229706, -0.00229706, -0.00229706,\n",
              "       -0.00229706, -0.00229706, -0.00229706, -0.00229706, -0.00229706,\n",
              "       -0.00181969, -0.00181969, -0.00181969, -0.00181969, -0.00181969,\n",
              "       -0.00181969, -0.00181969, -0.00181969, -0.00181969, -0.00181969,\n",
              "       -0.00181969, -0.00181969, -0.00181969, -0.00181969, -0.00181969,\n",
              "       -0.00181969, -0.00181969, -0.00181969, -0.00181969, -0.00181969,\n",
              "       -0.00181969, -0.00181969, -0.00181969, -0.00181969, -0.00181969,\n",
              "       -0.00181969, -0.00181969, -0.00181969, -0.00181969, -0.00181969,\n",
              "       -0.00181969, -0.00181969, -0.00181969, -0.00181969, -0.00181969,\n",
              "       -0.00254283, -0.00254283, -0.00254283, -0.00254283, -0.00254283,\n",
              "       -0.00254283, -0.00254283, -0.00254283, -0.00254283, -0.00254283,\n",
              "       -0.00254283, -0.00254283, -0.00254283, -0.00254283, -0.00254283,\n",
              "       -0.00254283, -0.00254283, -0.00254283, -0.00254283, -0.00254283,\n",
              "       -0.00254283, -0.00254283, -0.00254283, -0.00254283, -0.00254283,\n",
              "       -0.00254283, -0.00254283, -0.00254283, -0.00254283, -0.00254283,\n",
              "       -0.00254283, -0.00254283, -0.00254283, -0.00254283, -0.00254283,\n",
              "       -0.00279806, -0.00279806, -0.00279806, -0.00279806, -0.00279806,\n",
              "       -0.00279806, -0.00279806, -0.00279806, -0.00279806, -0.00279806,\n",
              "       -0.00279806, -0.00279806, -0.00279806, -0.00279806, -0.00279806,\n",
              "       -0.00279806, -0.00279806, -0.00279806, -0.00279806, -0.00279806,\n",
              "       -0.00279806, -0.00279806, -0.00279806, -0.00279806, -0.00279806,\n",
              "       -0.00279806, -0.00279806, -0.00279806, -0.00279806, -0.00279806,\n",
              "       -0.00279806, -0.00279806, -0.00279806, -0.00279806, -0.00279806,\n",
              "       -0.00238213, -0.00238213, -0.00238213, -0.00238213, -0.00238213,\n",
              "       -0.00238213, -0.00238213, -0.00238213, -0.00238213, -0.00238213,\n",
              "       -0.00238213, -0.00238213, -0.00238213, -0.00238213, -0.00238213,\n",
              "       -0.00238213, -0.00238213, -0.00238213, -0.00238213, -0.00238213,\n",
              "       -0.00238213, -0.00238213, -0.00238213, -0.00238213, -0.00238213,\n",
              "       -0.00238213, -0.00238213, -0.00238213, -0.00238213, -0.00238213,\n",
              "       -0.00238213, -0.00238213, -0.00238213, -0.00238213, -0.00238213,\n",
              "       -0.00207964, -0.00207964, -0.00207964, -0.00207964, -0.00207964,\n",
              "       -0.00207964, -0.00207964, -0.00207964, -0.00207964, -0.00207964,\n",
              "       -0.00207964, -0.00207964, -0.00207964, -0.00207964, -0.00207964,\n",
              "       -0.00207964, -0.00207964, -0.00207964, -0.00207964, -0.00207964,\n",
              "       -0.00207964, -0.00207964, -0.00207964, -0.00207964, -0.00207964,\n",
              "       -0.00207964, -0.00207964, -0.00207964, -0.00207964, -0.00207964,\n",
              "       -0.00207964, -0.00207964, -0.00207964, -0.00207964, -0.00207964,\n",
              "       -0.00234432, -0.00234432, -0.00234432, -0.00234432, -0.00234432,\n",
              "       -0.00234432, -0.00234432, -0.00234432, -0.00234432, -0.00234432,\n",
              "       -0.00234432, -0.00234432, -0.00234432, -0.00234432, -0.00234432,\n",
              "       -0.00234432, -0.00234432, -0.00234432, -0.00234432, -0.00234432,\n",
              "       -0.00234432, -0.00234432, -0.00234432, -0.00234432, -0.00234432,\n",
              "       -0.00234432, -0.00234432, -0.00234432, -0.00234432, -0.00234432,\n",
              "       -0.00234432, -0.00234432, -0.00234432, -0.00234432, -0.00234432,\n",
              "       -0.00209382, -0.00209382, -0.00209382, -0.00209382, -0.00209382,\n",
              "       -0.00209382, -0.00209382, -0.00209382, -0.00209382, -0.00209382,\n",
              "       -0.00209382, -0.00209382, -0.00209382, -0.00209382, -0.00209382,\n",
              "       -0.00209382, -0.00209382, -0.00209382, -0.00209382, -0.00209382,\n",
              "       -0.00209382, -0.00209382, -0.00209382, -0.00209382, -0.00209382,\n",
              "       -0.00209382, -0.00209382, -0.00209382, -0.00209382, -0.00209382,\n",
              "       -0.00209382, -0.00209382, -0.00209382, -0.00209382, -0.00209382,\n",
              "       -0.00183859, -0.00183859, -0.00183859, -0.00183859, -0.00183859,\n",
              "       -0.00183859, -0.00183859, -0.00183859, -0.00183859, -0.00183859,\n",
              "       -0.00183859, -0.00183859, -0.00183859, -0.00183859, -0.00183859,\n",
              "       -0.00183859, -0.00183859, -0.00183859, -0.00183859, -0.00183859,\n",
              "       -0.00183859, -0.00183859, -0.00183859, -0.00183859, -0.00183859,\n",
              "       -0.00183859, -0.00183859, -0.00183859, -0.00183859, -0.00183859,\n",
              "       -0.00183859, -0.00183859, -0.00183859, -0.00183859, -0.00183859,\n",
              "        0.00038757,  0.00038757,  0.00038757,  0.00038757,  0.00038757,\n",
              "        0.00038757,  0.00038757,  0.00038757,  0.00038757,  0.00038757,\n",
              "        0.00038757,  0.00038757,  0.00038757,  0.00038757,  0.00038757,\n",
              "        0.00038757,  0.00038757,  0.00038757,  0.00038757,  0.00038757,\n",
              "        0.00038757,  0.00038757,  0.00038757,  0.00038757,  0.00038757,\n",
              "        0.00038757,  0.00038757,  0.00038757,  0.00038757,  0.00038757,\n",
              "        0.00038757,  0.00038757,  0.00038757,  0.00038757,  0.00038757,\n",
              "        0.00386624,  0.00386624,  0.00386624,  0.00386624,  0.00386624,\n",
              "        0.00386624,  0.00386624,  0.00386624,  0.00386624,  0.00386624,\n",
              "        0.00386624,  0.00386624,  0.00386624,  0.00386624,  0.00386624,\n",
              "        0.00386624,  0.00386624,  0.00386624,  0.00386624,  0.00386624,\n",
              "        0.00386624,  0.00386624,  0.00386624,  0.00386624,  0.00386624,\n",
              "        0.00386624,  0.00386624,  0.00386624,  0.00386624,  0.00386624,\n",
              "        0.00386624,  0.00386624,  0.00386624,  0.00386624,  0.00386624,\n",
              "        0.00269408,  0.00269408,  0.00269408,  0.00269408,  0.00269408,\n",
              "        0.00269408,  0.00269408,  0.00269408,  0.00269408,  0.00269408,\n",
              "        0.00269408,  0.00269408,  0.00269408,  0.00269408,  0.00269408,\n",
              "        0.00269408,  0.00269408,  0.00269408,  0.00269408,  0.00269408,\n",
              "        0.00269408,  0.00269408,  0.00269408,  0.00269408,  0.00269408,\n",
              "        0.00269408,  0.00269408,  0.00269408,  0.00269408,  0.00269408,\n",
              "        0.00269408,  0.00269408,  0.00269408,  0.00269408,  0.00269408,\n",
              "        0.00599669,  0.00599669,  0.00599669,  0.00599669])"
            ]
          },
          "metadata": {},
          "execution_count": 41
        }
      ]
    },
    {
      "cell_type": "code",
      "metadata": {
        "id": "M2x8wy3KpCyJ"
      },
      "source": [
        "fpd = pd.array(dshap.vals_tmc)"
      ],
      "execution_count": null,
      "outputs": []
    },
    {
      "cell_type": "code",
      "metadata": {
        "colab": {
          "base_uri": "https://localhost:8080/"
        },
        "id": "C2WtZPTqpFyT",
        "outputId": "9bb6f171-4d62-4910-ba8d-6002096d28f2"
      },
      "source": [
        "fpd[fpd>0]"
      ],
      "execution_count": null,
      "outputs": [
        {
          "output_type": "execute_result",
          "data": {
            "text/plain": [
              "<PandasArray>\n",
              "[0.0003875694198274846, 0.0003875694198274846, 0.0003875694198274846,\n",
              " 0.0003875694198274846, 0.0003875694198274846, 0.0003875694198274846,\n",
              " 0.0003875694198274846, 0.0003875694198274846, 0.0003875694198274846,\n",
              " 0.0003875694198274846,\n",
              " ...\n",
              "  0.002694080113434953,  0.002694080113434953,  0.002694080113434953,\n",
              "  0.002694080113434953,  0.002694080113434953,  0.002694080113434953,\n",
              "  0.005996691480562445,  0.005996691480562445,  0.005996691480562445,\n",
              "  0.005996691480562445]\n",
              "Length: 109, dtype: float64"
            ]
          },
          "metadata": {},
          "execution_count": 47
        }
      ]
    },
    {
      "cell_type": "code",
      "metadata": {
        "colab": {
          "base_uri": "https://localhost:8080/"
        },
        "id": "HJJWNvtmpHpH",
        "outputId": "2ae72dea-dc42-4289-e519-73c6ae5e78c7"
      },
      "source": [
        "print(one_train_perfor(X2, test_X, y2, test_y))"
      ],
      "execution_count": null,
      "outputs": [
        {
          "output_type": "stream",
          "name": "stdout",
          "text": [
            "0.0465\n"
          ]
        }
      ]
    },
    {
      "cell_type": "code",
      "metadata": {
        "id": "nWTj3Pdrvfxc"
      },
      "source": [
        "print(one_train_perfor(X2, test_X, y2, test_y))"
      ],
      "execution_count": null,
      "outputs": []
    }
  ]
}